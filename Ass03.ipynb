{
  "nbformat": 4,
  "nbformat_minor": 0,
  "metadata": {
    "colab": {
      "name": "Ass03.ipynb",
      "provenance": [],
      "authorship_tag": "ABX9TyNJ7W4reX8j7EXhpHUmj8Ww",
      "include_colab_link": true
    },
    "kernelspec": {
      "name": "python3",
      "display_name": "Python 3"
    },
    "accelerator": "GPU"
  },
  "cells": [
    {
      "cell_type": "markdown",
      "metadata": {
        "id": "view-in-github",
        "colab_type": "text"
      },
      "source": [
        "<a href=\"https://colab.research.google.com/github/MhdsHosseini/Deep_Learning_F20_Assignments/blob/master/Ass03.ipynb\" target=\"_parent\"><img src=\"https://colab.research.google.com/assets/colab-badge.svg\" alt=\"Open In Colab\"/></a>"
      ]
    },
    {
      "cell_type": "markdown",
      "metadata": {
        "id": "IFFLYwGLLDhz"
      },
      "source": [
        "**Assignment 03**\n",
        "\n",
        "Mahdis Hosseini"
      ]
    },
    {
      "cell_type": "code",
      "metadata": {
        "id": "vg_U0HZgK90k"
      },
      "source": [
        "import numpy as np\n",
        "import torch\n",
        "import h5py"
      ],
      "execution_count": 2,
      "outputs": []
    },
    {
      "cell_type": "markdown",
      "metadata": {
        "id": "WCdzA2SrLVZb"
      },
      "source": [
        "Creat Tensors"
      ]
    },
    {
      "cell_type": "code",
      "metadata": {
        "id": "AV5fSuQoLZaK"
      },
      "source": [
        "T33=torch.rand(3,3, dtype=torch.float)\n",
        "T44=torch.rand(4,4, dtype=torch.double)\n",
        "T534=torch.randint(0, 200, (5, 3, 4), dtype=torch.short)"
      ],
      "execution_count": 13,
      "outputs": []
    },
    {
      "cell_type": "markdown",
      "metadata": {
        "id": "xIUbe7PGLyTY"
      },
      "source": [
        "Change Elements"
      ]
    },
    {
      "cell_type": "code",
      "metadata": {
        "id": "i5rlMOT6L3Oy",
        "outputId": "47193174-dc40-4d0c-fa45-354d1f0ed894",
        "colab": {
          "base_uri": "https://localhost:8080/",
          "height": 69
        }
      },
      "source": [
        "T33=T33.cuda()\n",
        "T33=T33*0.1\n",
        "T33"
      ],
      "execution_count": 14,
      "outputs": [
        {
          "output_type": "execute_result",
          "data": {
            "text/plain": [
              "tensor([[0.0286, 0.0207, 0.0570],\n",
              "        [0.0612, 0.0007, 0.0792],\n",
              "        [0.0180, 0.0162, 0.0212]], device='cuda:0')"
            ]
          },
          "metadata": {
            "tags": []
          },
          "execution_count": 14
        }
      ]
    },
    {
      "cell_type": "code",
      "metadata": {
        "id": "9aK7mqGTOCq3",
        "outputId": "bd55593d-5dc4-4189-d0ca-7c4e5e4c158b",
        "colab": {
          "base_uri": "https://localhost:8080/",
          "height": 104
        }
      },
      "source": [
        "T44=T44.cuda()\n",
        "T44=1-T44\n",
        "T44"
      ],
      "execution_count": 15,
      "outputs": [
        {
          "output_type": "execute_result",
          "data": {
            "text/plain": [
              "tensor([[0.9107, 0.1771, 0.1989, 0.4533],\n",
              "        [0.1430, 0.1852, 0.6440, 0.8556],\n",
              "        [0.2672, 0.7937, 0.0943, 0.0035],\n",
              "        [0.7597, 0.9319, 0.3917, 0.1545]], device='cuda:0',\n",
              "       dtype=torch.float64)"
            ]
          },
          "metadata": {
            "tags": []
          },
          "execution_count": 15
        }
      ]
    },
    {
      "cell_type": "code",
      "metadata": {
        "id": "6O8lmHe5OI3x",
        "outputId": "2e4c4db9-8d8a-4604-edb7-68006f3af443",
        "colab": {
          "base_uri": "https://localhost:8080/",
          "height": 347
        }
      },
      "source": [
        "T534=T534.cuda()\n",
        "T534=T534*2\n",
        "T534"
      ],
      "execution_count": 16,
      "outputs": [
        {
          "output_type": "execute_result",
          "data": {
            "text/plain": [
              "tensor([[[ 24, 246, 306, 252],\n",
              "         [298, 220, 360, 270],\n",
              "         [398, 342, 170,  40]],\n",
              "\n",
              "        [[332, 382, 260, 318],\n",
              "         [220, 168, 302, 306],\n",
              "         [272, 236, 392, 372]],\n",
              "\n",
              "        [[340, 304, 238,  96],\n",
              "         [228,  46,  70,  44],\n",
              "         [218,   4,  64, 334]],\n",
              "\n",
              "        [[322, 272,  28, 166],\n",
              "         [254,  88,  88,  94],\n",
              "         [344, 226, 244,  94]],\n",
              "\n",
              "        [[  8, 230, 340, 116],\n",
              "         [178, 258, 156, 144],\n",
              "         [302, 108, 224, 140]]], device='cuda:0', dtype=torch.int16)"
            ]
          },
          "metadata": {
            "tags": []
          },
          "execution_count": 16
        }
      ]
    },
    {
      "cell_type": "markdown",
      "metadata": {
        "id": "1275gH44QNS0"
      },
      "source": [
        "Transpose"
      ]
    },
    {
      "cell_type": "code",
      "metadata": {
        "id": "qLkeqGc1OfwE",
        "outputId": "16abbf58-ed08-4639-f2c3-c89c5643861e",
        "colab": {
          "base_uri": "https://localhost:8080/",
          "height": 69
        }
      },
      "source": [
        "T33Trans=T33.t()\n",
        "T33Trans"
      ],
      "execution_count": 18,
      "outputs": [
        {
          "output_type": "execute_result",
          "data": {
            "text/plain": [
              "tensor([[0.0286, 0.0612, 0.0180],\n",
              "        [0.0207, 0.0007, 0.0162],\n",
              "        [0.0570, 0.0792, 0.0212]], device='cuda:0')"
            ]
          },
          "metadata": {
            "tags": []
          },
          "execution_count": 18
        }
      ]
    },
    {
      "cell_type": "code",
      "metadata": {
        "id": "OCQQvJOuRT9m",
        "outputId": "9f0493b7-e5ca-4e32-a4a3-24c28dccb0f5",
        "colab": {
          "base_uri": "https://localhost:8080/",
          "height": 104
        }
      },
      "source": [
        "T44Trans=T44.t()\n",
        "T44Trans"
      ],
      "execution_count": 19,
      "outputs": [
        {
          "output_type": "execute_result",
          "data": {
            "text/plain": [
              "tensor([[0.9107, 0.1430, 0.2672, 0.7597],\n",
              "        [0.1771, 0.1852, 0.7937, 0.9319],\n",
              "        [0.1989, 0.6440, 0.0943, 0.3917],\n",
              "        [0.4533, 0.8556, 0.0035, 0.1545]], device='cuda:0',\n",
              "       dtype=torch.float64)"
            ]
          },
          "metadata": {
            "tags": []
          },
          "execution_count": 19
        }
      ]
    },
    {
      "cell_type": "code",
      "metadata": {
        "id": "Q1Dl0ITqRUO_",
        "outputId": "05ec3e46-5a61-44a6-cb84-62ede69a802a",
        "colab": {
          "base_uri": "https://localhost:8080/",
          "height": 312
        }
      },
      "source": [
        "T534Trans=T534.transpose(1,0)\n",
        "T534Trans"
      ],
      "execution_count": 21,
      "outputs": [
        {
          "output_type": "execute_result",
          "data": {
            "text/plain": [
              "tensor([[[ 24, 246, 306, 252],\n",
              "         [332, 382, 260, 318],\n",
              "         [340, 304, 238,  96],\n",
              "         [322, 272,  28, 166],\n",
              "         [  8, 230, 340, 116]],\n",
              "\n",
              "        [[298, 220, 360, 270],\n",
              "         [220, 168, 302, 306],\n",
              "         [228,  46,  70,  44],\n",
              "         [254,  88,  88,  94],\n",
              "         [178, 258, 156, 144]],\n",
              "\n",
              "        [[398, 342, 170,  40],\n",
              "         [272, 236, 392, 372],\n",
              "         [218,   4,  64, 334],\n",
              "         [344, 226, 244,  94],\n",
              "         [302, 108, 224, 140]]], device='cuda:0', dtype=torch.int16)"
            ]
          },
          "metadata": {
            "tags": []
          },
          "execution_count": 21
        }
      ]
    },
    {
      "cell_type": "markdown",
      "metadata": {
        "id": "HKQ0nyz-SR3c"
      },
      "source": [
        "Display the Orders and Use Storage"
      ]
    },
    {
      "cell_type": "code",
      "metadata": {
        "id": "RKc33GalSTID",
        "outputId": "99d1fcee-6f8d-473d-e416-c5fd80ae2bb8",
        "colab": {
          "base_uri": "https://localhost:8080/",
          "height": 260
        }
      },
      "source": [
        "print(T33.storage())\n",
        "print(T33.storage_offset())\n",
        "print(T33.contiguous())"
      ],
      "execution_count": 29,
      "outputs": [
        {
          "output_type": "stream",
          "text": [
            " 0.02857831120491028\n",
            " 0.020671159029006958\n",
            " 0.05703965947031975\n",
            " 0.061197198927402496\n",
            " 0.0006930530071258545\n",
            " 0.07916804403066635\n",
            " 0.018004221841692924\n",
            " 0.016237778589129448\n",
            " 0.021210109815001488\n",
            "[torch.cuda.FloatStorage of size 9]\n",
            "0\n",
            "tensor([[0.0286, 0.0207, 0.0570],\n",
            "        [0.0612, 0.0007, 0.0792],\n",
            "        [0.0180, 0.0162, 0.0212]], device='cuda:0')\n"
          ],
          "name": "stdout"
        }
      ]
    },
    {
      "cell_type": "code",
      "metadata": {
        "id": "FFadryUQU7aB",
        "outputId": "a21ca838-a461-456e-fcea-754b3525d015",
        "colab": {
          "base_uri": "https://localhost:8080/",
          "height": 260
        }
      },
      "source": [
        "print(T33Trans.storage())\n",
        "print(T33Trans.storage_offset())\n",
        "print(T33Trans.contiguous())"
      ],
      "execution_count": 31,
      "outputs": [
        {
          "output_type": "stream",
          "text": [
            " 0.02857831120491028\n",
            " 0.020671159029006958\n",
            " 0.05703965947031975\n",
            " 0.061197198927402496\n",
            " 0.0006930530071258545\n",
            " 0.07916804403066635\n",
            " 0.018004221841692924\n",
            " 0.016237778589129448\n",
            " 0.021210109815001488\n",
            "[torch.cuda.FloatStorage of size 9]\n",
            "0\n",
            "tensor([[0.0286, 0.0612, 0.0180],\n",
            "        [0.0207, 0.0007, 0.0162],\n",
            "        [0.0570, 0.0792, 0.0212]], device='cuda:0')\n"
          ],
          "name": "stdout"
        }
      ]
    },
    {
      "cell_type": "code",
      "metadata": {
        "id": "5ZXl5MuYVpr7",
        "outputId": "682966dc-5b94-413a-9775-a5a7f72b653d",
        "colab": {
          "base_uri": "https://localhost:8080/",
          "height": 416
        }
      },
      "source": [
        "print(T44.storage())\n",
        "print(T44.storage_offset())\n",
        "print(T44.contiguous())"
      ],
      "execution_count": 32,
      "outputs": [
        {
          "output_type": "stream",
          "text": [
            " 0.9106708299141228\n",
            " 0.17706399367129966\n",
            " 0.1989255129329608\n",
            " 0.45334090393083215\n",
            " 0.14304185563113936\n",
            " 0.1851902924279527\n",
            " 0.6440308857626625\n",
            " 0.8555994707599824\n",
            " 0.26724500543839214\n",
            " 0.7937350247330439\n",
            " 0.09430915004040952\n",
            " 0.0035106081617334306\n",
            " 0.7597487038899776\n",
            " 0.9319391039677039\n",
            " 0.3916523186781462\n",
            " 0.15451103513613318\n",
            "[torch.cuda.DoubleStorage of size 16]\n",
            "0\n",
            "tensor([[0.9107, 0.1771, 0.1989, 0.4533],\n",
            "        [0.1430, 0.1852, 0.6440, 0.8556],\n",
            "        [0.2672, 0.7937, 0.0943, 0.0035],\n",
            "        [0.7597, 0.9319, 0.3917, 0.1545]], device='cuda:0',\n",
            "       dtype=torch.float64)\n"
          ],
          "name": "stdout"
        }
      ]
    },
    {
      "cell_type": "code",
      "metadata": {
        "id": "UrzfTbZxVtlq",
        "outputId": "3780fed8-4471-410f-8d18-0282cce61d3f",
        "colab": {
          "base_uri": "https://localhost:8080/",
          "height": 416
        }
      },
      "source": [
        "print(T44Trans.storage())\n",
        "print(T44Trans.storage_offset())\n",
        "print(T44Trans.contiguous())"
      ],
      "execution_count": 33,
      "outputs": [
        {
          "output_type": "stream",
          "text": [
            " 0.9106708299141228\n",
            " 0.17706399367129966\n",
            " 0.1989255129329608\n",
            " 0.45334090393083215\n",
            " 0.14304185563113936\n",
            " 0.1851902924279527\n",
            " 0.6440308857626625\n",
            " 0.8555994707599824\n",
            " 0.26724500543839214\n",
            " 0.7937350247330439\n",
            " 0.09430915004040952\n",
            " 0.0035106081617334306\n",
            " 0.7597487038899776\n",
            " 0.9319391039677039\n",
            " 0.3916523186781462\n",
            " 0.15451103513613318\n",
            "[torch.cuda.DoubleStorage of size 16]\n",
            "0\n",
            "tensor([[0.9107, 0.1430, 0.2672, 0.7597],\n",
            "        [0.1771, 0.1852, 0.7937, 0.9319],\n",
            "        [0.1989, 0.6440, 0.0943, 0.3917],\n",
            "        [0.4533, 0.8556, 0.0035, 0.1545]], device='cuda:0',\n",
            "       dtype=torch.float64)\n"
          ],
          "name": "stdout"
        }
      ]
    },
    {
      "cell_type": "code",
      "metadata": {
        "id": "ERn1juoyVt2v",
        "outputId": "8f7267f4-f42a-46bf-d06c-6235ab31921b",
        "colab": {
          "base_uri": "https://localhost:8080/",
          "height": 1000
        }
      },
      "source": [
        "print(T534.storage())\n",
        "print(T534.storage_offset())\n",
        "print(T534.contiguous())"
      ],
      "execution_count": 34,
      "outputs": [
        {
          "output_type": "stream",
          "text": [
            " 24\n",
            " 246\n",
            " 306\n",
            " 252\n",
            " 298\n",
            " 220\n",
            " 360\n",
            " 270\n",
            " 398\n",
            " 342\n",
            " 170\n",
            " 40\n",
            " 332\n",
            " 382\n",
            " 260\n",
            " 318\n",
            " 220\n",
            " 168\n",
            " 302\n",
            " 306\n",
            " 272\n",
            " 236\n",
            " 392\n",
            " 372\n",
            " 340\n",
            " 304\n",
            " 238\n",
            " 96\n",
            " 228\n",
            " 46\n",
            " 70\n",
            " 44\n",
            " 218\n",
            " 4\n",
            " 64\n",
            " 334\n",
            " 322\n",
            " 272\n",
            " 28\n",
            " 166\n",
            " 254\n",
            " 88\n",
            " 88\n",
            " 94\n",
            " 344\n",
            " 226\n",
            " 244\n",
            " 94\n",
            " 8\n",
            " 230\n",
            " 340\n",
            " 116\n",
            " 178\n",
            " 258\n",
            " 156\n",
            " 144\n",
            " 302\n",
            " 108\n",
            " 224\n",
            " 140\n",
            "[torch.cuda.ShortStorage of size 60]\n",
            "0\n",
            "tensor([[[ 24, 246, 306, 252],\n",
            "         [298, 220, 360, 270],\n",
            "         [398, 342, 170,  40]],\n",
            "\n",
            "        [[332, 382, 260, 318],\n",
            "         [220, 168, 302, 306],\n",
            "         [272, 236, 392, 372]],\n",
            "\n",
            "        [[340, 304, 238,  96],\n",
            "         [228,  46,  70,  44],\n",
            "         [218,   4,  64, 334]],\n",
            "\n",
            "        [[322, 272,  28, 166],\n",
            "         [254,  88,  88,  94],\n",
            "         [344, 226, 244,  94]],\n",
            "\n",
            "        [[  8, 230, 340, 116],\n",
            "         [178, 258, 156, 144],\n",
            "         [302, 108, 224, 140]]], device='cuda:0', dtype=torch.int16)\n"
          ],
          "name": "stdout"
        }
      ]
    },
    {
      "cell_type": "code",
      "metadata": {
        "id": "5mxgznqPVuB_",
        "outputId": "9abf29bd-e0a5-430b-a019-1b7f871f1308",
        "colab": {
          "base_uri": "https://localhost:8080/",
          "height": 1000
        }
      },
      "source": [
        "print(T534Trans.storage())\n",
        "print(T534Trans.storage_offset())\n",
        "print(T534Trans.contiguous())"
      ],
      "execution_count": 35,
      "outputs": [
        {
          "output_type": "stream",
          "text": [
            " 24\n",
            " 246\n",
            " 306\n",
            " 252\n",
            " 298\n",
            " 220\n",
            " 360\n",
            " 270\n",
            " 398\n",
            " 342\n",
            " 170\n",
            " 40\n",
            " 332\n",
            " 382\n",
            " 260\n",
            " 318\n",
            " 220\n",
            " 168\n",
            " 302\n",
            " 306\n",
            " 272\n",
            " 236\n",
            " 392\n",
            " 372\n",
            " 340\n",
            " 304\n",
            " 238\n",
            " 96\n",
            " 228\n",
            " 46\n",
            " 70\n",
            " 44\n",
            " 218\n",
            " 4\n",
            " 64\n",
            " 334\n",
            " 322\n",
            " 272\n",
            " 28\n",
            " 166\n",
            " 254\n",
            " 88\n",
            " 88\n",
            " 94\n",
            " 344\n",
            " 226\n",
            " 244\n",
            " 94\n",
            " 8\n",
            " 230\n",
            " 340\n",
            " 116\n",
            " 178\n",
            " 258\n",
            " 156\n",
            " 144\n",
            " 302\n",
            " 108\n",
            " 224\n",
            " 140\n",
            "[torch.cuda.ShortStorage of size 60]\n",
            "0\n",
            "tensor([[[ 24, 246, 306, 252],\n",
            "         [332, 382, 260, 318],\n",
            "         [340, 304, 238,  96],\n",
            "         [322, 272,  28, 166],\n",
            "         [  8, 230, 340, 116]],\n",
            "\n",
            "        [[298, 220, 360, 270],\n",
            "         [220, 168, 302, 306],\n",
            "         [228,  46,  70,  44],\n",
            "         [254,  88,  88,  94],\n",
            "         [178, 258, 156, 144]],\n",
            "\n",
            "        [[398, 342, 170,  40],\n",
            "         [272, 236, 392, 372],\n",
            "         [218,   4,  64, 334],\n",
            "         [344, 226, 244,  94],\n",
            "         [302, 108, 224, 140]]], device='cuda:0', dtype=torch.int16)\n"
          ],
          "name": "stdout"
        }
      ]
    },
    {
      "cell_type": "markdown",
      "metadata": {
        "id": "qBo94Z4bWk8c"
      },
      "source": [
        "Save Using Torch and h5py"
      ]
    },
    {
      "cell_type": "code",
      "metadata": {
        "id": "ECjcLm3-am9E",
        "outputId": "82562620-6b27-4d0a-8bc2-e64565424ddc",
        "colab": {
          "base_uri": "https://localhost:8080/",
          "height": 69
        }
      },
      "source": [
        "torch.save(T33,\"file1.pt\")\n",
        "torch.load(\"file1.pt\")"
      ],
      "execution_count": 45,
      "outputs": [
        {
          "output_type": "execute_result",
          "data": {
            "text/plain": [
              "tensor([[0.0286, 0.0207, 0.0570],\n",
              "        [0.0612, 0.0007, 0.0792],\n",
              "        [0.0180, 0.0162, 0.0212]], device='cuda:0')"
            ]
          },
          "metadata": {
            "tags": []
          },
          "execution_count": 45
        }
      ]
    },
    {
      "cell_type": "code",
      "metadata": {
        "id": "blQB1rE6glxf"
      },
      "source": [
        "#with h5py.File(\"mytestfile.hdf5\", \"w\") as f:\n",
        " #  dset = f.create_dataset(\"mydataset\", )"
      ],
      "execution_count": null,
      "outputs": []
    },
    {
      "cell_type": "markdown",
      "metadata": {
        "id": "GJTckEmDfzPl"
      },
      "source": [
        "The Diffrence"
      ]
    },
    {
      "cell_type": "code",
      "metadata": {
        "id": "_qe-R8n-fs7g"
      },
      "source": [
        "a=torch.rand((2,2))\n",
        "b=torch.rand((2,2),requires_grad=True)\n",
        "c=torch.rand((2,2))"
      ],
      "execution_count": 3,
      "outputs": []
    },
    {
      "cell_type": "code",
      "metadata": {
        "id": "UscaTfodf2Hb",
        "outputId": "8ad2edf3-b99a-49f5-e5e5-9ab03c3d0f15",
        "colab": {
          "base_uri": "https://localhost:8080/",
          "height": 35
        }
      },
      "source": [
        "S=a+b\n",
        "S.requires_grad"
      ],
      "execution_count": 4,
      "outputs": [
        {
          "output_type": "execute_result",
          "data": {
            "text/plain": [
              "True"
            ]
          },
          "metadata": {
            "tags": []
          },
          "execution_count": 4
        }
      ]
    },
    {
      "cell_type": "code",
      "metadata": {
        "id": "es6IUL6Xf5pF",
        "outputId": "ee86cdb3-f063-4dcd-9dc6-b23a145213f0",
        "colab": {
          "base_uri": "https://localhost:8080/",
          "height": 35
        }
      },
      "source": [
        "S2=a+b\n",
        "S2.requires_grad"
      ],
      "execution_count": 5,
      "outputs": [
        {
          "output_type": "execute_result",
          "data": {
            "text/plain": [
              "True"
            ]
          },
          "metadata": {
            "tags": []
          },
          "execution_count": 5
        }
      ]
    }
  ]
}