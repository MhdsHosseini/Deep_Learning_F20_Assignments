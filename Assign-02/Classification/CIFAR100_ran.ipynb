{
  "nbformat": 4,
  "nbformat_minor": 0,
  "metadata": {
    "accelerator": "GPU",
    "colab": {
      "name": "CIFAR100_1.ipynb",
      "provenance": [],
      "collapsed_sections": []
    },
    "kernelspec": {
      "display_name": "Python 3",
      "language": "python",
      "name": "python3"
    },
    "language_info": {
      "codemirror_mode": {
        "name": "ipython",
        "version": 3
      },
      "file_extension": ".py",
      "mimetype": "text/x-python",
      "name": "python",
      "nbconvert_exporter": "python",
      "pygments_lexer": "ipython3",
      "version": "3.7.7"
    },
    "widgets": {
      "application/vnd.jupyter.widget-state+json": {
        "e15be6a5493946b9979526a7d02a1fab": {
          "model_module": "@jupyter-widgets/controls",
          "model_name": "HBoxModel",
          "state": {
            "_view_name": "HBoxView",
            "_dom_classes": [],
            "_model_name": "HBoxModel",
            "_view_module": "@jupyter-widgets/controls",
            "_model_module_version": "1.5.0",
            "_view_count": null,
            "_view_module_version": "1.5.0",
            "box_style": "",
            "layout": "IPY_MODEL_e331535bec544b80834fe293d153c450",
            "_model_module": "@jupyter-widgets/controls",
            "children": [
              "IPY_MODEL_5581cfcb8ceb4051b0eef60013bfd255",
              "IPY_MODEL_ddaa08ac35e4409ebb472e5f2a9ffb4f"
            ]
          }
        },
        "e331535bec544b80834fe293d153c450": {
          "model_module": "@jupyter-widgets/base",
          "model_name": "LayoutModel",
          "state": {
            "_view_name": "LayoutView",
            "grid_template_rows": null,
            "right": null,
            "justify_content": null,
            "_view_module": "@jupyter-widgets/base",
            "overflow": null,
            "_model_module_version": "1.2.0",
            "_view_count": null,
            "flex_flow": null,
            "width": null,
            "min_width": null,
            "border": null,
            "align_items": null,
            "bottom": null,
            "_model_module": "@jupyter-widgets/base",
            "top": null,
            "grid_column": null,
            "overflow_y": null,
            "overflow_x": null,
            "grid_auto_flow": null,
            "grid_area": null,
            "grid_template_columns": null,
            "flex": null,
            "_model_name": "LayoutModel",
            "justify_items": null,
            "grid_row": null,
            "max_height": null,
            "align_content": null,
            "visibility": null,
            "align_self": null,
            "height": null,
            "min_height": null,
            "padding": null,
            "grid_auto_rows": null,
            "grid_gap": null,
            "max_width": null,
            "order": null,
            "_view_module_version": "1.2.0",
            "grid_template_areas": null,
            "object_position": null,
            "object_fit": null,
            "grid_auto_columns": null,
            "margin": null,
            "display": null,
            "left": null
          }
        },
        "5581cfcb8ceb4051b0eef60013bfd255": {
          "model_module": "@jupyter-widgets/controls",
          "model_name": "FloatProgressModel",
          "state": {
            "_view_name": "ProgressView",
            "style": "IPY_MODEL_b21e0cefab20402cb7ee71f89d45a25d",
            "_dom_classes": [],
            "description": "",
            "_model_name": "FloatProgressModel",
            "bar_style": "info",
            "max": 1,
            "_view_module": "@jupyter-widgets/controls",
            "_model_module_version": "1.5.0",
            "value": 1,
            "_view_count": null,
            "_view_module_version": "1.5.0",
            "orientation": "horizontal",
            "min": 0,
            "description_tooltip": null,
            "_model_module": "@jupyter-widgets/controls",
            "layout": "IPY_MODEL_82941a306b52490abeae6a3247125e6c"
          }
        },
        "ddaa08ac35e4409ebb472e5f2a9ffb4f": {
          "model_module": "@jupyter-widgets/controls",
          "model_name": "HTMLModel",
          "state": {
            "_view_name": "HTMLView",
            "style": "IPY_MODEL_00bcc8939a884e60935228cac09afbe1",
            "_dom_classes": [],
            "description": "",
            "_model_name": "HTMLModel",
            "placeholder": "​",
            "_view_module": "@jupyter-widgets/controls",
            "_model_module_version": "1.5.0",
            "value": " 169009152/? [00:20&lt;00:00, 98048804.20it/s]",
            "_view_count": null,
            "_view_module_version": "1.5.0",
            "description_tooltip": null,
            "_model_module": "@jupyter-widgets/controls",
            "layout": "IPY_MODEL_b7ec666dab7940cfbc96d5331a0e6384"
          }
        },
        "b21e0cefab20402cb7ee71f89d45a25d": {
          "model_module": "@jupyter-widgets/controls",
          "model_name": "ProgressStyleModel",
          "state": {
            "_view_name": "StyleView",
            "_model_name": "ProgressStyleModel",
            "description_width": "initial",
            "_view_module": "@jupyter-widgets/base",
            "_model_module_version": "1.5.0",
            "_view_count": null,
            "_view_module_version": "1.2.0",
            "bar_color": null,
            "_model_module": "@jupyter-widgets/controls"
          }
        },
        "82941a306b52490abeae6a3247125e6c": {
          "model_module": "@jupyter-widgets/base",
          "model_name": "LayoutModel",
          "state": {
            "_view_name": "LayoutView",
            "grid_template_rows": null,
            "right": null,
            "justify_content": null,
            "_view_module": "@jupyter-widgets/base",
            "overflow": null,
            "_model_module_version": "1.2.0",
            "_view_count": null,
            "flex_flow": null,
            "width": null,
            "min_width": null,
            "border": null,
            "align_items": null,
            "bottom": null,
            "_model_module": "@jupyter-widgets/base",
            "top": null,
            "grid_column": null,
            "overflow_y": null,
            "overflow_x": null,
            "grid_auto_flow": null,
            "grid_area": null,
            "grid_template_columns": null,
            "flex": null,
            "_model_name": "LayoutModel",
            "justify_items": null,
            "grid_row": null,
            "max_height": null,
            "align_content": null,
            "visibility": null,
            "align_self": null,
            "height": null,
            "min_height": null,
            "padding": null,
            "grid_auto_rows": null,
            "grid_gap": null,
            "max_width": null,
            "order": null,
            "_view_module_version": "1.2.0",
            "grid_template_areas": null,
            "object_position": null,
            "object_fit": null,
            "grid_auto_columns": null,
            "margin": null,
            "display": null,
            "left": null
          }
        },
        "00bcc8939a884e60935228cac09afbe1": {
          "model_module": "@jupyter-widgets/controls",
          "model_name": "DescriptionStyleModel",
          "state": {
            "_view_name": "StyleView",
            "_model_name": "DescriptionStyleModel",
            "description_width": "",
            "_view_module": "@jupyter-widgets/base",
            "_model_module_version": "1.5.0",
            "_view_count": null,
            "_view_module_version": "1.2.0",
            "_model_module": "@jupyter-widgets/controls"
          }
        },
        "b7ec666dab7940cfbc96d5331a0e6384": {
          "model_module": "@jupyter-widgets/base",
          "model_name": "LayoutModel",
          "state": {
            "_view_name": "LayoutView",
            "grid_template_rows": null,
            "right": null,
            "justify_content": null,
            "_view_module": "@jupyter-widgets/base",
            "overflow": null,
            "_model_module_version": "1.2.0",
            "_view_count": null,
            "flex_flow": null,
            "width": null,
            "min_width": null,
            "border": null,
            "align_items": null,
            "bottom": null,
            "_model_module": "@jupyter-widgets/base",
            "top": null,
            "grid_column": null,
            "overflow_y": null,
            "overflow_x": null,
            "grid_auto_flow": null,
            "grid_area": null,
            "grid_template_columns": null,
            "flex": null,
            "_model_name": "LayoutModel",
            "justify_items": null,
            "grid_row": null,
            "max_height": null,
            "align_content": null,
            "visibility": null,
            "align_self": null,
            "height": null,
            "min_height": null,
            "padding": null,
            "grid_auto_rows": null,
            "grid_gap": null,
            "max_width": null,
            "order": null,
            "_view_module_version": "1.2.0",
            "grid_template_areas": null,
            "object_position": null,
            "object_fit": null,
            "grid_auto_columns": null,
            "margin": null,
            "display": null,
            "left": null
          }
        }
      }
    }
  },
  "cells": [
    {
      "cell_type": "markdown",
      "metadata": {
        "id": "0nYQqaK8TQHG"
      },
      "source": [
        "MH"
      ]
    },
    {
      "cell_type": "markdown",
      "metadata": {
        "id": "I4kWnkgyTQHL"
      },
      "source": [
        "Train neural network models (at least two different networks for each dataset, i.e., no. layers, no. neurons, activation, ...) in either Tensorflow or Pytorch to perform classification on the following datasets:\n",
        "\n",
        "Cifar-100"
      ]
    },
    {
      "cell_type": "code",
      "metadata": {
        "id": "DOorW6XQTQHP",
        "outputId": "f530a8c5-af1a-415b-f083-55b5ea5e6a30",
        "colab": {
          "base_uri": "https://localhost:8080/",
          "height": 34
        }
      },
      "source": [
        "import torch\n",
        "import torch.nn as nn\n",
        "import torch.nn.functional as F\n",
        "import torchvision\n",
        "import torchvision.transforms as transforms\n",
        " \n",
        "import numpy as np\n",
        "import PIL\n",
        "import matplotlib.pyplot as mtplt\n",
        " \n",
        "print(\"imported!\")"
      ],
      "execution_count": 1,
      "outputs": [
        {
          "output_type": "stream",
          "text": [
            "imported!\n"
          ],
          "name": "stdout"
        }
      ]
    },
    {
      "cell_type": "markdown",
      "metadata": {
        "id": "25otVEtgTQHh"
      },
      "source": [
        "Import data:"
      ]
    },
    {
      "cell_type": "markdown",
      "metadata": {
        "id": "7uHmMxepDVFa"
      },
      "source": [
        "Download and extract the data, then rename to cifar-10:"
      ]
    },
    {
      "cell_type": "code",
      "metadata": {
        "id": "4z_mJpLIVyEP",
        "outputId": "8ad461fd-99cc-4a5a-8cf6-8cb371c47332",
        "colab": {
          "base_uri": "https://localhost:8080/",
          "height": 152,
          "referenced_widgets": [
            "e15be6a5493946b9979526a7d02a1fab",
            "e331535bec544b80834fe293d153c450",
            "5581cfcb8ceb4051b0eef60013bfd255",
            "ddaa08ac35e4409ebb472e5f2a9ffb4f",
            "b21e0cefab20402cb7ee71f89d45a25d",
            "82941a306b52490abeae6a3247125e6c",
            "00bcc8939a884e60935228cac09afbe1",
            "b7ec666dab7940cfbc96d5331a0e6384"
          ]
        }
      },
      "source": [
        " torchvision.datasets.CIFAR100(root='./data', train=True,\n",
        "                                        download=True)"
      ],
      "execution_count": 2,
      "outputs": [
        {
          "output_type": "stream",
          "text": [
            "Downloading https://www.cs.toronto.edu/~kriz/cifar-100-python.tar.gz to ./data/cifar-100-python.tar.gz\n"
          ],
          "name": "stdout"
        },
        {
          "output_type": "display_data",
          "data": {
            "application/vnd.jupyter.widget-view+json": {
              "model_id": "e15be6a5493946b9979526a7d02a1fab",
              "version_minor": 0,
              "version_major": 2
            },
            "text/plain": [
              "HBox(children=(FloatProgress(value=1.0, bar_style='info', max=1.0), HTML(value='')))"
            ]
          },
          "metadata": {
            "tags": []
          }
        },
        {
          "output_type": "stream",
          "text": [
            "Extracting ./data/cifar-100-python.tar.gz to ./data\n"
          ],
          "name": "stdout"
        },
        {
          "output_type": "execute_result",
          "data": {
            "text/plain": [
              "Dataset CIFAR100\n",
              "    Number of datapoints: 50000\n",
              "    Root location: ./data\n",
              "    Split: Train"
            ]
          },
          "metadata": {
            "tags": []
          },
          "execution_count": 2
        }
      ]
    },
    {
      "cell_type": "markdown",
      "metadata": {
        "id": "VCfzfIoqDydD"
      },
      "source": [
        "Create a dataset with manual import using pickle's unpickle:"
      ]
    },
    {
      "cell_type": "code",
      "metadata": {
        "id": "AAuuoFonTQJu"
      },
      "source": [
        "from PIL import Image\n",
        "import os\n",
        "import os.path\n",
        "import numpy as np\n",
        "import pickle\n",
        "from typing import Any, Callable, Optional, Tuple\n",
        " \n",
        "class CIFAR100(torchvision.datasets.vision.VisionDataset):\n",
        "    base_folder = 'cifar-100'\n",
        "    train_list = [\n",
        "        'train',\n",
        "    ]\n",
        " \n",
        "    test_list = [\n",
        "        'test',\n",
        "    ]\n",
        "    meta = {\n",
        "        'filename': 'meta',\n",
        "        'key': 'fine_label_names',\n",
        "        'key2': 'coarse_label_names'\n",
        "    }\n",
        " \n",
        "    def __init__(\n",
        "            self,\n",
        "            root: str,\n",
        "            train: bool = True,\n",
        "            transform: Optional[Callable] = None,\n",
        "            target_transform: Optional[Callable] = None\n",
        "    ) -> None:\n",
        " \n",
        "        super(CIFAR100, self).__init__(root, transform=transform,\n",
        "                                      target_transform=target_transform)\n",
        " \n",
        "        self.train = train  # training set or test set\n",
        " \n",
        "        if self.train:\n",
        "            the_list = self.train_list\n",
        "        else:\n",
        "            the_list = self.test_list\n",
        " \n",
        "        self.data: Any = []\n",
        "        self.targets = []\n",
        " \n",
        "        # now load the picked numpy arrays\n",
        "        for file_name in the_list:\n",
        "            file_path = os.path.join(self.root, self.base_folder, file_name)\n",
        "            import pickle\n",
        "            with open(file_path, 'rb') as f:\n",
        "                entry = pickle.load(f, encoding='latin1')\n",
        "                self.data.append(entry['data'])\n",
        "                if 'fine_labels' in entry:\n",
        "                    self.targets.extend(entry['fine_labels'])\n",
        " \n",
        "        self.data = np.vstack(self.data).reshape(-1, 3, 32, 32)\n",
        "        self.data = self.data.transpose((0, 2, 3, 1))  # convert to HWC\n",
        " \n",
        "        self._load_meta()\n",
        " \n",
        "    def _load_meta(self) -> None:\n",
        "        path = os.path.join(self.root, self.base_folder, self.meta['filename'])\n",
        "        import pickle\n",
        "        with open(path, 'rb') as infile:\n",
        "            data = pickle.load(infile, encoding='latin1')\n",
        "            self.classes = data[self.meta['key']]\n",
        "        self.class_to_idx = {_class: i for i, _class in enumerate(self.classes)}\n",
        " \n",
        "    def __getitem__(self, index: int) -> Tuple[Any, Any]:\n",
        "        \"\"\"\n",
        "        Args:\n",
        "            index (int): Index\n",
        "        Returns:\n",
        "            tuple: (image, target) where target is index of the target class.\n",
        "        \"\"\"\n",
        "        img, target = self.data[index], self.targets[index]\n",
        " \n",
        "        # doing this so that it is consistent with all other datasets\n",
        "        # to return a PIL Image\n",
        "        img = Image.fromarray(img)\n",
        " \n",
        "        if self.transform is not None:\n",
        "            img = self.transform(img)\n",
        " \n",
        "        if self.target_transform is not None:\n",
        "            target = self.target_transform(target)\n",
        " \n",
        "        return img, target\n",
        " \n",
        "    def __len__(self) -> int:\n",
        "        return len(self.data)\n",
        " \n",
        "    def extra_repr(self) -> str:\n",
        "        return \"Split: {}\".format(\"Train\" if self.train is True else \"Test\")"
      ],
      "execution_count": 3,
      "outputs": []
    },
    {
      "cell_type": "markdown",
      "metadata": {
        "id": "jnrGub1qEAMB"
      },
      "source": [
        "Load training and test set and loaders using the previous custom dataset, then applying a normalization transform with mean and std of 0.5 for 3 channels:"
      ]
    },
    {
      "cell_type": "code",
      "metadata": {
        "id": "5q0S6HJ_TQJ5"
      },
      "source": [
        "transf = transforms.Compose(\n",
        "    [transforms.ToTensor(),\n",
        "     transforms.Normalize((0.5, 0.5, 0.5), (0.5, 0.5, 0.5))])\n",
        " \n",
        "train_set = CIFAR100(root='./data', train=True, transform=transf)\n",
        "test_set = CIFAR100(root='./data', train=False, transform=transf)\n",
        " \n",
        "train_loader = torch.utils.data.DataLoader(train_set, batch_size=64,\n",
        "                                          shuffle=True, num_workers=2)\n",
        "test_loader = torch.utils.data.DataLoader(test_set, batch_size=64,\n",
        "                                         shuffle=False, num_workers=2)\n",
        " \n",
        "train_set._load_meta()\n",
        "classes = train_set.classes"
      ],
      "execution_count": 4,
      "outputs": []
    },
    {
      "cell_type": "markdown",
      "metadata": {
        "id": "WyonT-6n-9qH"
      },
      "source": [
        "Show some images:"
      ]
    },
    {
      "cell_type": "code",
      "metadata": {
        "id": "Gg1mj94j-9qJ",
        "outputId": "91edcf59-1f02-4965-9f76-1c50c955aafc",
        "colab": {
          "base_uri": "https://localhost:8080/",
          "height": 138
        }
      },
      "source": [
        "# functions to show an image\n",
        "def imshow(img):\n",
        "    img = img / 2 + 0.5     # unnormalize\n",
        "    npimg = img.numpy()\n",
        "    mtplt.imshow(np.transpose(npimg, (1, 2, 0)))\n",
        "    mtplt.show()\n",
        "\n",
        "\n",
        "# get some random training images\n",
        "dataiter = iter(train_loader)\n",
        "images, labels = dataiter.next()\n",
        "\n",
        "# show images\n",
        "imshow(torchvision.utils.make_grid(images[0:5]))\n",
        "\n",
        "print('classes: ', ' '.join('%5s' % classes[labels[j]] for j in range(5)))"
      ],
      "execution_count": 5,
      "outputs": [
        {
          "output_type": "display_data",
          "data": {
            "image/png": "[encoded data removed]",
            "text/plain": [
              "<Figure size 432x288 with 1 Axes>"
            ]
          },
          "metadata": {
            "tags": [],
            "needs_background": "light"
          }
        },
        {
          "output_type": "stream",
          "text": [
            "classes:  willow_tree couch maple_tree  baby lobster\n"
          ],
          "name": "stdout"
        }
      ]
    },
    {
      "cell_type": "markdown",
      "metadata": {
        "id": "DmyMmMxoTQKD"
      },
      "source": [
        "Define two networks, one using a simple multi-layer fully-connected network and one using convolutional layers (CNN):"
      ]
    },
    {
      "cell_type": "code",
      "metadata": {
        "id": "1pdMj1piTQKF"
      },
      "source": [
        "import torch.nn as nn\n",
        "import torch.nn.functional as F\n",
        "\n",
        "class Net(nn.Module):\n",
        "    def __init__(self):\n",
        "        super(Net, self).__init__()\n",
        "        self.conv1 = nn.Conv2d(3, 32, 5)\n",
        "        self.pool = nn.MaxPool2d(2, 2)\n",
        "        self.drop = nn.Dropout(0.2)\n",
        "        self.conv2 = nn.Conv2d(32, 64, 3)\n",
        "        self.flat = nn.Flatten()\n",
        "        self.fc1 = nn.Linear(64 * 6 * 6, 196)\n",
        "        self.fc2 = nn.Linear(196, 128)\n",
        "        self.out = nn.Linear(128, 100)\n",
        "\n",
        "    def forward(self, x):\n",
        "        x = self.pool(F.relu(self.conv1(x)))\n",
        "        x = self.drop(x)\n",
        "        x = self.pool(F.relu(self.conv2(x)))\n",
        "        x = x.view(x.size(0), -1)\n",
        "        x = F.relu(self.fc1(x))\n",
        "        x = F.relu(self.fc2(x))\n",
        "        x = self.drop(x)\n",
        "        x = self.out(x)\n",
        "        return x\n",
        "\n",
        "\n",
        "net = Net()"
      ],
      "execution_count": 6,
      "outputs": []
    },
    {
      "cell_type": "code",
      "metadata": {
        "id": "Ik2wwVQdTjlz"
      },
      "source": [
        "import torch.nn.functional as F\n",
        "\n",
        "class Net2(nn.Module):\n",
        "    def __init__(self):\n",
        "        super(Net2, self).__init__()\n",
        "        self.linear1 = nn.Linear(3*32*32, 3072)\n",
        "        self.linear2 = nn.Linear(3072, 1024)\n",
        "        self.linear3 = nn.Linear(1024, 512)\n",
        "        self.linear4 = nn.Linear(512, 256)\n",
        "        self.linear5 = nn.Linear(256, 100)\n",
        "        \n",
        "    def forward(self, xb):\n",
        "        # Flatten images into vectors\n",
        "        out = xb.view(xb.size(0), -1)\n",
        "        out = self.linear1(out)\n",
        "        out = F.relu(out)\n",
        "        out = self.linear2(out)\n",
        "        out = F.relu(out)\n",
        "        out = self.linear3(out)\n",
        "        out = F.relu(out)\n",
        "        out = self.linear4(out)\n",
        "        out = F.relu(out)\n",
        "        out = self.linear5(out)\n",
        "        return out\n",
        "net2 = Net2()"
      ],
      "execution_count": 7,
      "outputs": []
    },
    {
      "cell_type": "markdown",
      "metadata": {
        "id": "UmkmVq_PTQKR"
      },
      "source": [
        "Define a Loss function and optimizer"
      ]
    },
    {
      "cell_type": "code",
      "metadata": {
        "id": "Yc780seuTQKT"
      },
      "source": [
        "import torch.optim as optim\n",
        "\n",
        "criterion = nn.CrossEntropyLoss()\n",
        "optimizer = optim.SGD(net.parameters(), lr=0.001, momentum=0.9)"
      ],
      "execution_count": 8,
      "outputs": []
    },
    {
      "cell_type": "code",
      "metadata": {
        "id": "L1iqB51xdOt5"
      },
      "source": [
        "import torch.optim as optim\n",
        "\n",
        "criterion2 = nn.CrossEntropyLoss()\n",
        "optimizer2 = optim.SGD(net2.parameters(), lr=0.0015, momentum=0.8)"
      ],
      "execution_count": 9,
      "outputs": []
    },
    {
      "cell_type": "markdown",
      "metadata": {
        "id": "dW-WISEBTQKf"
      },
      "source": [
        "Train the network\n",
        "\n",
        "This is when things start to get interesting. We simply have to loop over our data iterator, and feed the inputs to the network and optimize"
      ]
    },
    {
      "cell_type": "code",
      "metadata": {
        "id": "TAe3dmljTQKg",
        "outputId": "97eb849b-4b43-4731-cf69-b398b982d782",
        "colab": {
          "base_uri": "https://localhost:8080/",
          "height": 34
        }
      },
      "source": [
        "device = torch.device(\"cuda:0\" if torch.cuda.is_available() else \"cpu\")\n",
        " \n",
        "# Assuming that we are on a CUDA machine, this should print a CUDA device:\n",
        " \n",
        "print(device)"
      ],
      "execution_count": 10,
      "outputs": [
        {
          "output_type": "stream",
          "text": [
            "cuda:0\n"
          ],
          "name": "stdout"
        }
      ]
    },
    {
      "cell_type": "code",
      "metadata": {
        "id": "iQdRX1sDTQKq",
        "outputId": "549f7b5c-03eb-4ec8-b054-6a31dd9120ea",
        "colab": {
          "base_uri": "https://localhost:8080/",
          "height": 188
        }
      },
      "source": [
        "net.to(device)"
      ],
      "execution_count": 11,
      "outputs": [
        {
          "output_type": "execute_result",
          "data": {
            "text/plain": [
              "Net(\n",
              "  (conv1): Conv2d(3, 32, kernel_size=(5, 5), stride=(1, 1))\n",
              "  (pool): MaxPool2d(kernel_size=2, stride=2, padding=0, dilation=1, ceil_mode=False)\n",
              "  (drop): Dropout(p=0.2, inplace=False)\n",
              "  (conv2): Conv2d(32, 64, kernel_size=(3, 3), stride=(1, 1))\n",
              "  (flat): Flatten()\n",
              "  (fc1): Linear(in_features=2304, out_features=196, bias=True)\n",
              "  (fc2): Linear(in_features=196, out_features=128, bias=True)\n",
              "  (out): Linear(in_features=128, out_features=100, bias=True)\n",
              ")"
            ]
          },
          "metadata": {
            "tags": []
          },
          "execution_count": 11
        }
      ]
    },
    {
      "cell_type": "code",
      "metadata": {
        "id": "ugiBizTnTQK6",
        "outputId": "9b286dc1-b524-4409-da08-5ad38a765c57",
        "colab": {
          "base_uri": "https://localhost:8080/",
          "height": 1000
        }
      },
      "source": [
        "from torch.autograd import Variable\n",
        "\n",
        "epochs=30\n",
        "\n",
        "# for later visualiztions:\n",
        "loss_list = []\n",
        "iteration_list = []\n",
        "accuracy_list = []\n",
        "\n",
        "for epoch in range(epochs):  # loop over the dataset multiple times\n",
        "    running_loss = 0.0\n",
        "    for i, data in enumerate(train_loader, 0):\n",
        "        # get the inputs; data is a list of [inputs, labels]\n",
        "        \n",
        "        inputs, labels = data[0].to(device), data[1].to(device)\n",
        "\n",
        "        # zero the parameter gradients\n",
        "        optimizer.zero_grad()\n",
        "\n",
        "        # forward + backward + optimize\n",
        "        outputs = net(inputs)\n",
        "        loss = criterion(outputs, labels)\n",
        "        loss.backward()\n",
        "        optimizer.step()\n",
        "\n",
        "        \n",
        "        # Testing the model\n",
        "        if not (i % 50):\n",
        "            total = 0\n",
        "            correct = 0\n",
        "        \n",
        "            for images, label in test_loader:\n",
        "                images, label = images.to(device), label.to(device)\n",
        "            \n",
        "                # test = Variable(images.view(16, 3, 32, 32))\n",
        "                test = images\n",
        "            \n",
        "                output = net(test)\n",
        "            \n",
        "                predictions = torch.max(output, 1)[1].to(device)\n",
        "                correct += (predictions == label).sum()\n",
        "            \n",
        "                total += len(label)\n",
        "            \n",
        "            accuracy = (correct * 100.0) / total\n",
        "            loss_list.append(loss.data)\n",
        "            iteration_list.append(i)\n",
        "            accuracy_list.append(accuracy)\n",
        "\n",
        "        # print statistics\n",
        "        running_loss += loss.item()\n",
        "        if not (i % 100):    # print every 100 mini-batches\n",
        "            \n",
        "            print('[%d, %5d] loss: %.3f' %\n",
        "                  (epoch + 1, i, running_loss / 100))\n",
        "            running_loss = 0.0\n",
        "            \n",
        "            print(\"Epoch: {}, Step: {}, Loss: {}, Accuracy: {} %\"\n",
        "              .format(epoch + 1, i, loss.data, accuracy)\n",
        "            )\n",
        "\n",
        "print('Finished Training')"
      ],
      "execution_count": 12,
      "outputs": [
        {
          "output_type": "stream",
          "text": [
            "[1,     0] loss: 0.046\n",
            "Epoch: 1, Step: 0, Loss: 4.6142964363098145, Accuracy: 1.0099999904632568 %\n",
            "[1,   100] loss: 4.608\n",
            "Epoch: 1, Step: 100, Loss: 4.602290630340576, Accuracy: 1.0099999904632568 %\n",
            "[1,   200] loss: 4.605\n",
            "Epoch: 1, Step: 200, Loss: 4.608185768127441, Accuracy: 0.9699999690055847 %\n",
            "[1,   300] loss: 4.606\n",
            "Epoch: 1, Step: 300, Loss: 4.604353427886963, Accuracy: 1.0199999809265137 %\n",
            "[1,   400] loss: 4.604\n",
            "Epoch: 1, Step: 400, Loss: 4.604758262634277, Accuracy: 1.1399999856948853 %\n",
            "[1,   500] loss: 4.605\n",
            "Epoch: 1, Step: 500, Loss: 4.602938175201416, Accuracy: 1.059999942779541 %\n",
            "[1,   600] loss: 4.602\n",
            "Epoch: 1, Step: 600, Loss: 4.598315715789795, Accuracy: 1.3399999141693115 %\n",
            "[1,   700] loss: 4.603\n",
            "Epoch: 1, Step: 700, Loss: 4.598538875579834, Accuracy: 1.5099999904632568 %\n",
            "[2,     0] loss: 0.046\n",
            "Epoch: 2, Step: 0, Loss: 4.602548122406006, Accuracy: 1.7999999523162842 %\n",
            "[2,   100] loss: 4.599\n",
            "Epoch: 2, Step: 100, Loss: 4.594335556030273, Accuracy: 1.7299998998641968 %\n",
            "[2,   200] loss: 4.599\n",
            "Epoch: 2, Step: 200, Loss: 4.6115946769714355, Accuracy: 1.959999918937683 %\n",
            "[2,   300] loss: 4.596\n",
            "Epoch: 2, Step: 300, Loss: 4.584383010864258, Accuracy: 1.959999918937683 %\n",
            "[2,   400] loss: 4.593\n",
            "Epoch: 2, Step: 400, Loss: 4.588691711425781, Accuracy: 1.809999942779541 %\n",
            "[2,   500] loss: 4.593\n",
            "Epoch: 2, Step: 500, Loss: 4.611268043518066, Accuracy: 1.9399999380111694 %\n",
            "[2,   600] loss: 4.587\n",
            "Epoch: 2, Step: 600, Loss: 4.577697277069092, Accuracy: 2.069999933242798 %\n",
            "[2,   700] loss: 4.582\n",
            "Epoch: 2, Step: 700, Loss: 4.56883430480957, Accuracy: 2.1399998664855957 %\n",
            "[3,     0] loss: 0.046\n",
            "Epoch: 3, Step: 0, Loss: 4.563244342803955, Accuracy: 2.2699999809265137 %\n",
            "[3,   100] loss: 4.565\n",
            "Epoch: 3, Step: 100, Loss: 4.570317268371582, Accuracy: 2.549999952316284 %\n",
            "[3,   200] loss: 4.556\n",
            "Epoch: 3, Step: 200, Loss: 4.545778751373291, Accuracy: 2.75 %\n",
            "[3,   300] loss: 4.530\n",
            "Epoch: 3, Step: 300, Loss: 4.517650604248047, Accuracy: 2.609999895095825 %\n",
            "[3,   400] loss: 4.508\n",
            "Epoch: 3, Step: 400, Loss: 4.504391193389893, Accuracy: 3.069999933242798 %\n",
            "[3,   500] loss: 4.482\n",
            "Epoch: 3, Step: 500, Loss: 4.489622116088867, Accuracy: 3.2799999713897705 %\n",
            "[3,   600] loss: 4.432\n",
            "Epoch: 3, Step: 600, Loss: 4.485057830810547, Accuracy: 3.429999828338623 %\n",
            "[3,   700] loss: 4.389\n",
            "Epoch: 3, Step: 700, Loss: 4.346992015838623, Accuracy: 4.059999942779541 %\n",
            "[4,     0] loss: 0.043\n",
            "Epoch: 4, Step: 0, Loss: 4.349737167358398, Accuracy: 4.460000038146973 %\n",
            "[4,   100] loss: 4.321\n",
            "Epoch: 4, Step: 100, Loss: 4.2858123779296875, Accuracy: 4.389999866485596 %\n",
            "[4,   200] loss: 4.276\n",
            "Epoch: 4, Step: 200, Loss: 4.325605869293213, Accuracy: 5.319999694824219 %\n",
            "[4,   300] loss: 4.250\n",
            "Epoch: 4, Step: 300, Loss: 4.146789073944092, Accuracy: 5.759999752044678 %\n",
            "[4,   400] loss: 4.206\n",
            "Epoch: 4, Step: 400, Loss: 4.148437976837158, Accuracy: 5.989999771118164 %\n",
            "[4,   500] loss: 4.169\n",
            "Epoch: 4, Step: 500, Loss: 4.018967628479004, Accuracy: 6.339999675750732 %\n",
            "[4,   600] loss: 4.147\n",
            "Epoch: 4, Step: 600, Loss: 4.027948379516602, Accuracy: 6.690000057220459 %\n",
            "[4,   700] loss: 4.140\n",
            "Epoch: 4, Step: 700, Loss: 4.280700206756592, Accuracy: 7.069999694824219 %\n",
            "[5,     0] loss: 0.042\n",
            "Epoch: 5, Step: 0, Loss: 4.188111782073975, Accuracy: 7.549999713897705 %\n",
            "[5,   100] loss: 4.085\n",
            "Epoch: 5, Step: 100, Loss: 3.887758731842041, Accuracy: 7.329999923706055 %\n",
            "[5,   200] loss: 4.071\n",
            "Epoch: 5, Step: 200, Loss: 4.075161457061768, Accuracy: 7.669999599456787 %\n",
            "[5,   300] loss: 4.047\n",
            "Epoch: 5, Step: 300, Loss: 4.0072150230407715, Accuracy: 7.939999580383301 %\n",
            "[5,   400] loss: 4.031\n",
            "Epoch: 5, Step: 400, Loss: 3.9301226139068604, Accuracy: 7.889999866485596 %\n",
            "[5,   500] loss: 4.022\n",
            "Epoch: 5, Step: 500, Loss: 3.9663074016571045, Accuracy: 8.460000038146973 %\n",
            "[5,   600] loss: 4.018\n",
            "Epoch: 5, Step: 600, Loss: 3.703843832015991, Accuracy: 8.789999961853027 %\n",
            "[5,   700] loss: 3.996\n",
            "Epoch: 5, Step: 700, Loss: 4.012589454650879, Accuracy: 8.489999771118164 %\n",
            "[6,     0] loss: 0.040\n",
            "Epoch: 6, Step: 0, Loss: 3.9616200923919678, Accuracy: 9.569999694824219 %\n",
            "[6,   100] loss: 3.960\n",
            "Epoch: 6, Step: 100, Loss: 4.007124900817871, Accuracy: 9.260000228881836 %\n",
            "[6,   200] loss: 3.933\n",
            "Epoch: 6, Step: 200, Loss: 3.821895122528076, Accuracy: 9.5 %\n",
            "[6,   300] loss: 3.953\n",
            "Epoch: 6, Step: 300, Loss: 3.7823541164398193, Accuracy: 9.809999465942383 %\n",
            "[6,   400] loss: 3.925\n",
            "Epoch: 6, Step: 400, Loss: 4.215504169464111, Accuracy: 9.469999313354492 %\n",
            "[6,   500] loss: 3.933\n",
            "Epoch: 6, Step: 500, Loss: 3.910950183868408, Accuracy: 10.09000015258789 %\n",
            "[6,   600] loss: 3.911\n",
            "Epoch: 6, Step: 600, Loss: 3.782600164413452, Accuracy: 10.550000190734863 %\n",
            "[6,   700] loss: 3.889\n",
            "Epoch: 6, Step: 700, Loss: 3.836366653442383, Accuracy: 10.369999885559082 %\n",
            "[7,     0] loss: 0.039\n",
            "Epoch: 7, Step: 0, Loss: 3.8514158725738525, Accuracy: 10.869999885559082 %\n",
            "[7,   100] loss: 3.865\n",
            "Epoch: 7, Step: 100, Loss: 4.0275750160217285, Accuracy: 11.119999885559082 %\n",
            "[7,   200] loss: 3.857\n",
            "Epoch: 7, Step: 200, Loss: 3.6423916816711426, Accuracy: 11.019999504089355 %\n",
            "[7,   300] loss: 3.837\n",
            "Epoch: 7, Step: 300, Loss: 3.7400951385498047, Accuracy: 11.429999351501465 %\n",
            "[7,   400] loss: 3.837\n",
            "Epoch: 7, Step: 400, Loss: 3.8999099731445312, Accuracy: 11.479999542236328 %\n",
            "[7,   500] loss: 3.837\n",
            "Epoch: 7, Step: 500, Loss: 3.8421549797058105, Accuracy: 11.429999351501465 %\n",
            "[7,   600] loss: 3.822\n",
            "Epoch: 7, Step: 600, Loss: 3.8054842948913574, Accuracy: 12.049999237060547 %\n",
            "[7,   700] loss: 3.800\n",
            "Epoch: 7, Step: 700, Loss: 3.926452875137329, Accuracy: 12.630000114440918 %\n",
            "[8,     0] loss: 0.038\n",
            "Epoch: 8, Step: 0, Loss: 3.8399341106414795, Accuracy: 12.309999465942383 %\n",
            "[8,   100] loss: 3.796\n",
            "Epoch: 8, Step: 100, Loss: 3.695261001586914, Accuracy: 12.40999984741211 %\n",
            "[8,   200] loss: 3.742\n",
            "Epoch: 8, Step: 200, Loss: 3.766879081726074, Accuracy: 12.710000038146973 %\n",
            "[8,   300] loss: 3.737\n",
            "Epoch: 8, Step: 300, Loss: 3.5852882862091064, Accuracy: 13.170000076293945 %\n",
            "[8,   400] loss: 3.732\n",
            "Epoch: 8, Step: 400, Loss: 3.7360498905181885, Accuracy: 13.679999351501465 %\n",
            "[8,   500] loss: 3.756\n",
            "Epoch: 8, Step: 500, Loss: 3.6850194931030273, Accuracy: 13.5 %\n",
            "[8,   600] loss: 3.726\n",
            "Epoch: 8, Step: 600, Loss: 3.5868966579437256, Accuracy: 13.489999771118164 %\n",
            "[8,   700] loss: 3.701\n",
            "Epoch: 8, Step: 700, Loss: 3.608537435531616, Accuracy: 13.949999809265137 %\n",
            "[9,     0] loss: 0.035\n",
            "Epoch: 9, Step: 0, Loss: 3.543823480606079, Accuracy: 14.219999313354492 %\n",
            "[9,   100] loss: 3.680\n",
            "Epoch: 9, Step: 100, Loss: 3.5117504596710205, Accuracy: 13.949999809265137 %\n",
            "[9,   200] loss: 3.643\n",
            "Epoch: 9, Step: 200, Loss: 3.574554443359375, Accuracy: 14.34999942779541 %\n",
            "[9,   300] loss: 3.681\n",
            "Epoch: 9, Step: 300, Loss: 3.794693946838379, Accuracy: 14.359999656677246 %\n",
            "[9,   400] loss: 3.634\n",
            "Epoch: 9, Step: 400, Loss: 3.8490092754364014, Accuracy: 14.199999809265137 %\n",
            "[9,   500] loss: 3.637\n",
            "Epoch: 9, Step: 500, Loss: 3.7765307426452637, Accuracy: 14.710000038146973 %\n",
            "[9,   600] loss: 3.654\n",
            "Epoch: 9, Step: 600, Loss: 3.7700273990631104, Accuracy: 15.089999198913574 %\n",
            "[9,   700] loss: 3.619\n",
            "Epoch: 9, Step: 700, Loss: 3.619379997253418, Accuracy: 15.079999923706055 %\n",
            "[10,     0] loss: 0.038\n",
            "Epoch: 10, Step: 0, Loss: 3.8032238483428955, Accuracy: 14.989999771118164 %\n",
            "[10,   100] loss: 3.603\n",
            "Epoch: 10, Step: 100, Loss: 3.598055839538574, Accuracy: 15.779999732971191 %\n",
            "[10,   200] loss: 3.590\n",
            "Epoch: 10, Step: 200, Loss: 3.5225982666015625, Accuracy: 15.229999542236328 %\n",
            "[10,   300] loss: 3.596\n",
            "Epoch: 10, Step: 300, Loss: 3.737934112548828, Accuracy: 15.889999389648438 %\n",
            "[10,   400] loss: 3.549\n",
            "Epoch: 10, Step: 400, Loss: 3.6168010234832764, Accuracy: 16.25 %\n",
            "[10,   500] loss: 3.590\n",
            "Epoch: 10, Step: 500, Loss: 3.4072000980377197, Accuracy: 16.6299991607666 %\n",
            "[10,   600] loss: 3.564\n",
            "Epoch: 10, Step: 600, Loss: 3.5817813873291016, Accuracy: 16.6299991607666 %\n",
            "[10,   700] loss: 3.536\n",
            "Epoch: 10, Step: 700, Loss: 3.5179460048675537, Accuracy: 16.689998626708984 %\n",
            "[11,     0] loss: 0.038\n",
            "Epoch: 11, Step: 0, Loss: 3.755068778991699, Accuracy: 16.479999542236328 %\n",
            "[11,   100] loss: 3.527\n",
            "Epoch: 11, Step: 100, Loss: 3.440023183822632, Accuracy: 16.479999542236328 %\n",
            "[11,   200] loss: 3.506\n",
            "Epoch: 11, Step: 200, Loss: 3.7390384674072266, Accuracy: 17.149999618530273 %\n",
            "[11,   300] loss: 3.492\n",
            "Epoch: 11, Step: 300, Loss: 3.4952406883239746, Accuracy: 16.709999084472656 %\n",
            "[11,   400] loss: 3.499\n",
            "Epoch: 11, Step: 400, Loss: 3.912193536758423, Accuracy: 17.059999465942383 %\n",
            "[11,   500] loss: 3.524\n",
            "Epoch: 11, Step: 500, Loss: 3.45088529586792, Accuracy: 16.56999969482422 %\n",
            "[11,   600] loss: 3.472\n",
            "Epoch: 11, Step: 600, Loss: 3.408801555633545, Accuracy: 17.299999237060547 %\n",
            "[11,   700] loss: 3.458\n",
            "Epoch: 11, Step: 700, Loss: 3.4978837966918945, Accuracy: 17.779998779296875 %\n",
            "[12,     0] loss: 0.035\n",
            "Epoch: 12, Step: 0, Loss: 3.5056569576263428, Accuracy: 17.6299991607666 %\n",
            "[12,   100] loss: 3.430\n",
            "Epoch: 12, Step: 100, Loss: 3.5798869132995605, Accuracy: 17.770000457763672 %\n",
            "[12,   200] loss: 3.414\n",
            "Epoch: 12, Step: 200, Loss: 3.1879570484161377, Accuracy: 17.760000228881836 %\n",
            "[12,   300] loss: 3.433\n",
            "Epoch: 12, Step: 300, Loss: 3.4124162197113037, Accuracy: 17.889999389648438 %\n",
            "[12,   400] loss: 3.443\n",
            "Epoch: 12, Step: 400, Loss: 3.603938341140747, Accuracy: 17.739999771118164 %\n",
            "[12,   500] loss: 3.420\n",
            "Epoch: 12, Step: 500, Loss: 3.6007087230682373, Accuracy: 17.899999618530273 %\n",
            "[12,   600] loss: 3.434\n",
            "Epoch: 12, Step: 600, Loss: 3.069916009902954, Accuracy: 17.899999618530273 %\n",
            "[12,   700] loss: 3.422\n",
            "Epoch: 12, Step: 700, Loss: 3.846297025680542, Accuracy: 18.0 %\n",
            "[13,     0] loss: 0.035\n",
            "Epoch: 13, Step: 0, Loss: 3.491234302520752, Accuracy: 18.709999084472656 %\n",
            "[13,   100] loss: 3.382\n",
            "Epoch: 13, Step: 100, Loss: 3.2753758430480957, Accuracy: 19.010000228881836 %\n",
            "[13,   200] loss: 3.364\n",
            "Epoch: 13, Step: 200, Loss: 3.6228084564208984, Accuracy: 19.06999969482422 %\n",
            "[13,   300] loss: 3.388\n",
            "Epoch: 13, Step: 300, Loss: 3.1657373905181885, Accuracy: 18.309999465942383 %\n",
            "[13,   400] loss: 3.384\n",
            "Epoch: 13, Step: 400, Loss: 3.5012176036834717, Accuracy: 19.239999771118164 %\n",
            "[13,   500] loss: 3.373\n",
            "Epoch: 13, Step: 500, Loss: 3.5881507396698, Accuracy: 18.94999885559082 %\n",
            "[13,   600] loss: 3.366\n",
            "Epoch: 13, Step: 600, Loss: 3.363304853439331, Accuracy: 18.68000030517578 %\n",
            "[13,   700] loss: 3.354\n",
            "Epoch: 13, Step: 700, Loss: 3.41694974899292, Accuracy: 18.65999984741211 %\n",
            "[14,     0] loss: 0.033\n",
            "Epoch: 14, Step: 0, Loss: 3.2732207775115967, Accuracy: 18.850000381469727 %\n",
            "[14,   100] loss: 3.315\n",
            "Epoch: 14, Step: 100, Loss: 3.523144483566284, Accuracy: 19.520000457763672 %\n",
            "[14,   200] loss: 3.324\n",
            "Epoch: 14, Step: 200, Loss: 3.2568199634552, Accuracy: 19.779998779296875 %\n",
            "[14,   300] loss: 3.324\n",
            "Epoch: 14, Step: 300, Loss: 3.25007963180542, Accuracy: 19.520000457763672 %\n",
            "[14,   400] loss: 3.322\n",
            "Epoch: 14, Step: 400, Loss: 3.296496868133545, Accuracy: 19.93000030517578 %\n",
            "[14,   500] loss: 3.337\n",
            "Epoch: 14, Step: 500, Loss: 3.0962166786193848, Accuracy: 19.989999771118164 %\n",
            "[14,   600] loss: 3.296\n",
            "Epoch: 14, Step: 600, Loss: 3.6134073734283447, Accuracy: 19.889999389648438 %\n",
            "[14,   700] loss: 3.294\n",
            "Epoch: 14, Step: 700, Loss: 3.4491524696350098, Accuracy: 20.139999389648438 %\n",
            "[15,     0] loss: 0.029\n",
            "Epoch: 15, Step: 0, Loss: 2.917742967605591, Accuracy: 19.399999618530273 %\n",
            "[15,   100] loss: 3.271\n",
            "Epoch: 15, Step: 100, Loss: 2.8892385959625244, Accuracy: 19.389999389648438 %\n",
            "[15,   200] loss: 3.238\n",
            "Epoch: 15, Step: 200, Loss: 3.308734178543091, Accuracy: 20.469999313354492 %\n",
            "[15,   300] loss: 3.297\n",
            "Epoch: 15, Step: 300, Loss: 3.476151704788208, Accuracy: 20.309999465942383 %\n",
            "[15,   400] loss: 3.263\n",
            "Epoch: 15, Step: 400, Loss: 3.4836902618408203, Accuracy: 20.78999900817871 %\n",
            "[15,   500] loss: 3.264\n",
            "Epoch: 15, Step: 500, Loss: 3.3477492332458496, Accuracy: 20.75 %\n",
            "[15,   600] loss: 3.273\n",
            "Epoch: 15, Step: 600, Loss: 3.1768219470977783, Accuracy: 20.65999984741211 %\n",
            "[15,   700] loss: 3.265\n",
            "Epoch: 15, Step: 700, Loss: 3.3360233306884766, Accuracy: 20.529998779296875 %\n",
            "[16,     0] loss: 0.033\n",
            "Epoch: 16, Step: 0, Loss: 3.306955337524414, Accuracy: 20.899999618530273 %\n",
            "[16,   100] loss: 3.241\n",
            "Epoch: 16, Step: 100, Loss: 3.339080333709717, Accuracy: 21.25 %\n",
            "[16,   200] loss: 3.187\n",
            "Epoch: 16, Step: 200, Loss: 3.0512735843658447, Accuracy: 21.439998626708984 %\n",
            "[16,   300] loss: 3.231\n",
            "Epoch: 16, Step: 300, Loss: 3.096989154815674, Accuracy: 20.90999984741211 %\n",
            "[16,   400] loss: 3.220\n",
            "Epoch: 16, Step: 400, Loss: 3.2817938327789307, Accuracy: 21.8799991607666 %\n",
            "[16,   500] loss: 3.208\n",
            "Epoch: 16, Step: 500, Loss: 3.0963199138641357, Accuracy: 21.26999855041504 %\n",
            "[16,   600] loss: 3.195\n",
            "Epoch: 16, Step: 600, Loss: 3.2149922847747803, Accuracy: 21.779998779296875 %\n",
            "[16,   700] loss: 3.180\n",
            "Epoch: 16, Step: 700, Loss: 3.3507392406463623, Accuracy: 21.68000030517578 %\n",
            "[17,     0] loss: 0.033\n",
            "Epoch: 17, Step: 0, Loss: 3.3213040828704834, Accuracy: 21.81999969482422 %\n",
            "[17,   100] loss: 3.158\n",
            "Epoch: 17, Step: 100, Loss: 2.911412239074707, Accuracy: 21.689998626708984 %\n",
            "[17,   200] loss: 3.172\n",
            "Epoch: 17, Step: 200, Loss: 3.3217556476593018, Accuracy: 21.84000015258789 %\n",
            "[17,   300] loss: 3.176\n",
            "Epoch: 17, Step: 300, Loss: 3.339460849761963, Accuracy: 21.549999237060547 %\n",
            "[17,   400] loss: 3.156\n",
            "Epoch: 17, Step: 400, Loss: 3.5928430557250977, Accuracy: 22.549999237060547 %\n",
            "[17,   500] loss: 3.173\n",
            "Epoch: 17, Step: 500, Loss: 3.20314359664917, Accuracy: 22.06999969482422 %\n",
            "[17,   600] loss: 3.170\n",
            "Epoch: 17, Step: 600, Loss: 2.9178872108459473, Accuracy: 21.369998931884766 %\n",
            "[17,   700] loss: 3.132\n",
            "Epoch: 17, Step: 700, Loss: 3.6628663539886475, Accuracy: 22.010000228881836 %\n",
            "[18,     0] loss: 0.031\n",
            "Epoch: 18, Step: 0, Loss: 3.1326887607574463, Accuracy: 23.119998931884766 %\n",
            "[18,   100] loss: 3.105\n",
            "Epoch: 18, Step: 100, Loss: 3.5596044063568115, Accuracy: 22.219999313354492 %\n",
            "[18,   200] loss: 3.108\n",
            "Epoch: 18, Step: 200, Loss: 3.044490337371826, Accuracy: 22.709999084472656 %\n",
            "[18,   300] loss: 3.132\n",
            "Epoch: 18, Step: 300, Loss: 3.008770704269409, Accuracy: 22.6299991607666 %\n",
            "[18,   400] loss: 3.122\n",
            "Epoch: 18, Step: 400, Loss: 2.90267014503479, Accuracy: 23.219999313354492 %\n",
            "[18,   500] loss: 3.140\n",
            "Epoch: 18, Step: 500, Loss: 3.0900537967681885, Accuracy: 23.0 %\n",
            "[18,   600] loss: 3.074\n",
            "Epoch: 18, Step: 600, Loss: 2.959806203842163, Accuracy: 23.559999465942383 %\n",
            "[18,   700] loss: 3.110\n",
            "Epoch: 18, Step: 700, Loss: 3.265231132507324, Accuracy: 23.170000076293945 %\n",
            "[19,     0] loss: 0.036\n",
            "Epoch: 19, Step: 0, Loss: 3.5716726779937744, Accuracy: 23.010000228881836 %\n",
            "[19,   100] loss: 3.068\n",
            "Epoch: 19, Step: 100, Loss: 3.095080614089966, Accuracy: 23.01999855041504 %\n",
            "[19,   200] loss: 3.036\n",
            "Epoch: 19, Step: 200, Loss: 2.907890558242798, Accuracy: 23.760000228881836 %\n",
            "[19,   300] loss: 3.075\n",
            "Epoch: 19, Step: 300, Loss: 3.1500377655029297, Accuracy: 23.84000015258789 %\n",
            "[19,   400] loss: 3.055\n",
            "Epoch: 19, Step: 400, Loss: 3.3105461597442627, Accuracy: 22.779998779296875 %\n",
            "[19,   500] loss: 3.055\n",
            "Epoch: 19, Step: 500, Loss: 3.2166848182678223, Accuracy: 23.69999885559082 %\n",
            "[19,   600] loss: 3.041\n",
            "Epoch: 19, Step: 600, Loss: 2.794041156768799, Accuracy: 23.59000015258789 %\n",
            "[19,   700] loss: 3.073\n",
            "Epoch: 19, Step: 700, Loss: 2.6280837059020996, Accuracy: 23.469999313354492 %\n",
            "[20,     0] loss: 0.030\n",
            "Epoch: 20, Step: 0, Loss: 2.963595390319824, Accuracy: 24.029998779296875 %\n",
            "[20,   100] loss: 3.035\n",
            "Epoch: 20, Step: 100, Loss: 3.1768276691436768, Accuracy: 24.119998931884766 %\n",
            "[20,   200] loss: 3.000\n",
            "Epoch: 20, Step: 200, Loss: 3.2331361770629883, Accuracy: 23.439998626708984 %\n",
            "[20,   300] loss: 3.022\n",
            "Epoch: 20, Step: 300, Loss: 3.100557565689087, Accuracy: 24.01999855041504 %\n",
            "[20,   400] loss: 2.994\n",
            "Epoch: 20, Step: 400, Loss: 2.782834053039551, Accuracy: 24.079999923706055 %\n",
            "[20,   500] loss: 2.999\n",
            "Epoch: 20, Step: 500, Loss: 2.8915209770202637, Accuracy: 23.729999542236328 %\n",
            "[20,   600] loss: 3.001\n",
            "Epoch: 20, Step: 600, Loss: 2.931586742401123, Accuracy: 24.729999542236328 %\n",
            "[20,   700] loss: 3.029\n",
            "Epoch: 20, Step: 700, Loss: 2.9640588760375977, Accuracy: 24.44999885559082 %\n",
            "[21,     0] loss: 0.031\n",
            "Epoch: 21, Step: 0, Loss: 3.1065683364868164, Accuracy: 25.229999542236328 %\n",
            "[21,   100] loss: 2.941\n",
            "Epoch: 21, Step: 100, Loss: 2.810404062271118, Accuracy: 24.849998474121094 %\n",
            "[21,   200] loss: 2.964\n",
            "Epoch: 21, Step: 200, Loss: 2.965113639831543, Accuracy: 25.31999969482422 %\n",
            "[21,   300] loss: 2.981\n",
            "Epoch: 21, Step: 300, Loss: 2.720850706100464, Accuracy: 25.420000076293945 %\n",
            "[21,   400] loss: 2.951\n",
            "Epoch: 21, Step: 400, Loss: 3.0513100624084473, Accuracy: 24.869998931884766 %\n",
            "[21,   500] loss: 2.973\n",
            "Epoch: 21, Step: 500, Loss: 2.972733497619629, Accuracy: 25.10999870300293 %\n",
            "[21,   600] loss: 2.967\n",
            "Epoch: 21, Step: 600, Loss: 2.8999762535095215, Accuracy: 25.119998931884766 %\n",
            "[21,   700] loss: 2.964\n",
            "Epoch: 21, Step: 700, Loss: 2.9392707347869873, Accuracy: 25.549999237060547 %\n",
            "[22,     0] loss: 0.029\n",
            "Epoch: 22, Step: 0, Loss: 2.8544392585754395, Accuracy: 25.18000030517578 %\n",
            "[22,   100] loss: 2.917\n",
            "Epoch: 22, Step: 100, Loss: 2.852156162261963, Accuracy: 25.689998626708984 %\n",
            "[22,   200] loss: 2.904\n",
            "Epoch: 22, Step: 200, Loss: 3.0870726108551025, Accuracy: 25.56999969482422 %\n",
            "[22,   300] loss: 2.953\n",
            "Epoch: 22, Step: 300, Loss: 2.6032662391662598, Accuracy: 25.18000030517578 %\n",
            "[22,   400] loss: 2.928\n",
            "Epoch: 22, Step: 400, Loss: 3.1332666873931885, Accuracy: 25.889999389648438 %\n",
            "[22,   500] loss: 2.889\n",
            "Epoch: 22, Step: 500, Loss: 2.376616954803467, Accuracy: 25.75 %\n",
            "[22,   600] loss: 2.924\n",
            "Epoch: 22, Step: 600, Loss: 3.226679801940918, Accuracy: 25.90999984741211 %\n",
            "[22,   700] loss: 2.913\n",
            "Epoch: 22, Step: 700, Loss: 3.137899160385132, Accuracy: 26.260000228881836 %\n",
            "[23,     0] loss: 0.029\n",
            "Epoch: 23, Step: 0, Loss: 2.945150375366211, Accuracy: 26.170000076293945 %\n",
            "[23,   100] loss: 2.885\n",
            "Epoch: 23, Step: 100, Loss: 2.6177937984466553, Accuracy: 25.75 %\n",
            "[23,   200] loss: 2.893\n",
            "Epoch: 23, Step: 200, Loss: 3.160163640975952, Accuracy: 26.65999984741211 %\n",
            "[23,   300] loss: 2.862\n",
            "Epoch: 23, Step: 300, Loss: 2.76479434967041, Accuracy: 26.17999839782715 %\n",
            "[23,   400] loss: 2.871\n",
            "Epoch: 23, Step: 400, Loss: 2.9544410705566406, Accuracy: 26.53999900817871 %\n",
            "[23,   500] loss: 2.863\n",
            "Epoch: 23, Step: 500, Loss: 3.2330322265625, Accuracy: 26.149999618530273 %\n",
            "[23,   600] loss: 2.906\n",
            "Epoch: 23, Step: 600, Loss: 3.0262186527252197, Accuracy: 26.149999618530273 %\n",
            "[23,   700] loss: 2.866\n",
            "Epoch: 23, Step: 700, Loss: 2.8544206619262695, Accuracy: 26.67999839782715 %\n",
            "[24,     0] loss: 0.026\n",
            "Epoch: 24, Step: 0, Loss: 2.6363353729248047, Accuracy: 26.51999855041504 %\n",
            "[24,   100] loss: 2.842\n",
            "Epoch: 24, Step: 100, Loss: 3.0796170234680176, Accuracy: 26.849998474121094 %\n",
            "[24,   200] loss: 2.810\n",
            "Epoch: 24, Step: 200, Loss: 3.013278007507324, Accuracy: 26.34000015258789 %\n",
            "[24,   300] loss: 2.859\n",
            "Epoch: 24, Step: 300, Loss: 2.5768790245056152, Accuracy: 26.90999984741211 %\n",
            "[24,   400] loss: 2.852\n",
            "Epoch: 24, Step: 400, Loss: 2.830238103866577, Accuracy: 26.479999542236328 %\n",
            "[24,   500] loss: 2.863\n",
            "Epoch: 24, Step: 500, Loss: 2.6121957302093506, Accuracy: 26.989999771118164 %\n",
            "[24,   600] loss: 2.815\n",
            "Epoch: 24, Step: 600, Loss: 2.90745210647583, Accuracy: 27.329999923706055 %\n",
            "[24,   700] loss: 2.807\n",
            "Epoch: 24, Step: 700, Loss: 2.8318707942962646, Accuracy: 26.899999618530273 %\n",
            "[25,     0] loss: 0.027\n",
            "Epoch: 25, Step: 0, Loss: 2.687347412109375, Accuracy: 27.469999313354492 %\n",
            "[25,   100] loss: 2.768\n",
            "Epoch: 25, Step: 100, Loss: 2.7722327709198, Accuracy: 26.94999885559082 %\n",
            "[25,   200] loss: 2.782\n",
            "Epoch: 25, Step: 200, Loss: 3.067099094390869, Accuracy: 27.26999855041504 %\n",
            "[25,   300] loss: 2.787\n",
            "Epoch: 25, Step: 300, Loss: 2.45452880859375, Accuracy: 27.510000228881836 %\n",
            "[25,   400] loss: 2.772\n",
            "Epoch: 25, Step: 400, Loss: 2.406824827194214, Accuracy: 27.619998931884766 %\n",
            "[25,   500] loss: 2.779\n",
            "Epoch: 25, Step: 500, Loss: 2.2965750694274902, Accuracy: 27.459999084472656 %\n",
            "[25,   600] loss: 2.811\n",
            "Epoch: 25, Step: 600, Loss: 2.790834903717041, Accuracy: 27.760000228881836 %\n",
            "[25,   700] loss: 2.819\n",
            "Epoch: 25, Step: 700, Loss: 2.2987635135650635, Accuracy: 28.010000228881836 %\n",
            "[26,     0] loss: 0.027\n",
            "Epoch: 26, Step: 0, Loss: 2.710470199584961, Accuracy: 27.829999923706055 %\n",
            "[26,   100] loss: 2.754\n",
            "Epoch: 26, Step: 100, Loss: 2.666848659515381, Accuracy: 27.84000015258789 %\n",
            "[26,   200] loss: 2.757\n",
            "Epoch: 26, Step: 200, Loss: 2.543919563293457, Accuracy: 28.260000228881836 %\n",
            "[26,   300] loss: 2.737\n",
            "Epoch: 26, Step: 300, Loss: 2.6715915203094482, Accuracy: 27.899999618530273 %\n",
            "[26,   400] loss: 2.784\n",
            "Epoch: 26, Step: 400, Loss: 3.127415657043457, Accuracy: 27.559999465942383 %\n",
            "[26,   500] loss: 2.742\n",
            "Epoch: 26, Step: 500, Loss: 2.6615288257598877, Accuracy: 27.69999885559082 %\n",
            "[26,   600] loss: 2.760\n",
            "Epoch: 26, Step: 600, Loss: 2.642861843109131, Accuracy: 27.989999771118164 %\n",
            "[26,   700] loss: 2.790\n",
            "Epoch: 26, Step: 700, Loss: 2.6958811283111572, Accuracy: 27.869998931884766 %\n",
            "[27,     0] loss: 0.028\n",
            "Epoch: 27, Step: 0, Loss: 2.764596939086914, Accuracy: 28.920000076293945 %\n",
            "[27,   100] loss: 2.754\n",
            "Epoch: 27, Step: 100, Loss: 2.9554619789123535, Accuracy: 28.5 %\n",
            "[27,   200] loss: 2.710\n",
            "Epoch: 27, Step: 200, Loss: 3.0446548461914062, Accuracy: 28.029998779296875 %\n",
            "[27,   300] loss: 2.680\n",
            "Epoch: 27, Step: 300, Loss: 3.011869192123413, Accuracy: 28.809999465942383 %\n",
            "[27,   400] loss: 2.743\n",
            "Epoch: 27, Step: 400, Loss: 2.595893144607544, Accuracy: 28.829999923706055 %\n",
            "[27,   500] loss: 2.747\n",
            "Epoch: 27, Step: 500, Loss: 2.6009738445281982, Accuracy: 28.239999771118164 %\n",
            "[27,   600] loss: 2.698\n",
            "Epoch: 27, Step: 600, Loss: 2.70227313041687, Accuracy: 29.01999855041504 %\n",
            "[27,   700] loss: 2.746\n",
            "Epoch: 27, Step: 700, Loss: 2.4979171752929688, Accuracy: 29.09000015258789 %\n",
            "[28,     0] loss: 0.021\n",
            "Epoch: 28, Step: 0, Loss: 2.0952413082122803, Accuracy: 28.94999885559082 %\n",
            "[28,   100] loss: 2.723\n",
            "Epoch: 28, Step: 100, Loss: 2.9566006660461426, Accuracy: 28.759998321533203 %\n",
            "[28,   200] loss: 2.656\n",
            "Epoch: 28, Step: 200, Loss: 2.664445400238037, Accuracy: 29.029998779296875 %\n",
            "[28,   300] loss: 2.701\n",
            "Epoch: 28, Step: 300, Loss: 2.4534177780151367, Accuracy: 29.369998931884766 %\n",
            "[28,   400] loss: 2.705\n",
            "Epoch: 28, Step: 400, Loss: 2.4069817066192627, Accuracy: 28.469999313354492 %\n",
            "[28,   500] loss: 2.687\n",
            "Epoch: 28, Step: 500, Loss: 2.4414992332458496, Accuracy: 29.06999969482422 %\n",
            "[28,   600] loss: 2.651\n",
            "Epoch: 28, Step: 600, Loss: 2.668826103210449, Accuracy: 29.369998931884766 %\n",
            "[28,   700] loss: 2.684\n",
            "Epoch: 28, Step: 700, Loss: 2.7102229595184326, Accuracy: 29.5 %\n",
            "[29,     0] loss: 0.024\n",
            "Epoch: 29, Step: 0, Loss: 2.3627853393554688, Accuracy: 29.049999237060547 %\n",
            "[29,   100] loss: 2.659\n",
            "Epoch: 29, Step: 100, Loss: 3.147531509399414, Accuracy: 29.259998321533203 %\n",
            "[29,   200] loss: 2.656\n",
            "Epoch: 29, Step: 200, Loss: 2.5418589115142822, Accuracy: 29.92999839782715 %\n",
            "[29,   300] loss: 2.637\n",
            "Epoch: 29, Step: 300, Loss: 2.461564779281616, Accuracy: 30.170000076293945 %\n",
            "[29,   400] loss: 2.653\n",
            "Epoch: 29, Step: 400, Loss: 2.4102489948272705, Accuracy: 29.78999900817871 %\n",
            "[29,   500] loss: 2.642\n",
            "Epoch: 29, Step: 500, Loss: 2.4046177864074707, Accuracy: 29.35999870300293 %\n",
            "[29,   600] loss: 2.652\n",
            "Epoch: 29, Step: 600, Loss: 2.456265687942505, Accuracy: 29.51999855041504 %\n",
            "[29,   700] loss: 2.630\n",
            "Epoch: 29, Step: 700, Loss: 2.280975103378296, Accuracy: 29.920000076293945 %\n",
            "[30,     0] loss: 0.025\n",
            "Epoch: 30, Step: 0, Loss: 2.4561805725097656, Accuracy: 29.849998474121094 %\n",
            "[30,   100] loss: 2.594\n",
            "Epoch: 30, Step: 100, Loss: 2.669682502746582, Accuracy: 29.399999618530273 %\n",
            "[30,   200] loss: 2.626\n",
            "Epoch: 30, Step: 200, Loss: 2.6471805572509766, Accuracy: 30.19999885559082 %\n",
            "[30,   300] loss: 2.617\n",
            "Epoch: 30, Step: 300, Loss: 2.4166905879974365, Accuracy: 29.939998626708984 %\n",
            "[30,   400] loss: 2.594\n",
            "Epoch: 30, Step: 400, Loss: 2.6268320083618164, Accuracy: 30.009998321533203 %\n",
            "[30,   500] loss: 2.628\n",
            "Epoch: 30, Step: 500, Loss: 2.544250011444092, Accuracy: 29.65999984741211 %\n",
            "[30,   600] loss: 2.577\n",
            "Epoch: 30, Step: 600, Loss: 2.5466561317443848, Accuracy: 30.06999969482422 %\n",
            "[30,   700] loss: 2.636\n",
            "Epoch: 30, Step: 700, Loss: 2.4710612297058105, Accuracy: 29.889999389648438 %\n",
            "Finished Training\n"
          ],
          "name": "stdout"
        }
      ]
    },
    {
      "cell_type": "code",
      "metadata": {
        "id": "296iKiJuBwjY",
        "outputId": "40001ddc-2cc4-4b5b-80d2-3a9cc25692fb",
        "colab": {
          "base_uri": "https://localhost:8080/",
          "height": 137
        }
      },
      "source": [
        "net2.to(device)"
      ],
      "execution_count": 13,
      "outputs": [
        {
          "output_type": "execute_result",
          "data": {
            "text/plain": [
              "Net2(\n",
              "  (linear1): Linear(in_features=3072, out_features=3072, bias=True)\n",
              "  (linear2): Linear(in_features=3072, out_features=1024, bias=True)\n",
              "  (linear3): Linear(in_features=1024, out_features=512, bias=True)\n",
              "  (linear4): Linear(in_features=512, out_features=256, bias=True)\n",
              "  (linear5): Linear(in_features=256, out_features=100, bias=True)\n",
              ")"
            ]
          },
          "metadata": {
            "tags": []
          },
          "execution_count": 13
        }
      ]
    },
    {
      "cell_type": "code",
      "metadata": {
        "id": "_B934uvPcddu",
        "outputId": "bc4ec399-1894-43f7-e4df-c09ad25303eb",
        "colab": {
          "base_uri": "https://localhost:8080/",
          "height": 1000
        }
      },
      "source": [
        "from torch.autograd import Variable\n",
        "\n",
        "# for later visualiztions:\n",
        "loss_list2 = []\n",
        "iteration_list2 = []\n",
        "accuracy_list2 = []\n",
        "\n",
        "\n",
        "for epoch in range(epochs):  # loop over the dataset multiple times\n",
        "    running_loss = 0.0\n",
        "    for i, data in enumerate(train_loader, 0):\n",
        "        # get the inputs; data is a list of [inputs, labels]\n",
        "        \n",
        "        # inputs, labels = data[0], data[1]\n",
        "        inputs, labels = data[0].to(device), data[1].to(device)\n",
        " \n",
        "        # zero the parameter gradients\n",
        "        optimizer2.zero_grad()\n",
        " \n",
        "        # forward + backward + optimize\n",
        "        outputs = net2(inputs)\n",
        "        loss = criterion2(outputs, labels)\n",
        "        loss.backward()\n",
        "        optimizer2.step()\n",
        " \n",
        "        \n",
        "        # Testing the model\n",
        "        if not (i % 50):\n",
        "            total = 0\n",
        "            correct = 0\n",
        "        \n",
        "            for images, label in test_loader:\n",
        "                images, label = images.to(device), label.to(device)\n",
        "            \n",
        "                # test = Variable(images.view(4, 3, 32, 32))\n",
        "                test = images\n",
        "            \n",
        "                output = net2(test)\n",
        "            \n",
        "                predictions = torch.max(output, 1)[1].to(device)\n",
        "                correct += (predictions == label).sum()\n",
        "            \n",
        "                total += len(label)\n",
        "            \n",
        "            accuracy = (correct * 100.0) // total\n",
        "            loss_list2.append(loss.data)\n",
        "            iteration_list2.append(i)\n",
        "            accuracy_list2.append(accuracy)\n",
        "\n",
        "        # print statistics\n",
        "        running_loss += loss.item()\n",
        "        if not (i % 100):    # print every 100 mini-batches\n",
        "            \n",
        "            print('[%d, %5d] loss: %.3f' %\n",
        "                  (epoch + 1, i + 1, running_loss / 100))\n",
        "            running_loss = 0.0\n",
        "            \n",
        "            print(\"Epoch: {}, Step: {}, Loss: {}, Accuracy: {}%\"\n",
        "              .format(epoch + 1, i, loss.data, accuracy)\n",
        "            )\n",
        "\n",
        "print('Finished Training')"
      ],
      "execution_count": 14,
      "outputs": [
        {
          "output_type": "stream",
          "text": [
            "[1,     1] loss: 0.046\n",
            "Epoch: 1, Step: 0, Loss: 4.606952667236328, Accuracy: 0%\n",
            "[1,   101] loss: 4.606\n",
            "Epoch: 1, Step: 100, Loss: 4.603621006011963, Accuracy: 0%\n",
            "[1,   201] loss: 4.605\n",
            "Epoch: 1, Step: 200, Loss: 4.599776268005371, Accuracy: 0%\n",
            "[1,   301] loss: 4.604\n",
            "Epoch: 1, Step: 300, Loss: 4.603903293609619, Accuracy: 0%\n",
            "[1,   401] loss: 4.603\n",
            "Epoch: 1, Step: 400, Loss: 4.609135150909424, Accuracy: 0%\n",
            "[1,   501] loss: 4.603\n",
            "Epoch: 1, Step: 500, Loss: 4.599764347076416, Accuracy: 1%\n",
            "[1,   601] loss: 4.602\n",
            "Epoch: 1, Step: 600, Loss: 4.603945732116699, Accuracy: 1%\n",
            "[1,   701] loss: 4.602\n",
            "Epoch: 1, Step: 700, Loss: 4.599098205566406, Accuracy: 1%\n",
            "[2,     1] loss: 0.046\n",
            "Epoch: 2, Step: 0, Loss: 4.594235420227051, Accuracy: 2%\n",
            "[2,   101] loss: 4.600\n",
            "Epoch: 2, Step: 100, Loss: 4.60037899017334, Accuracy: 2%\n",
            "[2,   201] loss: 4.599\n",
            "Epoch: 2, Step: 200, Loss: 4.607909202575684, Accuracy: 2%\n",
            "[2,   301] loss: 4.598\n",
            "Epoch: 2, Step: 300, Loss: 4.606227874755859, Accuracy: 2%\n",
            "[2,   401] loss: 4.597\n",
            "Epoch: 2, Step: 400, Loss: 4.590229511260986, Accuracy: 2%\n",
            "[2,   501] loss: 4.596\n",
            "Epoch: 2, Step: 500, Loss: 4.5963134765625, Accuracy: 2%\n",
            "[2,   601] loss: 4.595\n",
            "Epoch: 2, Step: 600, Loss: 4.594266891479492, Accuracy: 2%\n",
            "[2,   701] loss: 4.593\n",
            "Epoch: 2, Step: 700, Loss: 4.595000267028809, Accuracy: 2%\n",
            "[3,     1] loss: 0.046\n",
            "Epoch: 3, Step: 0, Loss: 4.593659400939941, Accuracy: 2%\n",
            "[3,   101] loss: 4.590\n",
            "Epoch: 3, Step: 100, Loss: 4.592006683349609, Accuracy: 2%\n",
            "[3,   201] loss: 4.588\n",
            "Epoch: 3, Step: 200, Loss: 4.589287757873535, Accuracy: 2%\n",
            "[3,   301] loss: 4.584\n",
            "Epoch: 3, Step: 300, Loss: 4.583005428314209, Accuracy: 2%\n",
            "[3,   401] loss: 4.582\n",
            "Epoch: 3, Step: 400, Loss: 4.596658706665039, Accuracy: 2%\n",
            "[3,   501] loss: 4.577\n",
            "Epoch: 3, Step: 500, Loss: 4.575811862945557, Accuracy: 2%\n",
            "[3,   601] loss: 4.573\n",
            "Epoch: 3, Step: 600, Loss: 4.55658483505249, Accuracy: 2%\n",
            "[3,   701] loss: 4.569\n",
            "Epoch: 3, Step: 700, Loss: 4.591666221618652, Accuracy: 3%\n",
            "[4,     1] loss: 0.046\n",
            "Epoch: 4, Step: 0, Loss: 4.576815128326416, Accuracy: 3%\n",
            "[4,   101] loss: 4.552\n",
            "Epoch: 4, Step: 100, Loss: 4.537446975708008, Accuracy: 2%\n",
            "[4,   201] loss: 4.541\n",
            "Epoch: 4, Step: 200, Loss: 4.566348075866699, Accuracy: 2%\n",
            "[4,   301] loss: 4.534\n",
            "Epoch: 4, Step: 300, Loss: 4.537867546081543, Accuracy: 2%\n",
            "[4,   401] loss: 4.522\n",
            "Epoch: 4, Step: 400, Loss: 4.548865795135498, Accuracy: 3%\n",
            "[4,   501] loss: 4.509\n",
            "Epoch: 4, Step: 500, Loss: 4.402347564697266, Accuracy: 3%\n",
            "[4,   601] loss: 4.501\n",
            "Epoch: 4, Step: 600, Loss: 4.445956707000732, Accuracy: 3%\n",
            "[4,   701] loss: 4.489\n",
            "Epoch: 4, Step: 700, Loss: 4.511800289154053, Accuracy: 3%\n",
            "[5,     1] loss: 0.044\n",
            "Epoch: 5, Step: 0, Loss: 4.36634635925293, Accuracy: 3%\n",
            "[5,   101] loss: 4.441\n",
            "Epoch: 5, Step: 100, Loss: 4.432425498962402, Accuracy: 4%\n",
            "[5,   201] loss: 4.427\n",
            "Epoch: 5, Step: 200, Loss: 4.354753017425537, Accuracy: 4%\n",
            "[5,   301] loss: 4.397\n",
            "Epoch: 5, Step: 300, Loss: 4.475120544433594, Accuracy: 4%\n",
            "[5,   401] loss: 4.369\n",
            "Epoch: 5, Step: 400, Loss: 4.203980445861816, Accuracy: 4%\n",
            "[5,   501] loss: 4.319\n",
            "Epoch: 5, Step: 500, Loss: 4.309487819671631, Accuracy: 4%\n",
            "[5,   601] loss: 4.286\n",
            "Epoch: 5, Step: 600, Loss: 4.30743932723999, Accuracy: 5%\n",
            "[5,   701] loss: 4.265\n",
            "Epoch: 5, Step: 700, Loss: 4.166037082672119, Accuracy: 5%\n",
            "[6,     1] loss: 0.043\n",
            "Epoch: 6, Step: 0, Loss: 4.340678691864014, Accuracy: 5%\n",
            "[6,   101] loss: 4.202\n",
            "Epoch: 6, Step: 100, Loss: 4.29662561416626, Accuracy: 5%\n",
            "[6,   201] loss: 4.174\n",
            "Epoch: 6, Step: 200, Loss: 4.164154529571533, Accuracy: 5%\n",
            "[6,   301] loss: 4.145\n",
            "Epoch: 6, Step: 300, Loss: 4.109477519989014, Accuracy: 5%\n",
            "[6,   401] loss: 4.130\n",
            "Epoch: 6, Step: 400, Loss: 4.051905155181885, Accuracy: 6%\n",
            "[6,   501] loss: 4.113\n",
            "Epoch: 6, Step: 500, Loss: 4.124216079711914, Accuracy: 6%\n",
            "[6,   601] loss: 4.081\n",
            "Epoch: 6, Step: 600, Loss: 3.924875020980835, Accuracy: 7%\n",
            "[6,   701] loss: 4.082\n",
            "Epoch: 6, Step: 700, Loss: 4.129302024841309, Accuracy: 6%\n",
            "[7,     1] loss: 0.041\n",
            "Epoch: 7, Step: 0, Loss: 4.072281837463379, Accuracy: 7%\n",
            "[7,   101] loss: 4.069\n",
            "Epoch: 7, Step: 100, Loss: 3.815321207046509, Accuracy: 7%\n",
            "[7,   201] loss: 4.040\n",
            "Epoch: 7, Step: 200, Loss: 3.9512362480163574, Accuracy: 7%\n",
            "[7,   301] loss: 4.036\n",
            "Epoch: 7, Step: 300, Loss: 4.026962757110596, Accuracy: 7%\n",
            "[7,   401] loss: 4.036\n",
            "Epoch: 7, Step: 400, Loss: 3.849348306655884, Accuracy: 8%\n",
            "[7,   501] loss: 4.020\n",
            "Epoch: 7, Step: 500, Loss: 3.850989580154419, Accuracy: 8%\n",
            "[7,   601] loss: 3.969\n",
            "Epoch: 7, Step: 600, Loss: 4.038660526275635, Accuracy: 7%\n",
            "[7,   701] loss: 3.991\n",
            "Epoch: 7, Step: 700, Loss: 3.9849302768707275, Accuracy: 7%\n",
            "[8,     1] loss: 0.041\n",
            "Epoch: 8, Step: 0, Loss: 4.065585136413574, Accuracy: 8%\n",
            "[8,   101] loss: 3.971\n",
            "Epoch: 8, Step: 100, Loss: 3.94246768951416, Accuracy: 8%\n",
            "[8,   201] loss: 3.951\n",
            "Epoch: 8, Step: 200, Loss: 3.7637877464294434, Accuracy: 9%\n",
            "[8,   301] loss: 3.959\n",
            "Epoch: 8, Step: 300, Loss: 3.9404678344726562, Accuracy: 8%\n",
            "[8,   401] loss: 3.940\n",
            "Epoch: 8, Step: 400, Loss: 3.9610157012939453, Accuracy: 9%\n",
            "[8,   501] loss: 3.917\n",
            "Epoch: 8, Step: 500, Loss: 3.7301294803619385, Accuracy: 9%\n",
            "[8,   601] loss: 3.936\n",
            "Epoch: 8, Step: 600, Loss: 3.7964301109313965, Accuracy: 9%\n",
            "[8,   701] loss: 3.905\n",
            "Epoch: 8, Step: 700, Loss: 3.6981658935546875, Accuracy: 9%\n",
            "[9,     1] loss: 0.038\n",
            "Epoch: 9, Step: 0, Loss: 3.8240225315093994, Accuracy: 9%\n",
            "[9,   101] loss: 3.905\n",
            "Epoch: 9, Step: 100, Loss: 3.7305586338043213, Accuracy: 10%\n",
            "[9,   201] loss: 3.870\n",
            "Epoch: 9, Step: 200, Loss: 4.076565265655518, Accuracy: 10%\n",
            "[9,   301] loss: 3.893\n",
            "Epoch: 9, Step: 300, Loss: 3.9934117794036865, Accuracy: 9%\n",
            "[9,   401] loss: 3.895\n",
            "Epoch: 9, Step: 400, Loss: 4.015414237976074, Accuracy: 10%\n",
            "[9,   501] loss: 3.866\n",
            "Epoch: 9, Step: 500, Loss: 3.6180272102355957, Accuracy: 10%\n",
            "[9,   601] loss: 3.856\n",
            "Epoch: 9, Step: 600, Loss: 3.894172191619873, Accuracy: 10%\n",
            "[9,   701] loss: 3.859\n",
            "Epoch: 9, Step: 700, Loss: 3.6930463314056396, Accuracy: 11%\n",
            "[10,     1] loss: 0.038\n",
            "Epoch: 10, Step: 0, Loss: 3.7625207901000977, Accuracy: 11%\n",
            "[10,   101] loss: 3.817\n",
            "Epoch: 10, Step: 100, Loss: 4.159744739532471, Accuracy: 11%\n",
            "[10,   201] loss: 3.817\n",
            "Epoch: 10, Step: 200, Loss: 3.9568347930908203, Accuracy: 11%\n",
            "[10,   301] loss: 3.799\n",
            "Epoch: 10, Step: 300, Loss: 3.536094903945923, Accuracy: 10%\n",
            "[10,   401] loss: 3.820\n",
            "Epoch: 10, Step: 400, Loss: 3.9258503913879395, Accuracy: 11%\n",
            "[10,   501] loss: 3.808\n",
            "Epoch: 10, Step: 500, Loss: 3.8092029094696045, Accuracy: 11%\n",
            "[10,   601] loss: 3.779\n",
            "Epoch: 10, Step: 600, Loss: 3.7883493900299072, Accuracy: 12%\n",
            "[10,   701] loss: 3.786\n",
            "Epoch: 10, Step: 700, Loss: 4.121842861175537, Accuracy: 12%\n",
            "[11,     1] loss: 0.036\n",
            "Epoch: 11, Step: 0, Loss: 3.6498801708221436, Accuracy: 11%\n",
            "[11,   101] loss: 3.736\n",
            "Epoch: 11, Step: 100, Loss: 3.592071294784546, Accuracy: 11%\n",
            "[11,   201] loss: 3.742\n",
            "Epoch: 11, Step: 200, Loss: 3.888415575027466, Accuracy: 12%\n",
            "[11,   301] loss: 3.723\n",
            "Epoch: 11, Step: 300, Loss: 3.7538416385650635, Accuracy: 12%\n",
            "[11,   401] loss: 3.794\n",
            "Epoch: 11, Step: 400, Loss: 3.949211359024048, Accuracy: 12%\n",
            "[11,   501] loss: 3.725\n",
            "Epoch: 11, Step: 500, Loss: 3.7715017795562744, Accuracy: 12%\n",
            "[11,   601] loss: 3.722\n",
            "Epoch: 11, Step: 600, Loss: 3.8188209533691406, Accuracy: 13%\n",
            "[11,   701] loss: 3.696\n",
            "Epoch: 11, Step: 700, Loss: 3.795478105545044, Accuracy: 13%\n",
            "[12,     1] loss: 0.037\n",
            "Epoch: 12, Step: 0, Loss: 3.697384834289551, Accuracy: 13%\n",
            "[12,   101] loss: 3.695\n",
            "Epoch: 12, Step: 100, Loss: 3.6491963863372803, Accuracy: 12%\n",
            "[12,   201] loss: 3.680\n",
            "Epoch: 12, Step: 200, Loss: 3.92118501663208, Accuracy: 13%\n",
            "[12,   301] loss: 3.668\n",
            "Epoch: 12, Step: 300, Loss: 3.6493659019470215, Accuracy: 13%\n",
            "[12,   401] loss: 3.689\n",
            "Epoch: 12, Step: 400, Loss: 3.7934248447418213, Accuracy: 13%\n",
            "[12,   501] loss: 3.681\n",
            "Epoch: 12, Step: 500, Loss: 3.949354648590088, Accuracy: 13%\n",
            "[12,   601] loss: 3.662\n",
            "Epoch: 12, Step: 600, Loss: 3.717683792114258, Accuracy: 14%\n",
            "[12,   701] loss: 3.669\n",
            "Epoch: 12, Step: 700, Loss: 3.6746597290039062, Accuracy: 13%\n",
            "[13,     1] loss: 0.039\n",
            "Epoch: 13, Step: 0, Loss: 3.9337005615234375, Accuracy: 13%\n",
            "[13,   101] loss: 3.641\n",
            "Epoch: 13, Step: 100, Loss: 3.7908899784088135, Accuracy: 14%\n",
            "[13,   201] loss: 3.630\n",
            "Epoch: 13, Step: 200, Loss: 3.536191463470459, Accuracy: 14%\n",
            "[13,   301] loss: 3.637\n",
            "Epoch: 13, Step: 300, Loss: 3.518893003463745, Accuracy: 14%\n",
            "[13,   401] loss: 3.653\n",
            "Epoch: 13, Step: 400, Loss: 3.756869316101074, Accuracy: 14%\n",
            "[13,   501] loss: 3.588\n",
            "Epoch: 13, Step: 500, Loss: 3.9809012413024902, Accuracy: 14%\n",
            "[13,   601] loss: 3.602\n",
            "Epoch: 13, Step: 600, Loss: 3.3226191997528076, Accuracy: 14%\n",
            "[13,   701] loss: 3.616\n",
            "Epoch: 13, Step: 700, Loss: 3.3074498176574707, Accuracy: 15%\n",
            "[14,     1] loss: 0.036\n",
            "Epoch: 14, Step: 0, Loss: 3.5879580974578857, Accuracy: 14%\n",
            "[14,   101] loss: 3.586\n",
            "Epoch: 14, Step: 100, Loss: 3.47927188873291, Accuracy: 14%\n",
            "[14,   201] loss: 3.594\n",
            "Epoch: 14, Step: 200, Loss: 3.576195240020752, Accuracy: 14%\n",
            "[14,   301] loss: 3.601\n",
            "Epoch: 14, Step: 300, Loss: 3.7194716930389404, Accuracy: 14%\n",
            "[14,   401] loss: 3.581\n",
            "Epoch: 14, Step: 400, Loss: 3.6662678718566895, Accuracy: 15%\n",
            "[14,   501] loss: 3.549\n",
            "Epoch: 14, Step: 500, Loss: 3.4531140327453613, Accuracy: 14%\n",
            "[14,   601] loss: 3.558\n",
            "Epoch: 14, Step: 600, Loss: 3.3247601985931396, Accuracy: 15%\n",
            "[14,   701] loss: 3.564\n",
            "Epoch: 14, Step: 700, Loss: 3.421173334121704, Accuracy: 15%\n",
            "[15,     1] loss: 0.031\n",
            "Epoch: 15, Step: 0, Loss: 3.10041880607605, Accuracy: 15%\n",
            "[15,   101] loss: 3.551\n",
            "Epoch: 15, Step: 100, Loss: 3.363680839538574, Accuracy: 15%\n",
            "[15,   201] loss: 3.544\n",
            "Epoch: 15, Step: 200, Loss: 3.6793086528778076, Accuracy: 15%\n",
            "[15,   301] loss: 3.556\n",
            "Epoch: 15, Step: 300, Loss: 3.5308825969696045, Accuracy: 16%\n",
            "[15,   401] loss: 3.542\n",
            "Epoch: 15, Step: 400, Loss: 3.526080846786499, Accuracy: 15%\n",
            "[15,   501] loss: 3.522\n",
            "Epoch: 15, Step: 500, Loss: 3.7541956901550293, Accuracy: 16%\n",
            "[15,   601] loss: 3.514\n",
            "Epoch: 15, Step: 600, Loss: 3.611314296722412, Accuracy: 15%\n",
            "[15,   701] loss: 3.517\n",
            "Epoch: 15, Step: 700, Loss: 3.441756010055542, Accuracy: 16%\n",
            "[16,     1] loss: 0.035\n",
            "Epoch: 16, Step: 0, Loss: 3.5373592376708984, Accuracy: 16%\n",
            "[16,   101] loss: 3.503\n",
            "Epoch: 16, Step: 100, Loss: 3.3548007011413574, Accuracy: 16%\n",
            "[16,   201] loss: 3.484\n",
            "Epoch: 16, Step: 200, Loss: 3.694427967071533, Accuracy: 16%\n",
            "[16,   301] loss: 3.513\n",
            "Epoch: 16, Step: 300, Loss: 3.4693055152893066, Accuracy: 16%\n",
            "[16,   401] loss: 3.500\n",
            "Epoch: 16, Step: 400, Loss: 3.443603754043579, Accuracy: 16%\n",
            "[16,   501] loss: 3.469\n",
            "Epoch: 16, Step: 500, Loss: 3.5876553058624268, Accuracy: 16%\n",
            "[16,   601] loss: 3.487\n",
            "Epoch: 16, Step: 600, Loss: 3.2948949337005615, Accuracy: 17%\n",
            "[16,   701] loss: 3.478\n",
            "Epoch: 16, Step: 700, Loss: 3.416248083114624, Accuracy: 17%\n",
            "[17,     1] loss: 0.035\n",
            "Epoch: 17, Step: 0, Loss: 3.53761625289917, Accuracy: 16%\n",
            "[17,   101] loss: 3.456\n",
            "Epoch: 17, Step: 100, Loss: 3.6757729053497314, Accuracy: 17%\n",
            "[17,   201] loss: 3.466\n",
            "Epoch: 17, Step: 200, Loss: 3.4251298904418945, Accuracy: 17%\n",
            "[17,   301] loss: 3.440\n",
            "Epoch: 17, Step: 300, Loss: 3.2487518787384033, Accuracy: 17%\n",
            "[17,   401] loss: 3.440\n",
            "Epoch: 17, Step: 400, Loss: 3.3636627197265625, Accuracy: 17%\n",
            "[17,   501] loss: 3.415\n",
            "Epoch: 17, Step: 500, Loss: 3.3538570404052734, Accuracy: 17%\n",
            "[17,   601] loss: 3.447\n",
            "Epoch: 17, Step: 600, Loss: 3.5499134063720703, Accuracy: 17%\n",
            "[17,   701] loss: 3.457\n",
            "Epoch: 17, Step: 700, Loss: 3.5308895111083984, Accuracy: 17%\n",
            "[18,     1] loss: 0.038\n",
            "Epoch: 18, Step: 0, Loss: 3.765308141708374, Accuracy: 17%\n",
            "[18,   101] loss: 3.399\n",
            "Epoch: 18, Step: 100, Loss: 3.3034510612487793, Accuracy: 17%\n",
            "[18,   201] loss: 3.416\n",
            "Epoch: 18, Step: 200, Loss: 3.289947032928467, Accuracy: 17%\n",
            "[18,   301] loss: 3.415\n",
            "Epoch: 18, Step: 300, Loss: 3.329606056213379, Accuracy: 17%\n",
            "[18,   401] loss: 3.392\n",
            "Epoch: 18, Step: 400, Loss: 3.625033140182495, Accuracy: 17%\n",
            "[18,   501] loss: 3.426\n",
            "Epoch: 18, Step: 500, Loss: 3.2898471355438232, Accuracy: 17%\n",
            "[18,   601] loss: 3.381\n",
            "Epoch: 18, Step: 600, Loss: 3.1658949851989746, Accuracy: 17%\n",
            "[18,   701] loss: 3.399\n",
            "Epoch: 18, Step: 700, Loss: 3.2314352989196777, Accuracy: 17%\n",
            "[19,     1] loss: 0.033\n",
            "Epoch: 19, Step: 0, Loss: 3.2830936908721924, Accuracy: 18%\n",
            "[19,   101] loss: 3.346\n",
            "Epoch: 19, Step: 100, Loss: 3.0298802852630615, Accuracy: 18%\n",
            "[19,   201] loss: 3.366\n",
            "Epoch: 19, Step: 200, Loss: 3.4346041679382324, Accuracy: 18%\n",
            "[19,   301] loss: 3.381\n",
            "Epoch: 19, Step: 300, Loss: 3.3982977867126465, Accuracy: 18%\n",
            "[19,   401] loss: 3.350\n",
            "Epoch: 19, Step: 400, Loss: 3.4682343006134033, Accuracy: 18%\n",
            "[19,   501] loss: 3.321\n",
            "Epoch: 19, Step: 500, Loss: 3.508458375930786, Accuracy: 18%\n",
            "[19,   601] loss: 3.366\n",
            "Epoch: 19, Step: 600, Loss: 3.4380531311035156, Accuracy: 19%\n",
            "[19,   701] loss: 3.403\n",
            "Epoch: 19, Step: 700, Loss: 3.344465494155884, Accuracy: 18%\n",
            "[20,     1] loss: 0.034\n",
            "Epoch: 20, Step: 0, Loss: 3.387002468109131, Accuracy: 18%\n",
            "[20,   101] loss: 3.323\n",
            "Epoch: 20, Step: 100, Loss: 3.578955888748169, Accuracy: 19%\n",
            "[20,   201] loss: 3.322\n",
            "Epoch: 20, Step: 200, Loss: 3.4708292484283447, Accuracy: 19%\n",
            "[20,   301] loss: 3.333\n",
            "Epoch: 20, Step: 300, Loss: 2.9688830375671387, Accuracy: 19%\n",
            "[20,   401] loss: 3.308\n",
            "Epoch: 20, Step: 400, Loss: 3.521090030670166, Accuracy: 18%\n",
            "[20,   501] loss: 3.343\n",
            "Epoch: 20, Step: 500, Loss: 3.2245514392852783, Accuracy: 19%\n",
            "[20,   601] loss: 3.327\n",
            "Epoch: 20, Step: 600, Loss: 3.3759050369262695, Accuracy: 19%\n",
            "[20,   701] loss: 3.311\n",
            "Epoch: 20, Step: 700, Loss: 3.349111557006836, Accuracy: 19%\n",
            "[21,     1] loss: 0.034\n",
            "Epoch: 21, Step: 0, Loss: 3.3764901161193848, Accuracy: 19%\n",
            "[21,   101] loss: 3.278\n",
            "Epoch: 21, Step: 100, Loss: 3.25095272064209, Accuracy: 19%\n",
            "[21,   201] loss: 3.284\n",
            "Epoch: 21, Step: 200, Loss: 2.895326852798462, Accuracy: 19%\n",
            "[21,   301] loss: 3.251\n",
            "Epoch: 21, Step: 300, Loss: 3.2504098415374756, Accuracy: 20%\n",
            "[21,   401] loss: 3.291\n",
            "Epoch: 21, Step: 400, Loss: 3.202103614807129, Accuracy: 19%\n",
            "[21,   501] loss: 3.274\n",
            "Epoch: 21, Step: 500, Loss: 3.2875657081604004, Accuracy: 19%\n",
            "[21,   601] loss: 3.326\n",
            "Epoch: 21, Step: 600, Loss: 3.0399656295776367, Accuracy: 19%\n",
            "[21,   701] loss: 3.262\n",
            "Epoch: 21, Step: 700, Loss: 3.3453123569488525, Accuracy: 19%\n",
            "[22,     1] loss: 0.031\n",
            "Epoch: 22, Step: 0, Loss: 3.112643003463745, Accuracy: 19%\n",
            "[22,   101] loss: 3.240\n",
            "Epoch: 22, Step: 100, Loss: 3.1970481872558594, Accuracy: 20%\n",
            "[22,   201] loss: 3.226\n",
            "Epoch: 22, Step: 200, Loss: 3.1543023586273193, Accuracy: 20%\n",
            "[22,   301] loss: 3.228\n",
            "Epoch: 22, Step: 300, Loss: 3.364048480987549, Accuracy: 19%\n",
            "[22,   401] loss: 3.260\n",
            "Epoch: 22, Step: 400, Loss: 3.0619215965270996, Accuracy: 20%\n",
            "[22,   501] loss: 3.232\n",
            "Epoch: 22, Step: 500, Loss: 3.3864073753356934, Accuracy: 20%\n",
            "[22,   601] loss: 3.228\n",
            "Epoch: 22, Step: 600, Loss: 3.166908025741577, Accuracy: 20%\n",
            "[22,   701] loss: 3.218\n",
            "Epoch: 22, Step: 700, Loss: 3.5410094261169434, Accuracy: 20%\n",
            "[23,     1] loss: 0.034\n",
            "Epoch: 23, Step: 0, Loss: 3.4041099548339844, Accuracy: 20%\n",
            "[23,   101] loss: 3.226\n",
            "Epoch: 23, Step: 100, Loss: 3.053238868713379, Accuracy: 20%\n",
            "[23,   201] loss: 3.210\n",
            "Epoch: 23, Step: 200, Loss: 3.0340726375579834, Accuracy: 20%\n",
            "[23,   301] loss: 3.182\n",
            "Epoch: 23, Step: 300, Loss: 3.139986276626587, Accuracy: 20%\n",
            "[23,   401] loss: 3.203\n",
            "Epoch: 23, Step: 400, Loss: 3.1622180938720703, Accuracy: 20%\n",
            "[23,   501] loss: 3.171\n",
            "Epoch: 23, Step: 500, Loss: 3.4923574924468994, Accuracy: 19%\n",
            "[23,   601] loss: 3.195\n",
            "Epoch: 23, Step: 600, Loss: 3.049623489379883, Accuracy: 20%\n",
            "[23,   701] loss: 3.201\n",
            "Epoch: 23, Step: 700, Loss: 3.2096126079559326, Accuracy: 21%\n",
            "[24,     1] loss: 0.032\n",
            "Epoch: 24, Step: 0, Loss: 3.1604058742523193, Accuracy: 20%\n",
            "[24,   101] loss: 3.153\n",
            "Epoch: 24, Step: 100, Loss: 3.166621208190918, Accuracy: 20%\n",
            "[24,   201] loss: 3.149\n",
            "Epoch: 24, Step: 200, Loss: 3.0229196548461914, Accuracy: 20%\n",
            "[24,   301] loss: 3.201\n",
            "Epoch: 24, Step: 300, Loss: 3.2949934005737305, Accuracy: 20%\n",
            "[24,   401] loss: 3.172\n",
            "Epoch: 24, Step: 400, Loss: 3.209414005279541, Accuracy: 20%\n",
            "[24,   501] loss: 3.160\n",
            "Epoch: 24, Step: 500, Loss: 3.2103147506713867, Accuracy: 21%\n",
            "[24,   601] loss: 3.118\n",
            "Epoch: 24, Step: 600, Loss: 2.999018669128418, Accuracy: 20%\n",
            "[24,   701] loss: 3.156\n",
            "Epoch: 24, Step: 700, Loss: 3.297201633453369, Accuracy: 21%\n",
            "[25,     1] loss: 0.032\n",
            "Epoch: 25, Step: 0, Loss: 3.168585777282715, Accuracy: 21%\n",
            "[25,   101] loss: 3.128\n",
            "Epoch: 25, Step: 100, Loss: 3.2389416694641113, Accuracy: 21%\n",
            "[25,   201] loss: 3.115\n",
            "Epoch: 25, Step: 200, Loss: 3.3957293033599854, Accuracy: 21%\n",
            "[25,   301] loss: 3.119\n",
            "Epoch: 25, Step: 300, Loss: 3.0577733516693115, Accuracy: 21%\n",
            "[25,   401] loss: 3.098\n",
            "Epoch: 25, Step: 400, Loss: 2.89371395111084, Accuracy: 21%\n",
            "[25,   501] loss: 3.127\n",
            "Epoch: 25, Step: 500, Loss: 3.1211485862731934, Accuracy: 21%\n",
            "[25,   601] loss: 3.101\n",
            "Epoch: 25, Step: 600, Loss: 2.789673328399658, Accuracy: 21%\n",
            "[25,   701] loss: 3.116\n",
            "Epoch: 25, Step: 700, Loss: 3.1311542987823486, Accuracy: 21%\n",
            "[26,     1] loss: 0.029\n",
            "Epoch: 26, Step: 0, Loss: 2.882829427719116, Accuracy: 20%\n",
            "[26,   101] loss: 3.033\n",
            "Epoch: 26, Step: 100, Loss: 3.085812568664551, Accuracy: 21%\n",
            "[26,   201] loss: 3.047\n",
            "Epoch: 26, Step: 200, Loss: 3.2371017932891846, Accuracy: 21%\n",
            "[26,   301] loss: 3.050\n",
            "Epoch: 26, Step: 300, Loss: 3.149949550628662, Accuracy: 21%\n",
            "[26,   401] loss: 3.070\n",
            "Epoch: 26, Step: 400, Loss: 3.1657803058624268, Accuracy: 21%\n",
            "[26,   501] loss: 3.099\n",
            "Epoch: 26, Step: 500, Loss: 3.3091342449188232, Accuracy: 21%\n",
            "[26,   601] loss: 3.087\n",
            "Epoch: 26, Step: 600, Loss: 2.9524877071380615, Accuracy: 21%\n",
            "[26,   701] loss: 3.070\n",
            "Epoch: 26, Step: 700, Loss: 2.857710838317871, Accuracy: 21%\n",
            "[27,     1] loss: 0.032\n",
            "Epoch: 27, Step: 0, Loss: 3.202564001083374, Accuracy: 22%\n",
            "[27,   101] loss: 3.020\n",
            "Epoch: 27, Step: 100, Loss: 3.078731060028076, Accuracy: 21%\n",
            "[27,   201] loss: 3.033\n",
            "Epoch: 27, Step: 200, Loss: 2.7513720989227295, Accuracy: 21%\n",
            "[27,   301] loss: 3.027\n",
            "Epoch: 27, Step: 300, Loss: 2.99389910697937, Accuracy: 21%\n",
            "[27,   401] loss: 3.027\n",
            "Epoch: 27, Step: 400, Loss: 3.1917526721954346, Accuracy: 21%\n",
            "[27,   501] loss: 3.035\n",
            "Epoch: 27, Step: 500, Loss: 2.9867236614227295, Accuracy: 21%\n",
            "[27,   601] loss: 3.014\n",
            "Epoch: 27, Step: 600, Loss: 3.1385669708251953, Accuracy: 21%\n",
            "[27,   701] loss: 3.011\n",
            "Epoch: 27, Step: 700, Loss: 2.7666549682617188, Accuracy: 21%\n",
            "[28,     1] loss: 0.030\n",
            "Epoch: 28, Step: 0, Loss: 3.0178747177124023, Accuracy: 21%\n",
            "[28,   101] loss: 2.966\n",
            "Epoch: 28, Step: 100, Loss: 3.326828718185425, Accuracy: 22%\n",
            "[28,   201] loss: 2.961\n",
            "Epoch: 28, Step: 200, Loss: 3.019991159439087, Accuracy: 22%\n",
            "[28,   301] loss: 3.010\n",
            "Epoch: 28, Step: 300, Loss: 2.8694100379943848, Accuracy: 21%\n",
            "[28,   401] loss: 2.956\n",
            "Epoch: 28, Step: 400, Loss: 2.953301429748535, Accuracy: 21%\n",
            "[28,   501] loss: 2.974\n",
            "Epoch: 28, Step: 500, Loss: 2.9876925945281982, Accuracy: 21%\n",
            "[28,   601] loss: 2.985\n",
            "Epoch: 28, Step: 600, Loss: 3.0304508209228516, Accuracy: 21%\n",
            "[28,   701] loss: 2.992\n",
            "Epoch: 28, Step: 700, Loss: 3.346496820449829, Accuracy: 21%\n",
            "[29,     1] loss: 0.031\n",
            "Epoch: 29, Step: 0, Loss: 3.069565534591675, Accuracy: 22%\n",
            "[29,   101] loss: 2.906\n",
            "Epoch: 29, Step: 100, Loss: 2.2502684593200684, Accuracy: 21%\n",
            "[29,   201] loss: 2.924\n",
            "Epoch: 29, Step: 200, Loss: 2.477001190185547, Accuracy: 22%\n",
            "[29,   301] loss: 2.947\n",
            "Epoch: 29, Step: 300, Loss: 2.7620737552642822, Accuracy: 22%\n",
            "[29,   401] loss: 2.915\n",
            "Epoch: 29, Step: 400, Loss: 2.737126350402832, Accuracy: 22%\n",
            "[29,   501] loss: 2.967\n",
            "Epoch: 29, Step: 500, Loss: 3.052882432937622, Accuracy: 22%\n",
            "[29,   601] loss: 2.919\n",
            "Epoch: 29, Step: 600, Loss: 2.7139577865600586, Accuracy: 22%\n",
            "[29,   701] loss: 2.909\n",
            "Epoch: 29, Step: 700, Loss: 3.0370569229125977, Accuracy: 22%\n",
            "[30,     1] loss: 0.029\n",
            "Epoch: 30, Step: 0, Loss: 2.89825177192688, Accuracy: 22%\n",
            "[30,   101] loss: 2.852\n",
            "Epoch: 30, Step: 100, Loss: 2.887537956237793, Accuracy: 22%\n",
            "[30,   201] loss: 2.891\n",
            "Epoch: 30, Step: 200, Loss: 2.6540133953094482, Accuracy: 22%\n",
            "[30,   301] loss: 2.870\n",
            "Epoch: 30, Step: 300, Loss: 3.189856767654419, Accuracy: 22%\n",
            "[30,   401] loss: 2.876\n",
            "Epoch: 30, Step: 400, Loss: 2.7922534942626953, Accuracy: 22%\n",
            "[30,   501] loss: 2.889\n",
            "Epoch: 30, Step: 500, Loss: 2.9620747566223145, Accuracy: 22%\n",
            "[30,   601] loss: 2.863\n",
            "Epoch: 30, Step: 600, Loss: 2.8044826984405518, Accuracy: 22%\n",
            "[30,   701] loss: 2.904\n",
            "Epoch: 30, Step: 700, Loss: 2.962775230407715, Accuracy: 22%\n",
            "Finished Training\n"
          ],
          "name": "stdout"
        }
      ]
    },
    {
      "cell_type": "markdown",
      "metadata": {
        "id": "zgCHcn7NIzTm"
      },
      "source": [
        "Let's save our models:"
      ]
    },
    {
      "cell_type": "code",
      "metadata": {
        "id": "vBJJegetTQLC"
      },
      "source": [
        "path1 = './cifar1.pth'\n",
        "path2 = './cifar2.pth'\n",
        "torch.save(net.state_dict(), path1)\n",
        "torch.save(net2.state_dict(), path2)"
      ],
      "execution_count": 15,
      "outputs": []
    },
    {
      "cell_type": "markdown",
      "metadata": {
        "id": "hndOXNyhTQLJ"
      },
      "source": [
        " Test the network on the test data\n",
        "We have trained the network for 2 passes over the training dataset. But we need to check if the network has learnt anything at all.\n",
        "\n",
        "We will check this by predicting the class label that the neural network outputs, and checking it against the real values. If the prediction is correct, we add the sample to the list of correct predictions.\n",
        "\n",
        "Okay, first step. Let us display an image from the test set to get familiar."
      ]
    },
    {
      "cell_type": "markdown",
      "metadata": {
        "id": "W19QH9S-JmtX"
      },
      "source": [
        "Test Network_1 (CNN):"
      ]
    },
    {
      "cell_type": "code",
      "metadata": {
        "id": "ARDNOiAPTQLS",
        "outputId": "b7e2a8b6-5dc3-4994-b62e-1068fc93f2c4",
        "colab": {
          "base_uri": "https://localhost:8080/",
          "height": 138
        }
      },
      "source": [
        "dataiter = iter(test_loader)\n",
        "images, labels = dataiter.next()\n",
        "\n",
        "# print images\n",
        "imshow(torchvision.utils.make_grid(images[0:5]))\n",
        "print('Real values: ', ' '.join('%5s' % classes[labels[j]] for j in range(5)))"
      ],
      "execution_count": 16,
      "outputs": [
        {
          "output_type": "display_data",
          "data": {
            "image/png": "[encoded data removed]",
            "text/plain": [
              "<Figure size 432x288 with 1 Axes>"
            ]
          },
          "metadata": {
            "tags": [],
            "needs_background": "light"
          }
        },
        {
          "output_type": "stream",
          "text": [
            "Real values:  mountain forest  seal mushroom   sea\n"
          ],
          "name": "stdout"
        }
      ]
    },
    {
      "cell_type": "code",
      "metadata": {
        "id": "9y6E24bxTQLZ"
      },
      "source": [
        "outputs = net(images.to(device))"
      ],
      "execution_count": 17,
      "outputs": []
    },
    {
      "cell_type": "markdown",
      "metadata": {
        "id": "H4wBxES_TQLf"
      },
      "source": [
        "The outputs are energies for the 10 classes. The higher the energy for a class, the more the network thinks that the image is of the particular class. So, let’s get the index of the highest energy:"
      ]
    },
    {
      "cell_type": "code",
      "metadata": {
        "id": "e0XrdpOuTQLh",
        "outputId": "7464a5bc-4c84-41d1-9738-98ad9c51d9fe",
        "colab": {
          "base_uri": "https://localhost:8080/",
          "height": 34
        }
      },
      "source": [
        "_, predicted = torch.max(outputs, 1)\n",
        "\n",
        "print('Predicted: ', ' '.join('%5s' % classes[predicted[j]]\n",
        "                              for j in range(5)))"
      ],
      "execution_count": 18,
      "outputs": [
        {
          "output_type": "stream",
          "text": [
            "Predicted:  rocket leopard palm_tree skunk   sea\n"
          ],
          "name": "stdout"
        }
      ]
    },
    {
      "cell_type": "markdown",
      "metadata": {
        "id": "-S954HhRKdGW"
      },
      "source": [
        "The second net (simple fully connected):"
      ]
    },
    {
      "cell_type": "code",
      "metadata": {
        "id": "t0GW0Ss0KbIv",
        "outputId": "d927aa61-8799-4c3a-d4ec-e8d56acf0174",
        "colab": {
          "base_uri": "https://localhost:8080/",
          "height": 34
        }
      },
      "source": [
        "outputs2 = net2(images.to(device))\n",
        "_, predicted2 = torch.max(outputs2, 1)\n",
        "\n",
        "print('Predicted: ', ' '.join('%5s' % classes[predicted2[j]]\n",
        "                              for j in range(5)))"
      ],
      "execution_count": 19,
      "outputs": [
        {
          "output_type": "stream",
          "text": [
            "Predicted:  bridge crocodile camel  bowl   sea\n"
          ],
          "name": "stdout"
        }
      ]
    },
    {
      "cell_type": "markdown",
      "metadata": {
        "id": "2HU2Nw29KvrR"
      },
      "source": [
        "Hmmm. the second image do look like a car or truck.."
      ]
    },
    {
      "cell_type": "markdown",
      "metadata": {
        "id": "x61ZiEyaTQLn"
      },
      "source": [
        "Let's do some evaluations:"
      ]
    },
    {
      "cell_type": "code",
      "metadata": {
        "id": "x0rFZ_VFTQLo",
        "outputId": "d8eda2e6-b923-42ec-ebd4-b08d8e550954",
        "colab": {
          "base_uri": "https://localhost:8080/",
          "height": 34
        }
      },
      "source": [
        "correct = 0\n",
        "total = 0\n",
        "with torch.no_grad():\n",
        "    for data in test_loader:\n",
        "        # images, labels = data\n",
        "        images, labels = data[0].to(device), data[1].to(device)\n",
        "        outputs = net(images)\n",
        "        _, predicted = torch.max(outputs.data, 1)\n",
        "        total += labels.size(0)\n",
        "        correct += (predicted == labels).sum().item()\n",
        "\n",
        "print('Accuracy of the network on the 10000 test images: %d %%' % (100.0 * correct / total))"
      ],
      "execution_count": 20,
      "outputs": [
        {
          "output_type": "stream",
          "text": [
            "Accuracy of the network on the 10000 test images: 30 %\n"
          ],
          "name": "stdout"
        }
      ]
    },
    {
      "cell_type": "markdown",
      "metadata": {
        "id": "geMeaPCTK7lO"
      },
      "source": [
        "And for the second net:"
      ]
    },
    {
      "cell_type": "code",
      "metadata": {
        "id": "tIlgsX4GK6-K",
        "outputId": "4a730b8d-117c-4926-ae55-73814e39b8fa",
        "colab": {
          "base_uri": "https://localhost:8080/",
          "height": 34
        }
      },
      "source": [
        "correct = 0\n",
        "total = 0\n",
        "with torch.no_grad():\n",
        "    for data in test_loader:\n",
        "        # images, labels = data\n",
        "        images, labels = data[0].to(device), data[1].to(device)\n",
        "        outputs = net2(images)\n",
        "        _, predicted = torch.max(outputs.data, 1)\n",
        "        total += labels.size(0)\n",
        "        correct += (predicted == labels).sum().item()\n",
        "\n",
        "print('Accuracy of the network on the 10000 test images: %d %%' % (100.0 * correct / total))"
      ],
      "execution_count": 21,
      "outputs": [
        {
          "output_type": "stream",
          "text": [
            "Accuracy of the network on the 10000 test images: 22 %\n"
          ],
          "name": "stdout"
        }
      ]
    },
    {
      "cell_type": "markdown",
      "metadata": {
        "id": "vXIcSrEATQLu"
      },
      "source": [
        "That looks way better than chance, which is 10% accuracy (randomly picking a class out of 10 classes). Seems like the network learnt something.\n",
        "\n",
        "Hmmm, what are the classes that performed well, and the classes that did not perform well:"
      ]
    },
    {
      "cell_type": "markdown",
      "metadata": {
        "id": "hQId7ZttLRYF"
      },
      "source": [
        "CNN:"
      ]
    },
    {
      "cell_type": "code",
      "metadata": {
        "id": "bU5rrWRaTQLv",
        "outputId": "7a0587b8-a7c8-4ab2-ecc4-167deda68792",
        "colab": {
          "base_uri": "https://localhost:8080/",
          "height": 1000
        }
      },
      "source": [
        "class_correct = list(0. for i in range(100))\n",
        "class_total = list(0. for i in range(100))\n",
        "with torch.no_grad():\n",
        "    for data in test_loader:\n",
        "        # images, labels = data\n",
        "        images, labels = data[0].to(device), data[1].to(device)\n",
        "        outputs = net(images)\n",
        "        _, predicted = torch.max(outputs, 1)\n",
        "        c = (predicted == labels).squeeze()\n",
        "        for i in range(16):\n",
        "            label = labels[i]\n",
        "            class_correct[label] += c[i].item()\n",
        "            class_total[label] += 1\n",
        "\n",
        "\n",
        "for i in range(100):\n",
        "    print('Accuracy of %5s : %2d %%' % (\n",
        "        classes[i], 100.0 * class_correct[i] / class_total[i]))"
      ],
      "execution_count": 22,
      "outputs": [
        {
          "output_type": "stream",
          "text": [
            "Accuracy of apple : 52 %\n",
            "Accuracy of aquarium_fish : 36 %\n",
            "Accuracy of  baby : 11 %\n",
            "Accuracy of  bear : 15 %\n",
            "Accuracy of beaver : 26 %\n",
            "Accuracy of   bed : 39 %\n",
            "Accuracy of   bee : 12 %\n",
            "Accuracy of beetle : 46 %\n",
            "Accuracy of bicycle : 32 %\n",
            "Accuracy of bottle : 50 %\n",
            "Accuracy of  bowl : 13 %\n",
            "Accuracy of   boy : 15 %\n",
            "Accuracy of bridge : 18 %\n",
            "Accuracy of   bus : 22 %\n",
            "Accuracy of butterfly : 14 %\n",
            "Accuracy of camel : 20 %\n",
            "Accuracy of   can : 25 %\n",
            "Accuracy of castle : 45 %\n",
            "Accuracy of caterpillar : 25 %\n",
            "Accuracy of cattle : 18 %\n",
            "Accuracy of chair : 50 %\n",
            "Accuracy of chimpanzee : 42 %\n",
            "Accuracy of clock :  8 %\n",
            "Accuracy of cloud : 41 %\n",
            "Accuracy of cockroach : 57 %\n",
            "Accuracy of couch : 12 %\n",
            "Accuracy of  crab : 12 %\n",
            "Accuracy of crocodile : 14 %\n",
            "Accuracy of   cup : 41 %\n",
            "Accuracy of dinosaur : 36 %\n",
            "Accuracy of dolphin : 60 %\n",
            "Accuracy of elephant :  9 %\n",
            "Accuracy of flatfish : 32 %\n",
            "Accuracy of forest : 20 %\n",
            "Accuracy of   fox : 31 %\n",
            "Accuracy of  girl :  0 %\n",
            "Accuracy of hamster : 18 %\n",
            "Accuracy of house : 29 %\n",
            "Accuracy of kangaroo : 22 %\n",
            "Accuracy of keyboard : 11 %\n",
            "Accuracy of  lamp : 28 %\n",
            "Accuracy of lawn_mower : 53 %\n",
            "Accuracy of leopard : 15 %\n",
            "Accuracy of  lion : 25 %\n",
            "Accuracy of lizard :  8 %\n",
            "Accuracy of lobster : 11 %\n",
            "Accuracy of   man : 28 %\n",
            "Accuracy of maple_tree : 53 %\n",
            "Accuracy of motorcycle : 54 %\n",
            "Accuracy of mountain : 44 %\n",
            "Accuracy of mouse :  0 %\n",
            "Accuracy of mushroom : 21 %\n",
            "Accuracy of oak_tree : 91 %\n",
            "Accuracy of orange : 46 %\n",
            "Accuracy of orchid : 52 %\n",
            "Accuracy of otter :  0 %\n",
            "Accuracy of palm_tree : 61 %\n",
            "Accuracy of  pear : 26 %\n",
            "Accuracy of pickup_truck : 30 %\n",
            "Accuracy of pine_tree : 12 %\n",
            "Accuracy of plain : 76 %\n",
            "Accuracy of plate : 23 %\n",
            "Accuracy of poppy : 36 %\n",
            "Accuracy of porcupine : 29 %\n",
            "Accuracy of possum :  7 %\n",
            "Accuracy of rabbit : 12 %\n",
            "Accuracy of raccoon : 13 %\n",
            "Accuracy of   ray : 24 %\n",
            "Accuracy of  road : 75 %\n",
            "Accuracy of rocket : 69 %\n",
            "Accuracy of  rose :  8 %\n",
            "Accuracy of   sea : 58 %\n",
            "Accuracy of  seal :  3 %\n",
            "Accuracy of shark : 18 %\n",
            "Accuracy of shrew :  8 %\n",
            "Accuracy of skunk : 70 %\n",
            "Accuracy of skyscraper : 58 %\n",
            "Accuracy of snail :  8 %\n",
            "Accuracy of snake :  0 %\n",
            "Accuracy of spider : 20 %\n",
            "Accuracy of squirrel :  8 %\n",
            "Accuracy of streetcar : 18 %\n",
            "Accuracy of sunflower : 73 %\n",
            "Accuracy of sweet_pepper : 29 %\n",
            "Accuracy of table : 18 %\n",
            "Accuracy of  tank : 48 %\n",
            "Accuracy of telephone : 24 %\n",
            "Accuracy of television : 28 %\n",
            "Accuracy of tiger : 25 %\n",
            "Accuracy of tractor : 43 %\n",
            "Accuracy of train : 52 %\n",
            "Accuracy of trout : 36 %\n",
            "Accuracy of tulip : 13 %\n",
            "Accuracy of turtle :  5 %\n",
            "Accuracy of wardrobe : 50 %\n",
            "Accuracy of whale : 65 %\n",
            "Accuracy of willow_tree :  9 %\n",
            "Accuracy of  wolf : 30 %\n",
            "Accuracy of woman :  4 %\n",
            "Accuracy of  worm : 31 %\n"
          ],
          "name": "stdout"
        }
      ]
    },
    {
      "cell_type": "markdown",
      "metadata": {
        "id": "Nr7caQ8ILUgE"
      },
      "source": [
        "Fully-Connected:"
      ]
    },
    {
      "cell_type": "code",
      "metadata": {
        "id": "XXzaw3kDLWzs",
        "outputId": "3deb27bc-3a51-4768-cda4-0aa9644102d6",
        "colab": {
          "base_uri": "https://localhost:8080/",
          "height": 1000
        }
      },
      "source": [
        "class_correct = list(0. for i in range(100))\n",
        "class_total = list(0. for i in range(100))\n",
        "with torch.no_grad():\n",
        "    for data in test_loader:\n",
        "        # images, labels = data\n",
        "        images, labels = data[0].to(device), data[1].to(device)\n",
        "        outputs = net2(images)\n",
        "        _, predicted = torch.max(outputs, 1)\n",
        "        c = (predicted == labels).squeeze()\n",
        "        for i in range(16):\n",
        "            label = labels[i]\n",
        "            class_correct[label] += c[i].item()\n",
        "            class_total[label] += 1\n",
        "\n",
        "\n",
        "for i in range(100):\n",
        "    print('Accuracy of %5s : %2d %%' % (\n",
        "        classes[i], 100.0 * class_correct[i] / class_total[i]))"
      ],
      "execution_count": 23,
      "outputs": [
        {
          "output_type": "stream",
          "text": [
            "Accuracy of apple : 43 %\n",
            "Accuracy of aquarium_fish : 36 %\n",
            "Accuracy of  baby :  0 %\n",
            "Accuracy of  bear : 15 %\n",
            "Accuracy of beaver :  3 %\n",
            "Accuracy of   bed : 46 %\n",
            "Accuracy of   bee : 25 %\n",
            "Accuracy of beetle : 12 %\n",
            "Accuracy of bicycle : 17 %\n",
            "Accuracy of bottle : 33 %\n",
            "Accuracy of  bowl :  4 %\n",
            "Accuracy of   boy :  7 %\n",
            "Accuracy of bridge : 11 %\n",
            "Accuracy of   bus : 25 %\n",
            "Accuracy of butterfly :  7 %\n",
            "Accuracy of camel : 16 %\n",
            "Accuracy of   can : 21 %\n",
            "Accuracy of castle : 54 %\n",
            "Accuracy of caterpillar : 29 %\n",
            "Accuracy of cattle :  3 %\n",
            "Accuracy of chair : 28 %\n",
            "Accuracy of chimpanzee : 47 %\n",
            "Accuracy of clock :  4 %\n",
            "Accuracy of cloud : 25 %\n",
            "Accuracy of cockroach : 46 %\n",
            "Accuracy of couch :  0 %\n",
            "Accuracy of  crab :  0 %\n",
            "Accuracy of crocodile : 25 %\n",
            "Accuracy of   cup : 34 %\n",
            "Accuracy of dinosaur : 16 %\n",
            "Accuracy of dolphin : 39 %\n",
            "Accuracy of elephant :  9 %\n",
            "Accuracy of flatfish : 20 %\n",
            "Accuracy of forest : 40 %\n",
            "Accuracy of   fox :  4 %\n",
            "Accuracy of  girl : 21 %\n",
            "Accuracy of hamster : 22 %\n",
            "Accuracy of house : 16 %\n",
            "Accuracy of kangaroo : 29 %\n",
            "Accuracy of keyboard :  5 %\n",
            "Accuracy of  lamp : 10 %\n",
            "Accuracy of lawn_mower : 33 %\n",
            "Accuracy of leopard :  6 %\n",
            "Accuracy of  lion : 37 %\n",
            "Accuracy of lizard : 12 %\n",
            "Accuracy of lobster : 29 %\n",
            "Accuracy of   man : 19 %\n",
            "Accuracy of maple_tree : 38 %\n",
            "Accuracy of motorcycle : 27 %\n",
            "Accuracy of mountain : 11 %\n",
            "Accuracy of mouse :  3 %\n",
            "Accuracy of mushroom : 10 %\n",
            "Accuracy of oak_tree : 83 %\n",
            "Accuracy of orange : 65 %\n",
            "Accuracy of orchid : 34 %\n",
            "Accuracy of otter :  0 %\n",
            "Accuracy of palm_tree : 30 %\n",
            "Accuracy of  pear : 21 %\n",
            "Accuracy of pickup_truck : 21 %\n",
            "Accuracy of pine_tree : 20 %\n",
            "Accuracy of plain : 84 %\n",
            "Accuracy of plate : 35 %\n",
            "Accuracy of poppy : 36 %\n",
            "Accuracy of porcupine : 16 %\n",
            "Accuracy of possum :  3 %\n",
            "Accuracy of rabbit :  0 %\n",
            "Accuracy of raccoon : 20 %\n",
            "Accuracy of   ray : 31 %\n",
            "Accuracy of  road : 58 %\n",
            "Accuracy of rocket : 44 %\n",
            "Accuracy of  rose : 16 %\n",
            "Accuracy of   sea : 32 %\n",
            "Accuracy of  seal :  0 %\n",
            "Accuracy of shark :  9 %\n",
            "Accuracy of shrew : 28 %\n",
            "Accuracy of skunk : 62 %\n",
            "Accuracy of skyscraper : 48 %\n",
            "Accuracy of snail :  4 %\n",
            "Accuracy of snake :  0 %\n",
            "Accuracy of spider :  8 %\n",
            "Accuracy of squirrel :  0 %\n",
            "Accuracy of streetcar : 18 %\n",
            "Accuracy of sunflower : 42 %\n",
            "Accuracy of sweet_pepper : 17 %\n",
            "Accuracy of table :  4 %\n",
            "Accuracy of  tank : 40 %\n",
            "Accuracy of telephone : 51 %\n",
            "Accuracy of television : 21 %\n",
            "Accuracy of tiger :  7 %\n",
            "Accuracy of tractor : 23 %\n",
            "Accuracy of train :  4 %\n",
            "Accuracy of trout : 40 %\n",
            "Accuracy of tulip :  4 %\n",
            "Accuracy of turtle :  5 %\n",
            "Accuracy of wardrobe : 33 %\n",
            "Accuracy of whale : 47 %\n",
            "Accuracy of willow_tree :  4 %\n",
            "Accuracy of  wolf :  5 %\n",
            "Accuracy of woman :  4 %\n",
            "Accuracy of  worm : 27 %\n"
          ],
          "name": "stdout"
        }
      ]
    },
    {
      "cell_type": "markdown",
      "metadata": {
        "id": "K4mTdJEyLgus"
      },
      "source": [
        "Let's do the visualiztions I promised you:"
      ]
    },
    {
      "cell_type": "markdown",
      "metadata": {
        "id": "0Ycm_PpALl18"
      },
      "source": [
        "CNN:"
      ]
    },
    {
      "cell_type": "code",
      "metadata": {
        "id": "Dz4MeDezcB87",
        "outputId": "b302c941-2922-4412-ba91-c168d958eae1",
        "colab": {
          "base_uri": "https://localhost:8080/",
          "height": 573
        }
      },
      "source": [
        "mtplt.plot(range(len(accuracy_list)), accuracy_list)\n",
        "mtplt.xlabel(\"# Step\")\n",
        "mtplt.ylabel(\"Accuracy\")\n",
        "mtplt.title(\"Step vs Accuracy\")\n",
        "mtplt.show()\n",
        "\n",
        "mtplt.plot(range(len(loss_list)), loss_list)\n",
        "mtplt.xlabel(\"# Step\")\n",
        "mtplt.ylabel(\"Loss\")\n",
        "mtplt.title(\"Step vs Loss\")\n",
        "mtplt.show()"
      ],
      "execution_count": 40,
      "outputs": [
        {
          "output_type": "display_data",
          "data": {
            "image/png": "[encoded data removed]",
            "text/plain": [
              "<Figure size 432x288 with 1 Axes>"
            ]
          },
          "metadata": {
            "tags": [],
            "needs_background": "light"
          }
        },
        {
          "output_type": "display_data",
          "data": {
            "image/png": "[encoded data removed]",
            "text/plain": [
              "<Figure size 432x288 with 1 Axes>"
            ]
          },
          "metadata": {
            "tags": [],
            "needs_background": "light"
          }
        }
      ]
    },
    {
      "cell_type": "markdown",
      "metadata": {
        "id": "5G5xjz30Lm3s"
      },
      "source": [
        "FC:"
      ]
    },
    {
      "cell_type": "code",
      "metadata": {
        "id": "SbQXP3SsTQL1",
        "outputId": "2e346868-ecd8-4166-f009-a546d3c0fa23",
        "colab": {
          "base_uri": "https://localhost:8080/",
          "height": 573
        }
      },
      "source": [
        "mtplt.plot(range(len(accuracy_list2)), accuracy_list2)\n",
        "mtplt.xlabel(\"# Step\")\n",
        "mtplt.ylabel(\"Accuracy\")\n",
        "mtplt.title(\"Step vs Accuracy\")\n",
        "mtplt.show()\n",
        "\n",
        "mtplt.plot(range(len(loss_list2)), loss_list2)\n",
        "mtplt.xlabel(\"# Step\")\n",
        "mtplt.ylabel(\"Loss\")\n",
        "mtplt.title(\"Step vs Loss\")\n",
        "mtplt.show()"
      ],
      "execution_count": 41,
      "outputs": [
        {
          "output_type": "display_data",
          "data": {
            "image/png": "[encoded data removed]",
            "text/plain": [
              "<Figure size 432x288 with 1 Axes>"
            ]
          },
          "metadata": {
            "tags": [],
            "needs_background": "light"
          }
        },
        {
          "output_type": "display_data",
          "data": {
            "image/png": "[encoded data removed]",
            "text/plain": [
              "<Figure size 432x288 with 1 Axes>"
            ]
          },
          "metadata": {
            "tags": [],
            "needs_background": "light"
          }
        }
      ]
    }
  ]
}