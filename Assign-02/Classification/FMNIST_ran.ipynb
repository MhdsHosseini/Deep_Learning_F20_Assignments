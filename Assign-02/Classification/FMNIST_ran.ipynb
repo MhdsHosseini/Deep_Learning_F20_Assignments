{
 "cells": [
  {
   "cell_type": "markdown",
   "metadata": {
    "id": "0nYQqaK8TQHG"
   },
   "source": [
    "MH"
   ]
  },
  {
   "cell_type": "markdown",
   "metadata": {
    "id": "I4kWnkgyTQHL"
   },
   "source": [
    "Train neural network models (at least two different networks for each dataset, i.e., no. layers, no. neurons, activation, ...) in either Tensorflow or Pytorch to perform classification on the following datasets:\n",
    "\n",
    "Fashion-MNIST"
   ]
  },
  {
   "cell_type": "code",
   "execution_count": 1,
   "metadata": {
    "colab": {
     "base_uri": "https://localhost:8080/",
     "height": 34
    },
    "id": "DOorW6XQTQHP",
    "outputId": "4c37da18-ee09-4270-de8d-13ffb79095e4"
   },
   "outputs": [
    {
     "name": "stdout",
     "output_type": "stream",
     "text": [
      "imported!\n"
     ]
    }
   ],
   "source": [
    "import torch\n",
    "import torch.nn as nn\n",
    "import torch.nn.functional as F\n",
    "import torchvision\n",
    "import torchvision.transforms as transforms\n",
    " \n",
    "import numpy as np\n",
    "import PIL\n",
    "import matplotlib.pyplot as mtplt\n",
    " \n",
    "print(\"imported!\")"
   ]
  },
  {
   "cell_type": "markdown",
   "metadata": {
    "id": "25otVEtgTQHh"
   },
   "source": [
    "Import data:"
   ]
  },
  {
   "cell_type": "markdown",
   "metadata": {
    "id": "7uHmMxepDVFa"
   },
   "source": [
    "Download and extract the data, then rename to cifar-10:"
   ]
  },
  {
   "cell_type": "code",
   "execution_count": null,
   "metadata": {
    "id": "4z_mJpLIVyEP"
   },
   "outputs": [],
   "source": [
    "!wget \"https://github.com/zalandoresearch/fashion-mnist/raw/master/data/fashion/t10k-images-idx3-ubyte.gz\"\n",
    "!wget \"https://github.com/zalandoresearch/fashion-mnist/raw/master/data/fashion/t10k-labels-idx1-ubyte.gz\"\n",
    "!wget \"https://github.com/zalandoresearch/fashion-mnist/raw/master/data/fashion/train-images-idx3-ubyte.gz\"\n",
    "!wget \"https://github.com/zalandoresearch/fashion-mnist/raw/master/data/fashion/train-labels-idx1-ubyte.gz\""
   ]
  },
  {
   "cell_type": "code",
   "execution_count": 2,
   "metadata": {
    "id": "soXN2G04uUiE"
   },
   "outputs": [],
   "source": [
    "!mkdir data\n",
    "!mkdir data/fmnist\n",
    "!for a in *.gz; do gunzip -c $a > data/fmnist/`echo $a | sed s/.gz//`; done"
   ]
  },
  {
   "cell_type": "markdown",
   "metadata": {
    "id": "VCfzfIoqDydD"
   },
   "source": [
    "Create a dataset with manual import:"
   ]
  },
  {
   "cell_type": "code",
   "execution_count": 3,
   "metadata": {
    "id": "AAuuoFonTQJu"
   },
   "outputs": [],
   "source": [
    "import warnings\n",
    "from PIL import Image\n",
    "import os\n",
    "import os.path\n",
    "import numpy as np\n",
    "import torch\n",
    "import codecs\n",
    "import string\n",
    "from typing import Any, Callable, Dict, IO, List, Optional, Tuple, Union\n",
    "from torchvision.datasets.vision import VisionDataset\n",
    "import gzip\n",
    "import lzma\n",
    "\n",
    "class FashionMNIST(torchvision.datasets.vision.VisionDataset):\n",
    "    base_folder = 'fmnist'\n",
    "    training_file = 'training.pt'\n",
    "    test_file = 'test.pt'\n",
    "    classes = ['T-shirt/top', 'Trouser', 'Pullover', 'Dress', 'Coat', 'Sandal',\n",
    "               'Shirt', 'Sneaker', 'Bag', 'Ankle boot']\n",
    " \n",
    "    @property\n",
    "    def classes_names(self):\n",
    "        warnings.warn(\"train_labels has been renamed targets\")\n",
    "        return self.classes\n",
    "\n",
    "    @property\n",
    "    def train_labels(self):\n",
    "        warnings.warn(\"train_labels has been renamed targets\")\n",
    "        return self.targets\n",
    "\n",
    "    @property\n",
    "    def test_labels(self):\n",
    "        warnings.warn(\"test_labels has been renamed targets\")\n",
    "        return self.targets\n",
    "\n",
    "    @property\n",
    "    def train_data(self):\n",
    "        warnings.warn(\"train_data has been renamed data\")\n",
    "        return self.data\n",
    "\n",
    "    @property\n",
    "    def test_data(self):\n",
    "        warnings.warn(\"test_data has been renamed data\")\n",
    "        return self.data\n",
    "  \n",
    "    def __init__(\n",
    "            self,\n",
    "            root: str,\n",
    "            train: bool = True,\n",
    "            transform: Optional[Callable] = None,\n",
    "            target_transform: Optional[Callable] = None\n",
    "    ) -> None:\n",
    " \n",
    "        super(FashionMNIST, self).__init__(root, transform=transform,\n",
    "                                      target_transform=target_transform)\n",
    "        \n",
    "        self.base_folder = os.path.join(root, self.base_folder)\n",
    "\n",
    "        self.train = train  # training set or test set\n",
    " \n",
    "        if self.train:\n",
    "            data_file = self.training_file\n",
    "        else:\n",
    "            data_file = self.test_file\n",
    "\n",
    "        print('Processing...')\n",
    "        training_set = (\n",
    "            read_image_file(os.path.join(self.base_folder, 'train-images-idx3-ubyte')),\n",
    "            read_label_file(os.path.join(self.base_folder, 'train-labels-idx1-ubyte'))\n",
    "        )\n",
    "        test_set = (\n",
    "            read_image_file(os.path.join(self.base_folder, 't10k-images-idx3-ubyte')),\n",
    "            read_label_file(os.path.join(self.base_folder, 't10k-labels-idx1-ubyte'))\n",
    "        )\n",
    "        with open(os.path.join(self.base_folder, self.training_file), 'wb') as f:\n",
    "            torch.save(training_set, f)\n",
    "        with open(os.path.join(self.base_folder, self.test_file), 'wb') as f:\n",
    "            torch.save(test_set, f)\n",
    "\n",
    "        print('Done!')\n",
    " \n",
    "        self.data, self.targets = torch.load(os.path.join(self.base_folder, data_file))\n",
    " \n",
    "    def __getitem__(self, index):\n",
    "        \"\"\"\n",
    "        Args:\n",
    "            index (int): Index\n",
    "\n",
    "        Returns:\n",
    "            tuple: (image, target) where target is index of the target class.\n",
    "        \"\"\"\n",
    "        img, target = self.data[index], int(self.targets[index])\n",
    "\n",
    "        # doing this so that it is consistent with all other datasets\n",
    "        # to return a PIL Image\n",
    "        img = Image.fromarray(img.numpy(), mode='L')\n",
    "\n",
    "        if self.transform is not None:\n",
    "            img = self.transform(img)\n",
    "\n",
    "        if self.target_transform is not None:\n",
    "            target = self.target_transform(target)\n",
    "\n",
    "        return img, target\n",
    " \n",
    "    def __len__(self) -> int:\n",
    "        return len(self.data)\n",
    " \n",
    "    def extra_repr(self) -> str:\n",
    "        return \"Split: {}\".format(\"Train\" if self.train is True else \"Test\")\n",
    "\n",
    "def get_int(b: bytes) -> int:\n",
    "    return int(codecs.encode(b, 'hex'), 16)\n",
    "\n",
    "def open_maybe_compressed_file(path: Union[str, IO]) -> Union[IO, gzip.GzipFile]:\n",
    "    \"\"\"Return a file object that possibly decompresses 'path' on the fly.\n",
    "      Decompression occurs when argument `path` is a string and ends with '.gz' or '.xz'.\n",
    "    \"\"\"\n",
    "    if not isinstance(path, torch._six.string_classes):\n",
    "        return path\n",
    "    if path.endswith('.gz'):\n",
    "        return gzip.open(path, 'rb')\n",
    "    if path.endswith('.xz'):\n",
    "        return lzma.open(path, 'rb')\n",
    "    return open(path, 'rb')\n",
    "\n",
    "SN3_PASCALVINCENT_TYPEMAP = {\n",
    "    8: (torch.uint8, np.uint8, np.uint8),\n",
    "    9: (torch.int8, np.int8, np.int8),\n",
    "    11: (torch.int16, np.dtype('>i2'), 'i2'),\n",
    "    12: (torch.int32, np.dtype('>i4'), 'i4'),\n",
    "    13: (torch.float32, np.dtype('>f4'), 'f4'),\n",
    "    14: (torch.float64, np.dtype('>f8'), 'f8')\n",
    "}\n",
    "\n",
    "def read_sn3_pascalvincent_tensor(path: Union[str, IO], strict: bool = True) -> torch.Tensor:\n",
    "    \"\"\"Read a SN3 file in \"Pascal Vincent\" format (Lush file 'libidx/idx-io.lsh').\n",
    "      Argument may be a filename, compressed filename, or file object.\n",
    "    \"\"\"\n",
    "    # read\n",
    "    with open_maybe_compressed_file(path) as f:\n",
    "        data = f.read()\n",
    "    # parse\n",
    "    magic = get_int(data[0:4])\n",
    "    nd = magic % 256\n",
    "    ty = magic // 256\n",
    "    assert nd >= 1 and nd <= 3\n",
    "    assert ty >= 8 and ty <= 14\n",
    "    m = SN3_PASCALVINCENT_TYPEMAP[ty]\n",
    "    s = [get_int(data[4 * (i + 1): 4 * (i + 2)]) for i in range(nd)]\n",
    "    parsed = np.frombuffer(data, dtype=m[1], offset=(4 * (nd + 1)))\n",
    "    assert parsed.shape[0] == np.prod(s) or not strict\n",
    "    return torch.from_numpy(parsed.astype(m[2], copy=False)).view(*s)\n",
    "\n",
    "def read_label_file(path: str) -> torch.Tensor:\n",
    "    with open(path, 'rb') as f:\n",
    "        x = read_sn3_pascalvincent_tensor(f, strict=False)\n",
    "    assert(x.dtype == torch.uint8)\n",
    "    assert(x.ndimension() == 1)\n",
    "    return x.long()\n",
    "\n",
    "def read_image_file(path: str) -> torch.Tensor:\n",
    "    with open(path, 'rb') as f:\n",
    "        x = read_sn3_pascalvincent_tensor(f, strict=False)\n",
    "    assert(x.dtype == torch.uint8)\n",
    "    assert(x.ndimension() == 3)\n",
    "    return x"
   ]
  },
  {
   "cell_type": "markdown",
   "metadata": {
    "id": "jnrGub1qEAMB"
   },
   "source": [
    "Load training and test set and loaders using the previous custom dataset, then applying a normalization transform with mean and std of 0.5 for 3 channels:"
   ]
  },
  {
   "cell_type": "code",
   "execution_count": 5,
   "metadata": {
    "colab": {
     "base_uri": "https://localhost:8080/",
     "height": 86
    },
    "id": "5q0S6HJ_TQJ5",
    "outputId": "5f7b9fec-4b68-4b1a-fa0e-8b23c0a14dad"
   },
   "outputs": [
    {
     "name": "stdout",
     "output_type": "stream",
     "text": [
      "Processing...\n",
      "Done!\n",
      "Processing...\n",
      "Done!\n"
     ]
    }
   ],
   "source": [
    "transf = transforms.Compose(\n",
    "    [transforms.ToTensor(),\n",
    "     transforms.Normalize((0.5), (0.5))])\n",
    " \n",
    "train_set = FashionMNIST(root='./data', train=True, transform=transf)\n",
    "test_set = FashionMNIST(root='./data', train=False, transform=transf)\n",
    " \n",
    "train_loader = torch.utils.data.DataLoader(train_set, batch_size=64,\n",
    "                                          shuffle=True, num_workers=2)\n",
    "test_loader = torch.utils.data.DataLoader(test_set, batch_size=64,\n",
    "                                         shuffle=False, num_workers=2)\n",
    "classes = train_set.classes"
   ]
  },
  {
   "cell_type": "markdown",
   "metadata": {
    "id": "WyonT-6n-9qH"
   },
   "source": [
    "Show some images:"
   ]
  },
  {
   "cell_type": "code",
   "execution_count": 6,
   "metadata": {
    "colab": {
     "base_uri": "https://localhost:8080/",
     "height": 138
    },
    "id": "Gg1mj94j-9qJ",
    "outputId": "4b07171c-3a48-4193-dc6c-301c6cce3a7d"
   },
   "outputs": [
    {
     "data": {
      "image/png": "[encoded data removed]",
      "text/plain": [
       "<Figure size 432x288 with 1 Axes>"
      ]
     },
     "metadata": {
      "needs_background": "light",
      "tags": []
     },
     "output_type": "display_data"
    },
    {
     "name": "stdout",
     "output_type": "stream",
     "text": [
      "classes:  Sneaker T-shirt/top Ankle boot Dress   Bag\n"
     ]
    }
   ],
   "source": [
    "# functions to show an image\n",
    "def imshow(img):\n",
    "    img = img / 2 + 0.5     # unnormalize\n",
    "    npimg = img.numpy()\n",
    "    mtplt.imshow(np.transpose(npimg, (1, 2, 0)))\n",
    "    mtplt.show()\n",
    "\n",
    "\n",
    "# get some random training images\n",
    "dataiter = iter(train_loader)\n",
    "images, labels = dataiter.next()\n",
    "\n",
    "# show images\n",
    "imshow(torchvision.utils.make_grid(images[0:5]))\n",
    "\n",
    "print('classes: ', ' '.join('%5s' % classes[labels[j]] for j in range(5)))"
   ]
  },
  {
   "cell_type": "markdown",
   "metadata": {
    "id": "DmyMmMxoTQKD"
   },
   "source": [
    "Define two networks, one using a simple multi-layer fully-connected network and one using convolutional layers (CNN):"
   ]
  },
  {
   "cell_type": "code",
   "execution_count": 7,
   "metadata": {
    "id": "1pdMj1piTQKF"
   },
   "outputs": [],
   "source": [
    "import torch.nn as nn\n",
    "import torch.nn.functional as F\n",
    "\n",
    "class Net(nn.Module):\n",
    "    def __init__(self):\n",
    "        super(Net, self).__init__()\n",
    "        self.conv1 = nn.Conv2d(1, 32, 3)\n",
    "        self.pool = nn.MaxPool2d(2, 2)\n",
    "        self.drop = nn.Dropout(0.2)\n",
    "        self.conv2 = nn.Conv2d(32, 64, 3)\n",
    "        self.fc1 = nn.Linear(64 * 5 * 5, 196)\n",
    "        self.fc2 = nn.Linear(196, 128)\n",
    "        self.out = nn.Linear(128, 10)\n",
    "\n",
    "    def forward(self, x):\n",
    "        x = self.pool(F.relu(self.conv1(x)))\n",
    "        x = self.drop(x)\n",
    "        x = self.pool(F.relu(self.conv2(x)))\n",
    "        x = x.view(x.size(0), -1)\n",
    "        x = F.relu(self.fc1(x))\n",
    "        x = F.relu(self.fc2(x))\n",
    "        x = self.drop(x)\n",
    "        x = self.out(x)\n",
    "        return x\n",
    "\n",
    "\n",
    "net = Net()"
   ]
  },
  {
   "cell_type": "code",
   "execution_count": 8,
   "metadata": {
    "id": "Ik2wwVQdTjlz"
   },
   "outputs": [],
   "source": [
    "import torch.nn.functional as F\n",
    "\n",
    "class Net2(nn.Module):\n",
    "    def __init__(self):\n",
    "        super(Net2, self).__init__()\n",
    "        self.linear1 = nn.Linear(1*28*28, 784)\n",
    "        self.linear2 = nn.Linear(784, 1024)\n",
    "        self.linear3 = nn.Linear(1024, 512)\n",
    "        self.linear4 = nn.Linear(512, 256)\n",
    "        self.linear5 = nn.Linear(256, 10)\n",
    "        \n",
    "    def forward(self, xb):\n",
    "        # Flatten images into vectors\n",
    "        out = xb.view(xb.size(0), -1)\n",
    "        out = self.linear1(out)\n",
    "        out = F.relu(out)\n",
    "        out = self.linear2(out)\n",
    "        out = F.relu(out)\n",
    "        out = self.linear3(out)\n",
    "        out = F.relu(out)\n",
    "        out = self.linear4(out)\n",
    "        out = F.relu(out)\n",
    "        out = self.linear5(out)\n",
    "        return out\n",
    "net2 = Net2()"
   ]
  },
  {
   "cell_type": "markdown",
   "metadata": {
    "id": "UmkmVq_PTQKR"
   },
   "source": [
    "Define a Loss function and optimizer"
   ]
  },
  {
   "cell_type": "code",
   "execution_count": 9,
   "metadata": {
    "id": "Yc780seuTQKT"
   },
   "outputs": [],
   "source": [
    "import torch.optim as optim\n",
    "\n",
    "criterion = nn.CrossEntropyLoss()\n",
    "optimizer = optim.SGD(net.parameters(), lr=0.001, momentum=0.9)"
   ]
  },
  {
   "cell_type": "code",
   "execution_count": 10,
   "metadata": {
    "id": "L1iqB51xdOt5"
   },
   "outputs": [],
   "source": [
    "import torch.optim as optim\n",
    "\n",
    "criterion2 = nn.CrossEntropyLoss()\n",
    "optimizer2 = optim.SGD(net2.parameters(), lr=0.0015, momentum=0.8)"
   ]
  },
  {
   "cell_type": "markdown",
   "metadata": {
    "id": "dW-WISEBTQKf"
   },
   "source": [
    "Train the network\n",
    "\n",
    "This is when things start to get interesting. We simply have to loop over our data iterator, and feed the inputs to the network and optimize"
   ]
  },
  {
   "cell_type": "code",
   "execution_count": 11,
   "metadata": {
    "colab": {
     "base_uri": "https://localhost:8080/",
     "height": 34
    },
    "id": "TAe3dmljTQKg",
    "outputId": "dd86c693-6ea0-41c3-fd69-5fa2993035fe"
   },
   "outputs": [
    {
     "name": "stdout",
     "output_type": "stream",
     "text": [
      "cuda:0\n"
     ]
    }
   ],
   "source": [
    "device = torch.device(\"cuda:0\" if torch.cuda.is_available() else \"cpu\")\n",
    " \n",
    "# Assuming that we are on a CUDA machine, this should print a CUDA device:\n",
    " \n",
    "print(device)"
   ]
  },
  {
   "cell_type": "code",
   "execution_count": 12,
   "metadata": {
    "colab": {
     "base_uri": "https://localhost:8080/",
     "height": 171
    },
    "id": "iQdRX1sDTQKq",
    "outputId": "dcf1cd5c-0b06-4443-d043-985a95c41161"
   },
   "outputs": [
    {
     "data": {
      "text/plain": [
       "Net(\n",
       "  (conv1): Conv2d(1, 32, kernel_size=(3, 3), stride=(1, 1))\n",
       "  (pool): MaxPool2d(kernel_size=2, stride=2, padding=0, dilation=1, ceil_mode=False)\n",
       "  (drop): Dropout(p=0.2, inplace=False)\n",
       "  (conv2): Conv2d(32, 64, kernel_size=(3, 3), stride=(1, 1))\n",
       "  (fc1): Linear(in_features=1600, out_features=196, bias=True)\n",
       "  (fc2): Linear(in_features=196, out_features=128, bias=True)\n",
       "  (out): Linear(in_features=128, out_features=10, bias=True)\n",
       ")"
      ]
     },
     "execution_count": 12,
     "metadata": {
      "tags": []
     },
     "output_type": "execute_result"
    }
   ],
   "source": [
    "net.to(device)"
   ]
  },
  {
   "cell_type": "code",
   "execution_count": 13,
   "metadata": {
    "colab": {
     "base_uri": "https://localhost:8080/",
     "height": 1000
    },
    "id": "ugiBizTnTQK6",
    "outputId": "bede99c6-03f6-4137-8a0f-90e249e1071b"
   },
   "outputs": [
    {
     "name": "stdout",
     "output_type": "stream",
     "text": [
      "[1,     0] loss: 0.023\n",
      "Epoch: 1, Step: 0, Loss: 2.316044569015503, Accuracy: 12.079999923706055 %\n",
      "[1,   300] loss: 6.646\n",
      "Epoch: 1, Step: 300, Loss: 1.9714899063110352, Accuracy: 50.939998626708984 %\n",
      "[1,   600] loss: 3.746\n",
      "Epoch: 1, Step: 600, Loss: 0.8372088670730591, Accuracy: 67.13999938964844 %\n",
      "[1,   900] loss: 2.453\n",
      "Epoch: 1, Step: 900, Loss: 0.5651400089263916, Accuracy: 71.43000030517578 %\n",
      "[2,     0] loss: 0.007\n",
      "Epoch: 2, Step: 0, Loss: 0.7170043587684631, Accuracy: 72.33999633789062 %\n",
      "[2,   300] loss: 2.100\n",
      "Epoch: 2, Step: 300, Loss: 0.68874192237854, Accuracy: 74.8699951171875 %\n",
      "[2,   600] loss: 1.959\n",
      "Epoch: 2, Step: 600, Loss: 0.4139203727245331, Accuracy: 74.06999969482422 %\n",
      "[2,   900] loss: 1.858\n",
      "Epoch: 2, Step: 900, Loss: 0.7830067873001099, Accuracy: 77.18000030517578 %\n",
      "[3,     0] loss: 0.007\n",
      "Epoch: 3, Step: 0, Loss: 0.6851627826690674, Accuracy: 76.75 %\n",
      "[3,   300] loss: 1.751\n",
      "Epoch: 3, Step: 300, Loss: 0.5013720989227295, Accuracy: 77.22999572753906 %\n",
      "[3,   600] loss: 1.689\n",
      "Epoch: 3, Step: 600, Loss: 0.6033231616020203, Accuracy: 78.16999816894531 %\n",
      "[3,   900] loss: 1.652\n",
      "Epoch: 3, Step: 900, Loss: 0.5372017025947571, Accuracy: 79.29999542236328 %\n",
      "[4,     0] loss: 0.006\n",
      "Epoch: 4, Step: 0, Loss: 0.5624545812606812, Accuracy: 79.52999877929688 %\n",
      "[4,   300] loss: 1.600\n",
      "Epoch: 4, Step: 300, Loss: 0.34727033972740173, Accuracy: 79.54999542236328 %\n",
      "[4,   600] loss: 1.559\n",
      "Epoch: 4, Step: 600, Loss: 0.8734577298164368, Accuracy: 79.55999755859375 %\n",
      "[4,   900] loss: 1.518\n",
      "Epoch: 4, Step: 900, Loss: 0.48912179470062256, Accuracy: 81.19999694824219 %\n",
      "[5,     0] loss: 0.005\n",
      "Epoch: 5, Step: 0, Loss: 0.5100853443145752, Accuracy: 80.95999908447266 %\n",
      "[5,   300] loss: 1.505\n",
      "Epoch: 5, Step: 300, Loss: 0.46719831228256226, Accuracy: 81.19999694824219 %\n",
      "[5,   600] loss: 1.452\n",
      "Epoch: 5, Step: 600, Loss: 0.49998706579208374, Accuracy: 81.9000015258789 %\n",
      "[5,   900] loss: 1.418\n",
      "Epoch: 5, Step: 900, Loss: 0.6520470380783081, Accuracy: 82.31999969482422 %\n",
      "[6,     0] loss: 0.004\n",
      "Epoch: 6, Step: 0, Loss: 0.4381515383720398, Accuracy: 82.45999908447266 %\n",
      "[6,   300] loss: 1.387\n",
      "Epoch: 6, Step: 300, Loss: 0.5933303833007812, Accuracy: 82.18999481201172 %\n",
      "[6,   600] loss: 1.362\n",
      "Epoch: 6, Step: 600, Loss: 0.36633288860321045, Accuracy: 82.30999755859375 %\n",
      "[6,   900] loss: 1.380\n",
      "Epoch: 6, Step: 900, Loss: 0.2696877121925354, Accuracy: 82.87999725341797 %\n",
      "[7,     0] loss: 0.004\n",
      "Epoch: 7, Step: 0, Loss: 0.4437526762485504, Accuracy: 82.54999542236328 %\n",
      "[7,   300] loss: 1.319\n",
      "Epoch: 7, Step: 300, Loss: 0.16455620527267456, Accuracy: 83.4000015258789 %\n",
      "[7,   600] loss: 1.341\n",
      "Epoch: 7, Step: 600, Loss: 0.3748660683631897, Accuracy: 83.38999938964844 %\n",
      "[7,   900] loss: 1.290\n",
      "Epoch: 7, Step: 900, Loss: 0.38208678364753723, Accuracy: 83.73999786376953 %\n",
      "[8,     0] loss: 0.004\n",
      "Epoch: 8, Step: 0, Loss: 0.39006030559539795, Accuracy: 82.97000122070312 %\n",
      "[8,   300] loss: 1.272\n",
      "Epoch: 8, Step: 300, Loss: 0.3181404769420624, Accuracy: 84.1500015258789 %\n",
      "[8,   600] loss: 1.252\n",
      "Epoch: 8, Step: 600, Loss: 0.42588359117507935, Accuracy: 83.97000122070312 %\n",
      "[8,   900] loss: 1.249\n",
      "Epoch: 8, Step: 900, Loss: 0.297533243894577, Accuracy: 83.81999969482422 %\n",
      "[9,     0] loss: 0.004\n",
      "Epoch: 9, Step: 0, Loss: 0.3594025671482086, Accuracy: 84.43999481201172 %\n",
      "[9,   300] loss: 1.233\n",
      "Epoch: 9, Step: 300, Loss: 0.5003656148910522, Accuracy: 83.6500015258789 %\n",
      "[9,   600] loss: 1.237\n",
      "Epoch: 9, Step: 600, Loss: 0.5341197848320007, Accuracy: 84.43999481201172 %\n",
      "[9,   900] loss: 1.178\n",
      "Epoch: 9, Step: 900, Loss: 0.5451337099075317, Accuracy: 83.36000061035156 %\n",
      "[10,     0] loss: 0.004\n",
      "Epoch: 10, Step: 0, Loss: 0.43423253297805786, Accuracy: 84.3699951171875 %\n",
      "[10,   300] loss: 1.159\n",
      "Epoch: 10, Step: 300, Loss: 0.33478355407714844, Accuracy: 84.54000091552734 %\n",
      "[10,   600] loss: 1.173\n",
      "Epoch: 10, Step: 600, Loss: 0.45617398619651794, Accuracy: 85.5 %\n",
      "[10,   900] loss: 1.179\n",
      "Epoch: 10, Step: 900, Loss: 0.28937533497810364, Accuracy: 85.80999755859375 %\n",
      "Finished Training\n"
     ]
    }
   ],
   "source": [
    "from torch.autograd import Variable\n",
    "\n",
    "epochs=10\n",
    "\n",
    "# for later visualiztions:\n",
    "loss_list = []\n",
    "iteration_list = []\n",
    "accuracy_list = []\n",
    "\n",
    "for epoch in range(epochs):  # loop over the dataset multiple times\n",
    "    running_loss = 0.0\n",
    "    for i, data in enumerate(train_loader, 0):\n",
    "        # get the inputs; data is a list of [inputs, labels]\n",
    "        \n",
    "        inputs, labels = data[0].to(device), data[1].to(device)\n",
    "\n",
    "        # zero the parameter gradients\n",
    "        optimizer.zero_grad()\n",
    "\n",
    "        # forward + backward + optimize\n",
    "        outputs = net(inputs)\n",
    "        loss = criterion(outputs, labels)\n",
    "        loss.backward()\n",
    "        optimizer.step()\n",
    "\n",
    "        \n",
    "        # Testing the model\n",
    "        if not (i % 50):\n",
    "            total = 0\n",
    "            correct = 0\n",
    "        \n",
    "            for images, label in test_loader:\n",
    "                images, label = images.to(device), label.to(device)\n",
    "            \n",
    "                # test = Variable(images.view(16, 3, 32, 32))\n",
    "                test = images\n",
    "            \n",
    "                output = net(test)\n",
    "            \n",
    "                predictions = torch.max(output, 1)[1].to(device)\n",
    "                correct += (predictions == label).sum()\n",
    "            \n",
    "                total += len(label)\n",
    "            \n",
    "            accuracy = (correct * 100.0) / total\n",
    "            loss_list.append(loss.data)\n",
    "            iteration_list.append(i)\n",
    "            accuracy_list.append(accuracy)\n",
    "\n",
    "        # print statistics\n",
    "        running_loss += loss.item()\n",
    "        if not (i % 300):    # print every 100 mini-batches\n",
    "            \n",
    "            print('[%d, %5d] loss: %.3f' %\n",
    "                  (epoch + 1, i, running_loss / 100))\n",
    "            running_loss = 0.0\n",
    "            \n",
    "            print(\"Epoch: {}, Step: {}, Loss: {}, Accuracy: {} %\"\n",
    "              .format(epoch + 1, i, loss.data, accuracy)\n",
    "            )\n",
    "\n",
    "print('Finished Training')"
   ]
  },
  {
   "cell_type": "code",
   "execution_count": 14,
   "metadata": {
    "colab": {
     "base_uri": "https://localhost:8080/",
     "height": 137
    },
    "id": "296iKiJuBwjY",
    "outputId": "10d4c1a8-8ca9-48ed-88d5-925e129eb797"
   },
   "outputs": [
    {
     "data": {
      "text/plain": [
       "Net2(\n",
       "  (linear1): Linear(in_features=784, out_features=784, bias=True)\n",
       "  (linear2): Linear(in_features=784, out_features=1024, bias=True)\n",
       "  (linear3): Linear(in_features=1024, out_features=512, bias=True)\n",
       "  (linear4): Linear(in_features=512, out_features=256, bias=True)\n",
       "  (linear5): Linear(in_features=256, out_features=10, bias=True)\n",
       ")"
      ]
     },
     "execution_count": 14,
     "metadata": {
      "tags": []
     },
     "output_type": "execute_result"
    }
   ],
   "source": [
    "net2.to(device)"
   ]
  },
  {
   "cell_type": "code",
   "execution_count": 15,
   "metadata": {
    "colab": {
     "base_uri": "https://localhost:8080/",
     "height": 1000
    },
    "id": "_B934uvPcddu",
    "outputId": "703372de-4253-44ed-a3fc-5f964dadbc47"
   },
   "outputs": [
    {
     "name": "stdout",
     "output_type": "stream",
     "text": [
      "[1,     1] loss: 0.023\n",
      "Epoch: 1, Step: 0, Loss: 2.3046960830688477, Accuracy: 9.0%\n",
      "[1,   101] loss: 2.294\n",
      "Epoch: 1, Step: 100, Loss: 2.288299560546875, Accuracy: 11.0%\n",
      "[1,   201] loss: 2.276\n",
      "Epoch: 1, Step: 200, Loss: 2.2693495750427246, Accuracy: 30.0%\n",
      "[1,   301] loss: 2.246\n",
      "Epoch: 1, Step: 300, Loss: 2.225290298461914, Accuracy: 34.0%\n",
      "[1,   401] loss: 2.188\n",
      "Epoch: 1, Step: 400, Loss: 2.1053807735443115, Accuracy: 41.0%\n",
      "[1,   501] loss: 2.042\n",
      "Epoch: 1, Step: 500, Loss: 1.8671149015426636, Accuracy: 33.0%\n",
      "[1,   601] loss: 1.750\n",
      "Epoch: 1, Step: 600, Loss: 1.6576341390609741, Accuracy: 49.0%\n",
      "[1,   701] loss: 1.436\n",
      "Epoch: 1, Step: 700, Loss: 1.2721002101898193, Accuracy: 51.0%\n",
      "[1,   801] loss: 1.189\n",
      "Epoch: 1, Step: 800, Loss: 1.178025722503662, Accuracy: 62.0%\n",
      "[1,   901] loss: 1.035\n",
      "Epoch: 1, Step: 900, Loss: 1.016913890838623, Accuracy: 65.0%\n",
      "[2,     1] loss: 0.010\n",
      "Epoch: 2, Step: 0, Loss: 0.969550609588623, Accuracy: 63.0%\n",
      "[2,   101] loss: 0.900\n",
      "Epoch: 2, Step: 100, Loss: 0.9533087015151978, Accuracy: 67.0%\n",
      "[2,   201] loss: 0.826\n",
      "Epoch: 2, Step: 200, Loss: 0.9158520698547363, Accuracy: 69.0%\n",
      "[2,   301] loss: 0.799\n",
      "Epoch: 2, Step: 300, Loss: 0.8334586024284363, Accuracy: 71.0%\n",
      "[2,   401] loss: 0.772\n",
      "Epoch: 2, Step: 400, Loss: 0.7588921785354614, Accuracy: 72.0%\n",
      "[2,   501] loss: 0.715\n",
      "Epoch: 2, Step: 500, Loss: 0.551241397857666, Accuracy: 72.0%\n",
      "[2,   601] loss: 0.700\n",
      "Epoch: 2, Step: 600, Loss: 0.6357897520065308, Accuracy: 73.0%\n",
      "[2,   701] loss: 0.662\n",
      "Epoch: 2, Step: 700, Loss: 0.6413559317588806, Accuracy: 74.0%\n",
      "[2,   801] loss: 0.671\n",
      "Epoch: 2, Step: 800, Loss: 0.6324359774589539, Accuracy: 74.0%\n",
      "[2,   901] loss: 0.645\n",
      "Epoch: 2, Step: 900, Loss: 0.7600242495536804, Accuracy: 75.0%\n",
      "[3,     1] loss: 0.005\n",
      "Epoch: 3, Step: 0, Loss: 0.5476683974266052, Accuracy: 75.0%\n",
      "[3,   101] loss: 0.632\n",
      "Epoch: 3, Step: 100, Loss: 0.6511048078536987, Accuracy: 76.0%\n",
      "[3,   201] loss: 0.617\n",
      "Epoch: 3, Step: 200, Loss: 0.6692470908164978, Accuracy: 76.0%\n",
      "[3,   301] loss: 0.608\n",
      "Epoch: 3, Step: 300, Loss: 0.4969424605369568, Accuracy: 76.0%\n",
      "[3,   401] loss: 0.584\n",
      "Epoch: 3, Step: 400, Loss: 0.5228796601295471, Accuracy: 77.0%\n",
      "[3,   501] loss: 0.568\n",
      "Epoch: 3, Step: 500, Loss: 0.5151997804641724, Accuracy: 77.0%\n",
      "[3,   601] loss: 0.571\n",
      "Epoch: 3, Step: 600, Loss: 0.5260271430015564, Accuracy: 78.0%\n",
      "[3,   701] loss: 0.554\n",
      "Epoch: 3, Step: 700, Loss: 0.4917343258857727, Accuracy: 78.0%\n",
      "[3,   801] loss: 0.566\n",
      "Epoch: 3, Step: 800, Loss: 0.7212453484535217, Accuracy: 78.0%\n",
      "[3,   901] loss: 0.564\n",
      "Epoch: 3, Step: 900, Loss: 0.7066827416419983, Accuracy: 78.0%\n",
      "[4,     1] loss: 0.005\n",
      "Epoch: 4, Step: 0, Loss: 0.5175996422767639, Accuracy: 79.0%\n",
      "[4,   101] loss: 0.551\n",
      "Epoch: 4, Step: 100, Loss: 0.4396929442882538, Accuracy: 79.0%\n",
      "[4,   201] loss: 0.549\n",
      "Epoch: 4, Step: 200, Loss: 0.4060917794704437, Accuracy: 79.0%\n",
      "[4,   301] loss: 0.519\n",
      "Epoch: 4, Step: 300, Loss: 0.5276461243629456, Accuracy: 79.0%\n",
      "[4,   401] loss: 0.518\n",
      "Epoch: 4, Step: 400, Loss: 0.5046303868293762, Accuracy: 80.0%\n",
      "[4,   501] loss: 0.512\n",
      "Epoch: 4, Step: 500, Loss: 0.39697200059890747, Accuracy: 80.0%\n",
      "[4,   601] loss: 0.517\n",
      "Epoch: 4, Step: 600, Loss: 0.6377686262130737, Accuracy: 80.0%\n",
      "[4,   701] loss: 0.497\n",
      "Epoch: 4, Step: 700, Loss: 0.16167521476745605, Accuracy: 80.0%\n",
      "[4,   801] loss: 0.501\n",
      "Epoch: 4, Step: 800, Loss: 0.45387202501296997, Accuracy: 80.0%\n",
      "[4,   901] loss: 0.500\n",
      "Epoch: 4, Step: 900, Loss: 0.40552958846092224, Accuracy: 81.0%\n",
      "[5,     1] loss: 0.006\n",
      "Epoch: 5, Step: 0, Loss: 0.6076838970184326, Accuracy: 80.0%\n",
      "[5,   101] loss: 0.492\n",
      "Epoch: 5, Step: 100, Loss: 0.5177492499351501, Accuracy: 81.0%\n",
      "[5,   201] loss: 0.482\n",
      "Epoch: 5, Step: 200, Loss: 0.34399116039276123, Accuracy: 80.0%\n",
      "[5,   301] loss: 0.479\n",
      "Epoch: 5, Step: 300, Loss: 0.5518190860748291, Accuracy: 81.0%\n",
      "[5,   401] loss: 0.487\n",
      "Epoch: 5, Step: 400, Loss: 0.46544408798217773, Accuracy: 81.0%\n",
      "[5,   501] loss: 0.468\n",
      "Epoch: 5, Step: 500, Loss: 0.38497495651245117, Accuracy: 82.0%\n",
      "[5,   601] loss: 0.470\n",
      "Epoch: 5, Step: 600, Loss: 0.5160518884658813, Accuracy: 82.0%\n",
      "[5,   701] loss: 0.463\n",
      "Epoch: 5, Step: 700, Loss: 0.4736432433128357, Accuracy: 81.0%\n",
      "[5,   801] loss: 0.474\n",
      "Epoch: 5, Step: 800, Loss: 0.3633902072906494, Accuracy: 82.0%\n",
      "[5,   901] loss: 0.478\n",
      "Epoch: 5, Step: 900, Loss: 0.3269580006599426, Accuracy: 82.0%\n",
      "[6,     1] loss: 0.003\n",
      "Epoch: 6, Step: 0, Loss: 0.30246713757514954, Accuracy: 82.0%\n",
      "[6,   101] loss: 0.463\n",
      "Epoch: 6, Step: 100, Loss: 0.5126624703407288, Accuracy: 82.0%\n",
      "[6,   201] loss: 0.448\n",
      "Epoch: 6, Step: 200, Loss: 0.6083396077156067, Accuracy: 82.0%\n",
      "[6,   301] loss: 0.460\n",
      "Epoch: 6, Step: 300, Loss: 0.4181874692440033, Accuracy: 82.0%\n",
      "[6,   401] loss: 0.457\n",
      "Epoch: 6, Step: 400, Loss: 0.5363807082176208, Accuracy: 82.0%\n",
      "[6,   501] loss: 0.437\n",
      "Epoch: 6, Step: 500, Loss: 0.6845590472221375, Accuracy: 82.0%\n",
      "[6,   601] loss: 0.441\n",
      "Epoch: 6, Step: 600, Loss: 0.5232425928115845, Accuracy: 82.0%\n",
      "[6,   701] loss: 0.427\n",
      "Epoch: 6, Step: 700, Loss: 0.35460028052330017, Accuracy: 82.0%\n",
      "[6,   801] loss: 0.440\n",
      "Epoch: 6, Step: 800, Loss: 0.33768394589424133, Accuracy: 82.0%\n",
      "[6,   901] loss: 0.449\n",
      "Epoch: 6, Step: 900, Loss: 0.400614857673645, Accuracy: 83.0%\n",
      "[7,     1] loss: 0.004\n",
      "Epoch: 7, Step: 0, Loss: 0.36751002073287964, Accuracy: 83.0%\n",
      "[7,   101] loss: 0.436\n",
      "Epoch: 7, Step: 100, Loss: 0.3619215786457062, Accuracy: 81.0%\n",
      "[7,   201] loss: 0.438\n",
      "Epoch: 7, Step: 200, Loss: 0.46827271580696106, Accuracy: 83.0%\n",
      "[7,   301] loss: 0.422\n",
      "Epoch: 7, Step: 300, Loss: 0.6084375977516174, Accuracy: 83.0%\n",
      "[7,   401] loss: 0.425\n",
      "Epoch: 7, Step: 400, Loss: 0.4473613202571869, Accuracy: 82.0%\n",
      "[7,   501] loss: 0.415\n",
      "Epoch: 7, Step: 500, Loss: 0.682072103023529, Accuracy: 83.0%\n",
      "[7,   601] loss: 0.439\n",
      "Epoch: 7, Step: 600, Loss: 0.6612676382064819, Accuracy: 83.0%\n",
      "[7,   701] loss: 0.420\n",
      "Epoch: 7, Step: 700, Loss: 0.3232339322566986, Accuracy: 83.0%\n",
      "[7,   801] loss: 0.410\n",
      "Epoch: 7, Step: 800, Loss: 0.6322245001792908, Accuracy: 82.0%\n",
      "[7,   901] loss: 0.426\n",
      "Epoch: 7, Step: 900, Loss: 0.39645200967788696, Accuracy: 83.0%\n",
      "[8,     1] loss: 0.009\n",
      "Epoch: 8, Step: 0, Loss: 0.8848226070404053, Accuracy: 83.0%\n",
      "[8,   101] loss: 0.411\n",
      "Epoch: 8, Step: 100, Loss: 0.42644643783569336, Accuracy: 84.0%\n",
      "[8,   201] loss: 0.404\n",
      "Epoch: 8, Step: 200, Loss: 0.4168441593647003, Accuracy: 83.0%\n",
      "[8,   301] loss: 0.426\n",
      "Epoch: 8, Step: 300, Loss: 0.5489378571510315, Accuracy: 84.0%\n",
      "[8,   401] loss: 0.404\n",
      "Epoch: 8, Step: 400, Loss: 0.45641589164733887, Accuracy: 83.0%\n",
      "[8,   501] loss: 0.409\n",
      "Epoch: 8, Step: 500, Loss: 0.31512966752052307, Accuracy: 84.0%\n",
      "[8,   601] loss: 0.399\n",
      "Epoch: 8, Step: 600, Loss: 0.3475574851036072, Accuracy: 84.0%\n",
      "[8,   701] loss: 0.411\n",
      "Epoch: 8, Step: 700, Loss: 0.36890938878059387, Accuracy: 84.0%\n",
      "[8,   801] loss: 0.401\n",
      "Epoch: 8, Step: 800, Loss: 0.3544558584690094, Accuracy: 83.0%\n",
      "[8,   901] loss: 0.387\n",
      "Epoch: 8, Step: 900, Loss: 0.2175312489271164, Accuracy: 84.0%\n",
      "[9,     1] loss: 0.005\n",
      "Epoch: 9, Step: 0, Loss: 0.48520350456237793, Accuracy: 84.0%\n",
      "[9,   101] loss: 0.397\n",
      "Epoch: 9, Step: 100, Loss: 0.29641783237457275, Accuracy: 84.0%\n",
      "[9,   201] loss: 0.395\n",
      "Epoch: 9, Step: 200, Loss: 0.3308568596839905, Accuracy: 84.0%\n",
      "[9,   301] loss: 0.395\n",
      "Epoch: 9, Step: 300, Loss: 0.4850383400917053, Accuracy: 84.0%\n",
      "[9,   401] loss: 0.374\n",
      "Epoch: 9, Step: 400, Loss: 0.2511173486709595, Accuracy: 84.0%\n",
      "[9,   501] loss: 0.379\n",
      "Epoch: 9, Step: 500, Loss: 0.46119585633277893, Accuracy: 84.0%\n",
      "[9,   601] loss: 0.394\n",
      "Epoch: 9, Step: 600, Loss: 0.4208191931247711, Accuracy: 84.0%\n",
      "[9,   701] loss: 0.405\n",
      "Epoch: 9, Step: 700, Loss: 0.5058050751686096, Accuracy: 84.0%\n",
      "[9,   801] loss: 0.385\n",
      "Epoch: 9, Step: 800, Loss: 0.375003844499588, Accuracy: 84.0%\n",
      "[9,   901] loss: 0.379\n",
      "Epoch: 9, Step: 900, Loss: 0.3221248984336853, Accuracy: 85.0%\n",
      "[10,     1] loss: 0.006\n",
      "Epoch: 10, Step: 0, Loss: 0.5724229216575623, Accuracy: 84.0%\n",
      "[10,   101] loss: 0.390\n",
      "Epoch: 10, Step: 100, Loss: 0.3145639896392822, Accuracy: 84.0%\n",
      "[10,   201] loss: 0.385\n",
      "Epoch: 10, Step: 200, Loss: 0.2877618074417114, Accuracy: 85.0%\n",
      "[10,   301] loss: 0.358\n",
      "Epoch: 10, Step: 300, Loss: 0.48442167043685913, Accuracy: 85.0%\n",
      "[10,   401] loss: 0.394\n",
      "Epoch: 10, Step: 400, Loss: 0.42264288663864136, Accuracy: 85.0%\n",
      "[10,   501] loss: 0.368\n",
      "Epoch: 10, Step: 500, Loss: 0.3488016128540039, Accuracy: 84.0%\n",
      "[10,   601] loss: 0.361\n",
      "Epoch: 10, Step: 600, Loss: 0.2542995810508728, Accuracy: 85.0%\n",
      "[10,   701] loss: 0.362\n",
      "Epoch: 10, Step: 700, Loss: 0.5026589035987854, Accuracy: 84.0%\n",
      "[10,   801] loss: 0.366\n",
      "Epoch: 10, Step: 800, Loss: 0.4009787142276764, Accuracy: 85.0%\n",
      "[10,   901] loss: 0.372\n",
      "Epoch: 10, Step: 900, Loss: 0.6912618279457092, Accuracy: 85.0%\n",
      "Finished Training\n"
     ]
    }
   ],
   "source": [
    "from torch.autograd import Variable\n",
    "\n",
    "# for later visualiztions:\n",
    "loss_list2 = []\n",
    "iteration_list2 = []\n",
    "accuracy_list2 = []\n",
    "\n",
    "\n",
    "for epoch in range(epochs):  # loop over the dataset multiple times\n",
    "    running_loss = 0.0\n",
    "    for i, data in enumerate(train_loader, 0):\n",
    "        # get the inputs; data is a list of [inputs, labels]\n",
    "        \n",
    "        # inputs, labels = data[0], data[1]\n",
    "        inputs, labels = data[0].to(device), data[1].to(device)\n",
    " \n",
    "        # zero the parameter gradients\n",
    "        optimizer2.zero_grad()\n",
    " \n",
    "        # forward + backward + optimize\n",
    "        outputs = net2(inputs)\n",
    "        loss = criterion2(outputs, labels)\n",
    "        loss.backward()\n",
    "        optimizer2.step()\n",
    " \n",
    "        \n",
    "        # Testing the model\n",
    "        if not (i % 50):\n",
    "            total = 0\n",
    "            correct = 0\n",
    "        \n",
    "            for images, label in test_loader:\n",
    "                images, label = images.to(device), label.to(device)\n",
    "            \n",
    "                # test = Variable(images.view(4, 3, 32, 32))\n",
    "                test = images\n",
    "            \n",
    "                output = net2(test)\n",
    "            \n",
    "                predictions = torch.max(output, 1)[1].to(device)\n",
    "                correct += (predictions == label).sum()\n",
    "            \n",
    "                total += len(label)\n",
    "            \n",
    "            accuracy = (correct * 100.0) / total\n",
    "            loss_list2.append(loss.data)\n",
    "            iteration_list2.append(i)\n",
    "            accuracy_list2.append(accuracy)\n",
    "\n",
    "        # print statistics\n",
    "        running_loss += loss.item()\n",
    "        if not (i % 100):    # print every 100 mini-batches\n",
    "            \n",
    "            print('[%d, %5d] loss: %.3f' %\n",
    "                  (epoch + 1, i + 1, running_loss / 100))\n",
    "            running_loss = 0.0\n",
    "            \n",
    "            print(\"Epoch: {}, Step: {}, Loss: {}, Accuracy: {}%\"\n",
    "              .format(epoch + 1, i, loss.data, accuracy)\n",
    "            )\n",
    "\n",
    "print('Finished Training')"
   ]
  },
  {
   "cell_type": "markdown",
   "metadata": {
    "id": "zgCHcn7NIzTm"
   },
   "source": [
    "Let's save our models:"
   ]
  },
  {
   "cell_type": "code",
   "execution_count": 16,
   "metadata": {
    "id": "vBJJegetTQLC"
   },
   "outputs": [],
   "source": [
    "path1 = './fashion.pth'\n",
    "path2 = './fashion2.pth'\n",
    "torch.save(net.state_dict(), path1)\n",
    "torch.save(net2.state_dict(), path2)"
   ]
  },
  {
   "cell_type": "markdown",
   "metadata": {
    "id": "hndOXNyhTQLJ"
   },
   "source": [
    " Test the network on the test data\n",
    "We have trained the network for 2 passes over the training dataset. But we need to check if the network has learnt anything at all.\n",
    "\n",
    "We will check this by predicting the class label that the neural network outputs, and checking it against the real values. If the prediction is correct, we add the sample to the list of correct predictions.\n",
    "\n",
    "Okay, first step. Let us display an image from the test set to get familiar."
   ]
  },
  {
   "cell_type": "markdown",
   "metadata": {
    "id": "W19QH9S-JmtX"
   },
   "source": [
    "Test Network_1 (CNN):"
   ]
  },
  {
   "cell_type": "code",
   "execution_count": 17,
   "metadata": {
    "colab": {
     "base_uri": "https://localhost:8080/",
     "height": 138
    },
    "id": "ARDNOiAPTQLS",
    "outputId": "f62d644c-db26-4660-d540-4ac30c309af3"
   },
   "outputs": [
    {
     "data": {
      "image/png": "[encoded data removed]",
      "text/plain": [
       "<Figure size 432x288 with 1 Axes>"
      ]
     },
     "metadata": {
      "needs_background": "light",
      "tags": []
     },
     "output_type": "display_data"
    },
    {
     "name": "stdout",
     "output_type": "stream",
     "text": [
      "Real values:  Ankle boot Pullover Trouser Trouser Shirt\n"
     ]
    }
   ],
   "source": [
    "dataiter = iter(test_loader)\n",
    "images, labels = dataiter.next()\n",
    "\n",
    "# print images\n",
    "imshow(torchvision.utils.make_grid(images[0:5]))\n",
    "print('Real values: ', ' '.join('%5s' % classes[labels[j]] for j in range(5)))"
   ]
  },
  {
   "cell_type": "code",
   "execution_count": 18,
   "metadata": {
    "id": "9y6E24bxTQLZ"
   },
   "outputs": [],
   "source": [
    "outputs = net(images.to(device))"
   ]
  },
  {
   "cell_type": "markdown",
   "metadata": {
    "id": "H4wBxES_TQLf"
   },
   "source": [
    "The outputs are energies for the 10 classes. The higher the energy for a class, the more the network thinks that the image is of the particular class. So, let’s get the index of the highest energy:"
   ]
  },
  {
   "cell_type": "code",
   "execution_count": 19,
   "metadata": {
    "colab": {
     "base_uri": "https://localhost:8080/",
     "height": 34
    },
    "id": "e0XrdpOuTQLh",
    "outputId": "9b6c497a-5ff4-4d9f-b634-a21a581d3358"
   },
   "outputs": [
    {
     "name": "stdout",
     "output_type": "stream",
     "text": [
      "Predicted:  Ankle boot Pullover Trouser Trouser Shirt\n"
     ]
    }
   ],
   "source": [
    "_, predicted = torch.max(outputs, 1)\n",
    "\n",
    "print('Predicted: ', ' '.join('%5s' % classes[predicted[j]]\n",
    "                              for j in range(5)))"
   ]
  },
  {
   "cell_type": "markdown",
   "metadata": {
    "id": "-S954HhRKdGW"
   },
   "source": [
    "The second net (simple fully connected):"
   ]
  },
  {
   "cell_type": "code",
   "execution_count": 20,
   "metadata": {
    "colab": {
     "base_uri": "https://localhost:8080/",
     "height": 34
    },
    "id": "t0GW0Ss0KbIv",
    "outputId": "58337ab6-18f9-44f7-97d0-8b331fb8e8a4"
   },
   "outputs": [
    {
     "name": "stdout",
     "output_type": "stream",
     "text": [
      "Predicted:  Ankle boot Pullover Trouser Trouser Shirt\n"
     ]
    }
   ],
   "source": [
    "outputs2 = net2(images.to(device))\n",
    "_, predicted2 = torch.max(outputs2, 1)\n",
    "\n",
    "print('Predicted: ', ' '.join('%5s' % classes[predicted2[j]]\n",
    "                              for j in range(5)))"
   ]
  },
  {
   "cell_type": "markdown",
   "metadata": {
    "id": "x61ZiEyaTQLn"
   },
   "source": [
    "Let's do some evaluations:"
   ]
  },
  {
   "cell_type": "code",
   "execution_count": 21,
   "metadata": {
    "colab": {
     "base_uri": "https://localhost:8080/",
     "height": 34
    },
    "id": "x0rFZ_VFTQLo",
    "outputId": "7cf32b73-1394-43ab-a74d-5f353dcf778a"
   },
   "outputs": [
    {
     "name": "stdout",
     "output_type": "stream",
     "text": [
      "Accuracy of the network on the 10000 test images: 85 %\n"
     ]
    }
   ],
   "source": [
    "correct = 0\n",
    "total = 0\n",
    "with torch.no_grad():\n",
    "    for data in test_loader:\n",
    "        # images, labels = data\n",
    "        images, labels = data[0].to(device), data[1].to(device)\n",
    "        outputs = net(images)\n",
    "        _, predicted = torch.max(outputs.data, 1)\n",
    "        total += labels.size(0)\n",
    "        correct += (predicted == labels).sum().item()\n",
    "\n",
    "print('Accuracy of the network on the 10000 test images: %d %%' % (100.0 * correct / total))"
   ]
  },
  {
   "cell_type": "markdown",
   "metadata": {
    "id": "geMeaPCTK7lO"
   },
   "source": [
    "And for the second net:"
   ]
  },
  {
   "cell_type": "code",
   "execution_count": 22,
   "metadata": {
    "colab": {
     "base_uri": "https://localhost:8080/",
     "height": 34
    },
    "id": "tIlgsX4GK6-K",
    "outputId": "187211aa-5092-46f0-bfda-51054e99ad0c"
   },
   "outputs": [
    {
     "name": "stdout",
     "output_type": "stream",
     "text": [
      "Accuracy of the network on the 10000 test images: 85 %\n"
     ]
    }
   ],
   "source": [
    "correct = 0\n",
    "total = 0\n",
    "with torch.no_grad():\n",
    "    for data in test_loader:\n",
    "        # images, labels = data\n",
    "        images, labels = data[0].to(device), data[1].to(device)\n",
    "        outputs = net2(images)\n",
    "        _, predicted = torch.max(outputs.data, 1)\n",
    "        total += labels.size(0)\n",
    "        correct += (predicted == labels).sum().item()\n",
    "\n",
    "print('Accuracy of the network on the 10000 test images: %d %%' % (100.0 * correct / total))"
   ]
  },
  {
   "cell_type": "markdown",
   "metadata": {
    "id": "vXIcSrEATQLu"
   },
   "source": [
    "That looks way better than chance, which is 10% accuracy (randomly picking a class out of 10 classes). Seems like the network learnt something.\n",
    "\n",
    "Hmmm, what are the classes that performed well, and the classes that did not perform well:"
   ]
  },
  {
   "cell_type": "markdown",
   "metadata": {
    "id": "hQId7ZttLRYF"
   },
   "source": [
    "CNN:"
   ]
  },
  {
   "cell_type": "code",
   "execution_count": 23,
   "metadata": {
    "colab": {
     "base_uri": "https://localhost:8080/",
     "height": 188
    },
    "id": "bU5rrWRaTQLv",
    "outputId": "caaa1274-6dad-4c04-c4c4-b0d371fd3237"
   },
   "outputs": [
    {
     "name": "stdout",
     "output_type": "stream",
     "text": [
      "Accuracy of T-shirt/top : 84 %\n",
      "Accuracy of Trouser : 95 %\n",
      "Accuracy of Pullover : 75 %\n",
      "Accuracy of Dress : 83 %\n",
      "Accuracy of  Coat : 73 %\n",
      "Accuracy of Sandal : 96 %\n",
      "Accuracy of Shirt : 57 %\n",
      "Accuracy of Sneaker : 91 %\n",
      "Accuracy of   Bag : 95 %\n",
      "Accuracy of Ankle boot : 94 %\n"
     ]
    }
   ],
   "source": [
    "class_correct = list(0. for i in range(10))\n",
    "class_total = list(0. for i in range(10))\n",
    "with torch.no_grad():\n",
    "    for data in test_loader:\n",
    "        # images, labels = data\n",
    "        images, labels = data[0].to(device), data[1].to(device)\n",
    "        outputs = net(images)\n",
    "        _, predicted = torch.max(outputs, 1)\n",
    "        c = (predicted == labels).squeeze()\n",
    "        for i in range(16):\n",
    "            label = labels[i]\n",
    "            class_correct[label] += c[i].item()\n",
    "            class_total[label] += 1\n",
    "\n",
    "\n",
    "for i in range(10):\n",
    "    print('Accuracy of %5s : %2d %%' % (\n",
    "        classes[i], 100.0 * class_correct[i] / class_total[i]))"
   ]
  },
  {
   "cell_type": "markdown",
   "metadata": {
    "id": "Nr7caQ8ILUgE"
   },
   "source": [
    "Fully-Connected:"
   ]
  },
  {
   "cell_type": "code",
   "execution_count": 24,
   "metadata": {
    "colab": {
     "base_uri": "https://localhost:8080/",
     "height": 188
    },
    "id": "XXzaw3kDLWzs",
    "outputId": "43d0fd57-54cb-45e8-a32e-8576726caae0"
   },
   "outputs": [
    {
     "name": "stdout",
     "output_type": "stream",
     "text": [
      "Accuracy of T-shirt/top : 84 %\n",
      "Accuracy of Trouser : 94 %\n",
      "Accuracy of Pullover : 73 %\n",
      "Accuracy of Dress : 86 %\n",
      "Accuracy of  Coat : 74 %\n",
      "Accuracy of Sandal : 93 %\n",
      "Accuracy of Shirt : 63 %\n",
      "Accuracy of Sneaker : 91 %\n",
      "Accuracy of   Bag : 95 %\n",
      "Accuracy of Ankle boot : 95 %\n"
     ]
    }
   ],
   "source": [
    "class_correct = list(0. for i in range(10))\n",
    "class_total = list(0. for i in range(10))\n",
    "with torch.no_grad():\n",
    "    for data in test_loader:\n",
    "        # images, labels = data\n",
    "        images, labels = data[0].to(device), data[1].to(device)\n",
    "        outputs = net2(images)\n",
    "        _, predicted = torch.max(outputs, 1)\n",
    "        c = (predicted == labels).squeeze()\n",
    "        for i in range(16):\n",
    "            label = labels[i]\n",
    "            class_correct[label] += c[i].item()\n",
    "            class_total[label] += 1\n",
    "\n",
    "\n",
    "for i in range(10):\n",
    "    print('Accuracy of %5s : %2d %%' % (\n",
    "        classes[i], 100.0 * class_correct[i] / class_total[i]))"
   ]
  },
  {
   "cell_type": "markdown",
   "metadata": {
    "id": "K4mTdJEyLgus"
   },
   "source": [
    "Let's do the visualiztions I promised you:"
   ]
  },
  {
   "cell_type": "markdown",
   "metadata": {
    "id": "0Ycm_PpALl18"
   },
   "source": [
    "CNN:"
   ]
  },
  {
   "cell_type": "code",
   "execution_count": 25,
   "metadata": {
    "colab": {
     "base_uri": "https://localhost:8080/",
     "height": 573
    },
    "id": "Dz4MeDezcB87",
    "outputId": "6e06281b-002f-4673-ae15-247084ff862d"
   },
   "outputs": [
    {
     "data": {
      "image/png": "[encoded data removed]",
      "text/plain": [
       "<Figure size 432x288 with 1 Axes>"
      ]
     },
     "metadata": {
      "needs_background": "light",
      "tags": []
     },
     "output_type": "display_data"
    },
    {
     "data": {
      "image/png": "[encoded data removed]",
      "text/plain": [
       "<Figure size 432x288 with 1 Axes>"
      ]
     },
     "metadata": {
      "needs_background": "light",
      "tags": []
     },
     "output_type": "display_data"
    }
   ],
   "source": [
    "mtplt.plot(range(len(accuracy_list)), accuracy_list)\n",
    "mtplt.xlabel(\"# Step\")\n",
    "mtplt.ylabel(\"Accuracy\")\n",
    "mtplt.title(\"Step vs Accuracy\")\n",
    "mtplt.show()\n",
    "\n",
    "mtplt.plot(range(len(loss_list)), loss_list)\n",
    "mtplt.xlabel(\"# Step\")\n",
    "mtplt.ylabel(\"Loss\")\n",
    "mtplt.title(\"Step vs Loss\")\n",
    "mtplt.show()"
   ]
  },
  {
   "cell_type": "markdown",
   "metadata": {
    "id": "5G5xjz30Lm3s"
   },
   "source": [
    "FC:"
   ]
  },
  {
   "cell_type": "code",
   "execution_count": 26,
   "metadata": {
    "colab": {
     "base_uri": "https://localhost:8080/",
     "height": 573
    },
    "id": "SbQXP3SsTQL1",
    "outputId": "6903047d-c5be-41ee-b52c-adf8bf6ca237"
   },
   "outputs": [
    {
     "data": {
      "image/png": "[encoded data removed]",
      "text/plain": [
       "<Figure size 432x288 with 1 Axes>"
      ]
     },
     "metadata": {
      "needs_background": "light",
      "tags": []
     },
     "output_type": "display_data"
    },
    {
     "data": {
      "image/png": "[encoded data removed]",
      "text/plain": [
       "<Figure size 432x288 with 1 Axes>"
      ]
     },
     "metadata": {
      "needs_background": "light",
      "tags": []
     },
     "output_type": "display_data"
    }
   ],
   "source": [
    "mtplt.plot(range(len(accuracy_list2)), accuracy_list2)\n",
    "mtplt.xlabel(\"# Step\")\n",
    "mtplt.ylabel(\"Accuracy\")\n",
    "mtplt.title(\"Step vs Accuracy\")\n",
    "mtplt.show()\n",
    "\n",
    "mtplt.plot(range(len(loss_list2)), loss_list2)\n",
    "mtplt.xlabel(\"# Step\")\n",
    "mtplt.ylabel(\"Loss\")\n",
    "mtplt.title(\"Step vs Loss\")\n",
    "mtplt.show()"
   ]
  }
 ],
 "metadata": {
  "accelerator": "GPU",
  "colab": {
   "collapsed_sections": [],
   "name": "FMNIST_1.ipynb",
   "provenance": []
  },
  "kernelspec": {
   "display_name": "Python 3",
   "language": "python",
   "name": "python3"
  },
  "language_info": {
   "codemirror_mode": {
    "name": "ipython",
    "version": 3
   },
   "file_extension": ".py",
   "mimetype": "text/x-python",
   "name": "python",
   "nbconvert_exporter": "python",
   "pygments_lexer": "ipython3",
   "version": "3.7.4"
  }
 },
 "nbformat": 4,
 "nbformat_minor": 1
}
