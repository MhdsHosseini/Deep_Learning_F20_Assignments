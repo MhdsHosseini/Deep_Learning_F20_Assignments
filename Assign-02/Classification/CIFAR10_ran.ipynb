{
 "cells": [
  {
   "cell_type": "markdown",
   "metadata": {
    "id": "0nYQqaK8TQHG"
   },
   "source": [
    "MH"
   ]
  },
  {
   "cell_type": "markdown",
   "metadata": {
    "id": "I4kWnkgyTQHL"
   },
   "source": [
    "Train neural network models (at least two different networks for each dataset, i.e., no. layers, no. neurons, activation, ...) in either Tensorflow or Pytorch to perform classification on the following datasets:\n",
    "\n",
    "Cifar-10"
   ]
  },
  {
   "cell_type": "code",
   "execution_count": 1,
   "metadata": {
    "colab": {
     "base_uri": "https://localhost:8080/",
     "height": 34
    },
    "id": "DOorW6XQTQHP",
    "outputId": "fd77f900-694e-447b-f677-398690d4f7d1"
   },
   "outputs": [
    {
     "name": "stdout",
     "output_type": "stream",
     "text": [
      "imported!\n"
     ]
    }
   ],
   "source": [
    "import torch\n",
    "import torchvision\n",
    "import torchvision.transforms as transforms\n",
    " \n",
    "import numpy as np\n",
    "import PIL\n",
    "import matplotlib.pyplot as mtplt\n",
    " \n",
    "print(\"imported!\")"
   ]
  },
  {
   "cell_type": "markdown",
   "metadata": {
    "id": "25otVEtgTQHh"
   },
   "source": [
    "Import data:"
   ]
  },
  {
   "cell_type": "code",
   "execution_count": 2,
   "metadata": {
    "id": "wlu71kHBcGm0"
   },
   "outputs": [],
   "source": [
    " classes = ('plane', 'car', 'bird', 'cat',\n",
    "           'deer', 'dog', 'frog', 'horse', 'ship', 'truck')"
   ]
  },
  {
   "cell_type": "markdown",
   "metadata": {
    "id": "7uHmMxepDVFa"
   },
   "source": [
    "Download and extract the data:"
   ]
  },
  {
   "cell_type": "code",
   "execution_count": 3,
   "metadata": {
    "colab": {
     "base_uri": "https://localhost:8080/",
     "height": 51
    },
    "id": "4z_mJpLIVyEP",
    "outputId": "b1a29206-ad6f-4113-9c61-46729c4e83c2"
   },
   "outputs": [
    {
     "name": "stdout",
     "output_type": "stream",
     "text": [
      "Using downloaded and verified file: ./data/cifar-10-python.tar.gz\n",
      "Extracting ./data/cifar-10-python.tar.gz to ./data\n"
     ]
    }
   ],
   "source": [
    " torchvision.datasets.CIFAR10(root='./data', train=True,\n",
    "                                        download=True)\n",
    " !"
   ]
  },
  {
   "cell_type": "markdown",
   "metadata": {
    "id": "VCfzfIoqDydD"
   },
   "source": [
    "Create a dataset with manual import using pickle's unpickle:"
   ]
  },
  {
   "cell_type": "code",
   "execution_count": 4,
   "metadata": {
    "id": "AAuuoFonTQJu"
   },
   "outputs": [],
   "source": [
    "from PIL import Image\n",
    "import os\n",
    "import os.path\n",
    "import numpy as np\n",
    "import pickle\n",
    "from typing import Any, Callable, Optional, Tuple\n",
    " \n",
    "class CIFAR10(torchvision.datasets.vision.VisionDataset):\n",
    "    base_folder = 'cifar-10'\n",
    "    train_list = [\n",
    "        'data_batch_1',\n",
    "        'data_batch_2',\n",
    "        'data_batch_3',\n",
    "        'data_batch_4',\n",
    "        'data_batch_5',\n",
    "    ]\n",
    " \n",
    "    test_list = [\n",
    "        'test_batch',\n",
    "    ]\n",
    "    meta = {\n",
    "        'filename': 'batches.meta',\n",
    "        'key': 'label_names'\n",
    "    }\n",
    " \n",
    "    def __init__(\n",
    "            self,\n",
    "            root: str,\n",
    "            train: bool = True,\n",
    "            transform: Optional[Callable] = None,\n",
    "            target_transform: Optional[Callable] = None\n",
    "    ) -> None:\n",
    " \n",
    "        super(CIFAR10, self).__init__(root, transform=transform,\n",
    "                                      target_transform=target_transform)\n",
    " \n",
    "        self.train = train  # training set or test set\n",
    " \n",
    "        if self.train:\n",
    "            the_list = self.train_list\n",
    "        else:\n",
    "            the_list = self.test_list\n",
    " \n",
    "        self.data: Any = []\n",
    "        self.targets = []\n",
    " \n",
    "        # now load the picked numpy arrays\n",
    "        for file_name in the_list:\n",
    "            file_path = os.path.join(self.root, self.base_folder, file_name)\n",
    "            import pickle\n",
    "            with open(file_path, 'rb') as f:\n",
    "                entry = pickle.load(f, encoding='latin1')\n",
    "                self.data.append(entry['data'])\n",
    "                if 'labels' in entry:\n",
    "                    self.targets.extend(entry['labels'])\n",
    " \n",
    "        self.data = np.vstack(self.data).reshape(-1, 3, 32, 32)\n",
    "        self.data = self.data.transpose((0, 2, 3, 1))  # convert to HWC\n",
    " \n",
    "        self._load_meta()\n",
    " \n",
    "    def _load_meta(self) -> None:\n",
    "        path = os.path.join(self.root, self.base_folder, self.meta['filename'])\n",
    "        import pickle\n",
    "        with open(path, 'rb') as infile:\n",
    "            data = pickle.load(infile, encoding='latin1')\n",
    "            self.classes = data[self.meta['key']]\n",
    "        self.class_to_idx = {_class: i for i, _class in enumerate(self.classes)}\n",
    " \n",
    "    def __getitem__(self, index: int) -> Tuple[Any, Any]:\n",
    "        \"\"\"\n",
    "        Args:\n",
    "            index (int): Index\n",
    "        Returns:\n",
    "            tuple: (image, target) where target is index of the target class.\n",
    "        \"\"\"\n",
    "        img, target = self.data[index], self.targets[index]\n",
    " \n",
    "        # doing this so that it is consistent with all other datasets\n",
    "        # to return a PIL Image\n",
    "        img = Image.fromarray(img)\n",
    " \n",
    "        if self.transform is not None:\n",
    "            img = self.transform(img)\n",
    " \n",
    "        if self.target_transform is not None:\n",
    "            target = self.target_transform(target)\n",
    " \n",
    "        return img, target\n",
    " \n",
    "    def __len__(self) -> int:\n",
    "        return len(self.data)\n",
    " \n",
    "    def extra_repr(self) -> str:\n",
    "        return \"Split: {}\".format(\"Train\" if self.train is True else \"Test\")"
   ]
  },
  {
   "cell_type": "markdown",
   "metadata": {
    "id": "jnrGub1qEAMB"
   },
   "source": [
    "Load training and test set and loaders using the previous custom dataset, then applying a normalization transform with mean and std of 0.5 for 3 channels:"
   ]
  },
  {
   "cell_type": "code",
   "execution_count": 5,
   "metadata": {
    "id": "5q0S6HJ_TQJ5"
   },
   "outputs": [],
   "source": [
    "transf = transforms.Compose(\n",
    "    [transforms.ToTensor(),\n",
    "     transforms.Normalize((0.5, 0.5, 0.5), (0.5, 0.5, 0.5))])\n",
    " \n",
    "train_set = CIFAR10(root='./data', train=True, transform=transf)\n",
    "test_set = CIFAR10(root='./data', train=False, transform=transf)\n",
    " \n",
    "train_loader = torch.utils.data.DataLoader(train_set, batch_size=4,\n",
    "                                          shuffle=True, num_workers=0)\n",
    "test_loader = torch.utils.data.DataLoader(test_set, batch_size=4,\n",
    "                                         shuffle=False, num_workers=0)"
   ]
  },
  {
   "cell_type": "markdown",
   "metadata": {
    "id": "DmyMmMxoTQKD"
   },
   "source": [
    "Define two networks, one using a simple multi-layer fully-connected network and one using convolutional layers (CNN):"
   ]
  },
  {
   "cell_type": "code",
   "execution_count": 6,
   "metadata": {
    "id": "1pdMj1piTQKF"
   },
   "outputs": [],
   "source": [
    "import torch.nn as nn\n",
    "import torch.nn.functional as F\n",
    " \n",
    " \n",
    "class Net(nn.Module):\n",
    "    def __init__(self):\n",
    "        super(Net, self).__init__()\n",
    "        self.conv1 = nn.Conv2d(3, 6, 5)\n",
    "        self.pool = nn.MaxPool2d(2, 2)\n",
    "        self.conv2 = nn.Conv2d(6, 16, 5)\n",
    "        self.fc1 = nn.Linear(16 * 5 * 5, 120)\n",
    "        self.fc2 = nn.Linear(120, 60)\n",
    "        self.fc3 = nn.Linear(60, 10)\n",
    " \n",
    "    def forward(self, x):\n",
    "        x = self.pool(F.relu(self.conv1(x)))\n",
    "        x = self.pool(F.relu(self.conv2(x)))\n",
    "        x = x.view(-1, 16 * 5 * 5)\n",
    "        x = F.relu(self.fc1(x))\n",
    "        x = F.relu(self.fc2(x))\n",
    "        x = self.fc3(x)\n",
    "        return x\n",
    " \n",
    " \n",
    "net = Net()"
   ]
  },
  {
   "cell_type": "code",
   "execution_count": 7,
   "metadata": {
    "id": "Ik2wwVQdTjlz"
   },
   "outputs": [],
   "source": [
    "import torch.nn.functional as F\n",
    " \n",
    "class Net2(nn.Module):\n",
    "    def __init__(self):\n",
    "        super(Net2, self).__init__()\n",
    "        self.linear1 = nn.Linear(3*32*32, 1024)\n",
    "        self.linear2 = nn.Linear(1024, 512)\n",
    "        self.linear3 = nn.Linear(512, 64)\n",
    "        self.linear4 = nn.Linear(64, 64)\n",
    "        self.linear5 = nn.Linear(64, 10)\n",
    "        \n",
    "    def forward(self, xb):\n",
    "        # Flatten images into vectors\n",
    "        out = xb.view(xb.size(0), -1)\n",
    "        out = self.linear1(out)\n",
    "        out = F.relu(out)\n",
    "        out = self.linear2(out)\n",
    "        out = F.relu(out)\n",
    "        out = self.linear3(out)\n",
    "        out = F.relu(out)\n",
    "        out = self.linear4(out)\n",
    "        out = F.relu(out)\n",
    "        out = self.linear5(out)\n",
    "        return out\n",
    "net2 = Net2()"
   ]
  },
  {
   "cell_type": "markdown",
   "metadata": {
    "id": "UmkmVq_PTQKR"
   },
   "source": [
    "Define a Loss function and optimizer"
   ]
  },
  {
   "cell_type": "code",
   "execution_count": 8,
   "metadata": {
    "id": "Yc780seuTQKT"
   },
   "outputs": [],
   "source": [
    "import torch.optim as optim\n",
    " \n",
    "criterion = nn.CrossEntropyLoss()\n",
    "optimizer = optim.SGD(net.parameters(), lr=0.001, momentum=0.9)"
   ]
  },
  {
   "cell_type": "code",
   "execution_count": 9,
   "metadata": {
    "id": "L1iqB51xdOt5"
   },
   "outputs": [],
   "source": [
    " import torch.optim as optim\n",
    " \n",
    "criterion2 = nn.CrossEntropyLoss()\n",
    "optimizer2 = optim.SGD(net2.parameters(), lr=0.0015, momentum=0.8)"
   ]
  },
  {
   "cell_type": "markdown",
   "metadata": {
    "id": "dW-WISEBTQKf"
   },
   "source": [
    "Train the network\n",
    "\n",
    "This is when things start to get interesting. We simply have to loop over our data iterator, and feed the inputs to the network and optimize"
   ]
  },
  {
   "cell_type": "code",
   "execution_count": 10,
   "metadata": {
    "colab": {
     "base_uri": "https://localhost:8080/",
     "height": 34
    },
    "id": "TAe3dmljTQKg",
    "outputId": "4c1958c6-bffc-4f53-f0a6-f50f37a9f609"
   },
   "outputs": [
    {
     "name": "stdout",
     "output_type": "stream",
     "text": [
      "cuda:0\n"
     ]
    }
   ],
   "source": [
    "device = torch.device(\"cuda:0\" if torch.cuda.is_available() else \"cpu\")\n",
    " \n",
    "# Assuming that we are on a CUDA machine, this should print a CUDA device:\n",
    " \n",
    "print(device)"
   ]
  },
  {
   "cell_type": "code",
   "execution_count": 11,
   "metadata": {
    "colab": {
     "base_uri": "https://localhost:8080/",
     "height": 154
    },
    "id": "iQdRX1sDTQKq",
    "outputId": "df5a21bb-39a6-4a9e-c1b9-403320c46215"
   },
   "outputs": [
    {
     "data": {
      "text/plain": [
       "Net(\n",
       "  (conv1): Conv2d(3, 6, kernel_size=(5, 5), stride=(1, 1))\n",
       "  (pool): MaxPool2d(kernel_size=2, stride=2, padding=0, dilation=1, ceil_mode=False)\n",
       "  (conv2): Conv2d(6, 16, kernel_size=(5, 5), stride=(1, 1))\n",
       "  (fc1): Linear(in_features=400, out_features=120, bias=True)\n",
       "  (fc2): Linear(in_features=120, out_features=60, bias=True)\n",
       "  (fc3): Linear(in_features=60, out_features=10, bias=True)\n",
       ")"
      ]
     },
     "execution_count": 11,
     "metadata": {
      "tags": []
     },
     "output_type": "execute_result"
    }
   ],
   "source": [
    "net.to(device)"
   ]
  },
  {
   "cell_type": "code",
   "execution_count": 12,
   "metadata": {
    "colab": {
     "base_uri": "https://localhost:8080/",
     "height": 926
    },
    "id": "ugiBizTnTQK6",
    "outputId": "4011300a-a803-433c-aa61-40a98866ef66"
   },
   "outputs": [
    {
     "name": "stdout",
     "output_type": "stream",
     "text": [
      "[1,     1] loss: 0.023\n",
      "Epoch: 1, Step: 0, Loss: 2.3348608016967773, Accuracy: 10%\n",
      "[1,  1001] loss: 22.984\n",
      "Epoch: 1, Step: 1000, Loss: 2.250182628631592, Accuracy: 16%\n",
      "[1,  2001] loss: 21.363\n",
      "Epoch: 1, Step: 2000, Loss: 2.1127333641052246, Accuracy: 27%\n",
      "[1,  3001] loss: 19.474\n",
      "Epoch: 1, Step: 3000, Loss: 1.8684124946594238, Accuracy: 32%\n",
      "[1,  4001] loss: 17.970\n",
      "Epoch: 1, Step: 4000, Loss: 2.2419440746307373, Accuracy: 35%\n",
      "[1,  5001] loss: 17.013\n",
      "Epoch: 1, Step: 5000, Loss: 1.1781201362609863, Accuracy: 35%\n",
      "[1,  6001] loss: 16.297\n",
      "Epoch: 1, Step: 6000, Loss: 2.2220072746276855, Accuracy: 41%\n",
      "[1,  7001] loss: 15.952\n",
      "Epoch: 1, Step: 7000, Loss: 0.9993030428886414, Accuracy: 42%\n",
      "[1,  8001] loss: 15.507\n",
      "Epoch: 1, Step: 8000, Loss: 1.455379605293274, Accuracy: 43%\n",
      "[1,  9001] loss: 15.331\n",
      "Epoch: 1, Step: 9000, Loss: 0.8877333402633667, Accuracy: 46%\n",
      "[1, 10001] loss: 15.076\n",
      "Epoch: 1, Step: 10000, Loss: 1.8396695852279663, Accuracy: 45%\n",
      "[1, 11001] loss: 15.130\n",
      "Epoch: 1, Step: 11000, Loss: 1.6377758979797363, Accuracy: 47%\n",
      "[1, 12001] loss: 14.739\n",
      "Epoch: 1, Step: 12000, Loss: 1.313085675239563, Accuracy: 44%\n",
      "[2,     1] loss: 0.011\n",
      "Epoch: 2, Step: 0, Loss: 1.1160691976547241, Accuracy: 47%\n",
      "[2,  1001] loss: 14.053\n",
      "Epoch: 2, Step: 1000, Loss: 1.0986837148666382, Accuracy: 50%\n",
      "[2,  2001] loss: 13.883\n",
      "Epoch: 2, Step: 2000, Loss: 1.0712370872497559, Accuracy: 48%\n",
      "[2,  3001] loss: 13.814\n",
      "Epoch: 2, Step: 3000, Loss: 1.1760077476501465, Accuracy: 51%\n",
      "[2,  4001] loss: 13.658\n",
      "Epoch: 2, Step: 4000, Loss: 0.8016396760940552, Accuracy: 52%\n",
      "[2,  5001] loss: 13.443\n",
      "Epoch: 2, Step: 5000, Loss: 0.623053252696991, Accuracy: 52%\n",
      "[2,  6001] loss: 13.421\n",
      "Epoch: 2, Step: 6000, Loss: 1.0843218564987183, Accuracy: 50%\n",
      "[2,  7001] loss: 13.710\n",
      "Epoch: 2, Step: 7000, Loss: 0.7307184934616089, Accuracy: 52%\n",
      "[2,  8001] loss: 13.371\n",
      "Epoch: 2, Step: 8000, Loss: 1.7066004276275635, Accuracy: 52%\n",
      "[2,  9001] loss: 13.110\n",
      "Epoch: 2, Step: 9000, Loss: 2.857853889465332, Accuracy: 53%\n",
      "[2, 10001] loss: 13.235\n",
      "Epoch: 2, Step: 10000, Loss: 1.6001802682876587, Accuracy: 53%\n",
      "[2, 11001] loss: 13.137\n",
      "Epoch: 2, Step: 11000, Loss: 0.8752867579460144, Accuracy: 54%\n",
      "[2, 12001] loss: 13.026\n",
      "Epoch: 2, Step: 12000, Loss: 1.4020426273345947, Accuracy: 54%\n",
      "Finished Training\n"
     ]
    }
   ],
   "source": [
    "from torch.autograd import Variable\n",
    " \n",
    "epochs=2\n",
    " \n",
    "# for later visualiztions:\n",
    "loss_list = []\n",
    "iteration_list = []\n",
    "accuracy_list = []\n",
    " \n",
    "for epoch in range(epochs):  # loop over the dataset multiple times\n",
    "    running_loss = 0.0\n",
    "    for i, data in enumerate(train_loader, 0):\n",
    "        # get the inputs; data is a list of [inputs, labels]\n",
    "        \n",
    "        inputs, labels = data[0].to(device), data[1].to(device)\n",
    " \n",
    "        # zero the parameter gradients\n",
    "        optimizer.zero_grad()\n",
    " \n",
    "        # forward + backward + optimize\n",
    "        outputs = net(inputs)\n",
    "        loss = criterion(outputs, labels)\n",
    "        loss.backward()\n",
    "        optimizer.step()\n",
    " \n",
    "        \n",
    "        # Testing the model\n",
    "        if not (i % 500):\n",
    "            total = 0\n",
    "            correct = 0\n",
    "        \n",
    "            for images, label in test_loader:\n",
    "                images, label = images.to(device), label.to(device)\n",
    "            \n",
    "                test = Variable(images.view(4, 3, 32, 32))\n",
    "            \n",
    "                output = net(test)\n",
    "            \n",
    "                predictions = torch.max(output, 1)[1].to(device)\n",
    "                correct += (predictions == label).sum()\n",
    "            \n",
    "                total += len(label)\n",
    "            \n",
    "            accuracy = (correct * 100) // total\n",
    "            loss_list.append(loss.data)\n",
    "            iteration_list.append(i)\n",
    "            accuracy_list.append(accuracy)\n",
    " \n",
    "        # print statistics\n",
    "        running_loss += loss.item()\n",
    "        if not (i % 1000):    # print every 1000 mini-batches\n",
    "            \n",
    "            print('[%d, %5d] loss: %.3f' %\n",
    "                  (epoch + 1, i + 1, running_loss / 100))\n",
    "            running_loss = 0.0\n",
    "            \n",
    "            print(\"Epoch: {}, Step: {}, Loss: {}, Accuracy: {}%\"\n",
    "              .format(epoch + 1, i, loss.data, accuracy)\n",
    "            )\n",
    "            \n",
    "print('Finished Training')"
   ]
  },
  {
   "cell_type": "code",
   "execution_count": 13,
   "metadata": {
    "colab": {
     "base_uri": "https://localhost:8080/",
     "height": 926
    },
    "id": "_B934uvPcddu",
    "outputId": "2e684faf-7b96-490a-89d8-4225419dbc90"
   },
   "outputs": [
    {
     "name": "stdout",
     "output_type": "stream",
     "text": [
      "[1,     1] loss: 0.024\n",
      "Epoch: 1, Step: 0, Loss: 2.370211124420166, Accuracy: 10%\n",
      "[1,  1001] loss: 22.987\n",
      "Epoch: 1, Step: 1000, Loss: 2.3283238410949707, Accuracy: 15%\n",
      "[1,  2001] loss: 22.485\n",
      "Epoch: 1, Step: 2000, Loss: 2.394868850708008, Accuracy: 21%\n",
      "[1,  3001] loss: 20.699\n",
      "Epoch: 1, Step: 3000, Loss: 1.6252655982971191, Accuracy: 27%\n",
      "[1,  4001] loss: 19.362\n",
      "Epoch: 1, Step: 4000, Loss: 1.865368366241455, Accuracy: 33%\n",
      "[1,  5001] loss: 18.350\n",
      "Epoch: 1, Step: 5000, Loss: 1.364591360092163, Accuracy: 36%\n",
      "[1,  6001] loss: 17.582\n",
      "Epoch: 1, Step: 6000, Loss: 2.0765206813812256, Accuracy: 35%\n",
      "[1,  7001] loss: 17.511\n",
      "Epoch: 1, Step: 7000, Loss: 1.5749340057373047, Accuracy: 37%\n",
      "[1,  8001] loss: 16.734\n",
      "Epoch: 1, Step: 8000, Loss: 1.7822020053863525, Accuracy: 40%\n",
      "[1,  9001] loss: 16.508\n",
      "Epoch: 1, Step: 9000, Loss: 1.9733271598815918, Accuracy: 41%\n",
      "[1, 10001] loss: 16.486\n",
      "Epoch: 1, Step: 10000, Loss: 1.1599520444869995, Accuracy: 42%\n",
      "[1, 11001] loss: 16.245\n",
      "Epoch: 1, Step: 11000, Loss: 1.4414935111999512, Accuracy: 43%\n",
      "[1, 12001] loss: 15.982\n",
      "Epoch: 1, Step: 12000, Loss: 1.1987431049346924, Accuracy: 44%\n",
      "[2,     1] loss: 0.014\n",
      "Epoch: 2, Step: 0, Loss: 1.3915786743164062, Accuracy: 44%\n",
      "[2,  1001] loss: 15.280\n",
      "Epoch: 2, Step: 1000, Loss: 1.6763689517974854, Accuracy: 43%\n",
      "[2,  2001] loss: 15.195\n",
      "Epoch: 2, Step: 2000, Loss: 1.473021149635315, Accuracy: 44%\n",
      "[2,  3001] loss: 15.144\n",
      "Epoch: 2, Step: 3000, Loss: 1.005839228630066, Accuracy: 45%\n",
      "[2,  4001] loss: 14.933\n",
      "Epoch: 2, Step: 4000, Loss: 1.3561294078826904, Accuracy: 45%\n",
      "[2,  5001] loss: 14.846\n",
      "Epoch: 2, Step: 5000, Loss: 1.1986364126205444, Accuracy: 47%\n",
      "[2,  6001] loss: 14.781\n",
      "Epoch: 2, Step: 6000, Loss: 1.3824737071990967, Accuracy: 47%\n",
      "[2,  7001] loss: 14.573\n",
      "Epoch: 2, Step: 7000, Loss: 1.5456898212432861, Accuracy: 48%\n",
      "[2,  8001] loss: 14.848\n",
      "Epoch: 2, Step: 8000, Loss: 1.6339517831802368, Accuracy: 48%\n",
      "[2,  9001] loss: 14.596\n",
      "Epoch: 2, Step: 9000, Loss: 1.4923582077026367, Accuracy: 46%\n",
      "[2, 10001] loss: 14.551\n",
      "Epoch: 2, Step: 10000, Loss: 1.8438336849212646, Accuracy: 49%\n",
      "[2, 11001] loss: 14.566\n",
      "Epoch: 2, Step: 11000, Loss: 1.7353205680847168, Accuracy: 49%\n",
      "[2, 12001] loss: 14.437\n",
      "Epoch: 2, Step: 12000, Loss: 3.2907915115356445, Accuracy: 50%\n",
      "Finished Training\n"
     ]
    }
   ],
   "source": [
    " \n",
    "from torch.autograd import Variable\n",
    " \n",
    "net2.to(device)\n",
    " \n",
    "epochs=2\n",
    " \n",
    "# for later visualiztions:\n",
    "loss_list2 = []\n",
    "iteration_list2 = []\n",
    "accuracy_list2 = []\n",
    " \n",
    " \n",
    "for epoch in range(epochs):  # loop over the dataset multiple times\n",
    "    running_loss = 0.0\n",
    "    for i, data in enumerate(train_loader, 0):\n",
    "        # get the inputs; data is a list of [inputs, labels]\n",
    "        \n",
    "        inputs, labels = data[0].to(device), data[1].to(device)\n",
    " \n",
    "        # zero the parameter gradients\n",
    "        optimizer2.zero_grad()\n",
    " \n",
    "        # forward + backward + optimize\n",
    "        outputs = net2(inputs)\n",
    "        loss = criterion2(outputs, labels)\n",
    "        loss.backward()\n",
    "        optimizer2.step()\n",
    " \n",
    "        \n",
    "        # Testing the model\n",
    "        if not (i % 500):\n",
    "            total = 0\n",
    "            correct = 0\n",
    "        \n",
    "            for images, label in test_loader:\n",
    "                images, label = images.to(device), label.to(device)\n",
    "            \n",
    "                test = Variable(images.view(4, 3, 32, 32))\n",
    "            \n",
    "                output = net2(test)\n",
    "            \n",
    "                predictions = torch.max(output, 1)[1].to(device)\n",
    "                correct += (predictions == label).sum()\n",
    "            \n",
    "                total += len(label)\n",
    "            \n",
    "            accuracy = (correct * 100) // total\n",
    "            loss_list2.append(loss.data)\n",
    "            iteration_list2.append(i)\n",
    "            accuracy_list2.append(accuracy)\n",
    " \n",
    "        # print statistics\n",
    "        running_loss += loss.item()\n",
    "        if not (i % 1000):    # print every 1000 mini-batches\n",
    "            \n",
    "            print('[%d, %5d] loss: %.3f' %\n",
    "                  (epoch + 1, i + 1, running_loss / 100))\n",
    "            running_loss = 0.0\n",
    "            \n",
    "            print(\"Epoch: {}, Step: {}, Loss: {}, Accuracy: {}%\"\n",
    "              .format(epoch + 1, i, loss.data, accuracy)\n",
    "            )\n",
    "            \n",
    "print('Finished Training')"
   ]
  },
  {
   "cell_type": "markdown",
   "metadata": {
    "id": "zgCHcn7NIzTm"
   },
   "source": [
    "Let's save our models:"
   ]
  },
  {
   "cell_type": "code",
   "execution_count": 14,
   "metadata": {
    "id": "vBJJegetTQLC"
   },
   "outputs": [],
   "source": [
    "path1 = './cifar1.pth'\n",
    "path2 = './cifar2.pth'\n",
    "torch.save(net.state_dict(), path1)\n",
    "torch.save(net2.state_dict(), path2)"
   ]
  },
  {
   "cell_type": "markdown",
   "metadata": {
    "id": "hndOXNyhTQLJ"
   },
   "source": [
    " Test the network on the test data\n",
    "We have trained the network for 2 passes over the training dataset. But we need to check if the network has learnt anything at all.\n",
    "\n",
    "We will check this by predicting the class label that the neural network outputs, and checking it against the real values. If the prediction is correct, we add the sample to the list of correct predictions.\n",
    "\n",
    "Okay, first step. Let us display an image from the test set to get familiar."
   ]
  },
  {
   "cell_type": "code",
   "execution_count": 15,
   "metadata": {
    "colab": {
     "base_uri": "https://localhost:8080/",
     "height": 155
    },
    "id": "JfjBkpbLTQLL",
    "outputId": "d39e43f9-f94a-4c93-fb1c-af506603146d"
   },
   "outputs": [
    {
     "data": {
      "image/png": "[encoded data removed]",
      "text/plain": [
       "<Figure size 432x288 with 1 Axes>"
      ]
     },
     "metadata": {
      "needs_background": "light",
      "tags": []
     },
     "output_type": "display_data"
    },
    {
     "name": "stdout",
     "output_type": "stream",
     "text": [
      "truck   dog   car plane\n"
     ]
    }
   ],
   "source": [
    "# functions to show an image\n",
    "def imshow(img):\n",
    "    img = img / 2 + 0.5     # unnormalize\n",
    "    npimg = img.numpy()\n",
    "    mtplt.imshow(np.transpose(npimg, (1, 2, 0)))\n",
    "    mtplt.show()\n",
    "\n",
    "\n",
    "# get some random training images\n",
    "dataiter = iter(train_loader)\n",
    "images, labels = dataiter.next()\n",
    "\n",
    "# show images\n",
    "imshow(torchvision.utils.make_grid(images))\n",
    "# print labels\n",
    "print(' '.join('%5s' % classes[labels[j]] for j in range(4)))"
   ]
  },
  {
   "cell_type": "markdown",
   "metadata": {
    "id": "W19QH9S-JmtX"
   },
   "source": [
    "Test Network_1 (CNN):"
   ]
  },
  {
   "cell_type": "code",
   "execution_count": 16,
   "metadata": {
    "colab": {
     "base_uri": "https://localhost:8080/",
     "height": 155
    },
    "id": "ARDNOiAPTQLS",
    "outputId": "51e75a9b-cdb3-48f1-ba10-312c59b8c327"
   },
   "outputs": [
    {
     "data": {
      "image/png": "[encoded data removed]",
      "text/plain": [
       "<Figure size 432x288 with 1 Axes>"
      ]
     },
     "metadata": {
      "needs_background": "light",
      "tags": []
     },
     "output_type": "display_data"
    },
    {
     "name": "stdout",
     "output_type": "stream",
     "text": [
      "Real values:    cat  ship  ship plane\n"
     ]
    }
   ],
   "source": [
    "dataiter = iter(test_loader)\n",
    "images, labels = dataiter.next()\n",
    "\n",
    "# print images\n",
    "imshow(torchvision.utils.make_grid(images))\n",
    "print('Real values: ', ' '.join('%5s' % classes[labels[j]] for j in range(4)))"
   ]
  },
  {
   "cell_type": "code",
   "execution_count": 17,
   "metadata": {
    "id": "9y6E24bxTQLZ"
   },
   "outputs": [],
   "source": [
    "outputs = net(images.to(device))"
   ]
  },
  {
   "cell_type": "markdown",
   "metadata": {
    "id": "H4wBxES_TQLf"
   },
   "source": [
    "The outputs are energies for the 10 classes. The higher the energy for a class, the more the network thinks that the image is of the particular class. So, let’s get the index of the highest energy:"
   ]
  },
  {
   "cell_type": "code",
   "execution_count": 18,
   "metadata": {
    "colab": {
     "base_uri": "https://localhost:8080/",
     "height": 34
    },
    "id": "e0XrdpOuTQLh",
    "outputId": "8c9e375e-28cf-4c08-be0d-11dae2cf7639"
   },
   "outputs": [
    {
     "name": "stdout",
     "output_type": "stream",
     "text": [
      "Predicted:    cat   car  ship  ship\n"
     ]
    }
   ],
   "source": [
    "_, predicted = torch.max(outputs, 1)\n",
    "\n",
    "print('Predicted: ', ' '.join('%5s' % classes[predicted[j]]\n",
    "                              for j in range(4)))"
   ]
  },
  {
   "cell_type": "markdown",
   "metadata": {
    "id": "-S954HhRKdGW"
   },
   "source": [
    "The second net (simple fully connected):"
   ]
  },
  {
   "cell_type": "code",
   "execution_count": 19,
   "metadata": {
    "colab": {
     "base_uri": "https://localhost:8080/",
     "height": 34
    },
    "id": "t0GW0Ss0KbIv",
    "outputId": "b36674b5-1f95-4870-8663-c1f7287df778"
   },
   "outputs": [
    {
     "name": "stdout",
     "output_type": "stream",
     "text": [
      "Predicted:    cat  ship  ship plane\n"
     ]
    }
   ],
   "source": [
    "outputs2 = net2(images.to(device))\n",
    "_, predicted2 = torch.max(outputs2, 1)\n",
    "\n",
    "print('Predicted: ', ' '.join('%5s' % classes[predicted2[j]]\n",
    "                              for j in range(4)))"
   ]
  },
  {
   "cell_type": "markdown",
   "metadata": {
    "id": "2HU2Nw29KvrR"
   },
   "source": [
    "Hmmm. the second image do look like a car or truck.."
   ]
  },
  {
   "cell_type": "markdown",
   "metadata": {
    "id": "x61ZiEyaTQLn"
   },
   "source": [
    "Let's do some evaluations:"
   ]
  },
  {
   "cell_type": "code",
   "execution_count": 20,
   "metadata": {
    "colab": {
     "base_uri": "https://localhost:8080/",
     "height": 34
    },
    "id": "x0rFZ_VFTQLo",
    "outputId": "1e635956-ca2d-4f56-e0d7-d3775950b53f"
   },
   "outputs": [
    {
     "name": "stdout",
     "output_type": "stream",
     "text": [
      "Accuracy of the network on the 10000 test images: 55 %\n"
     ]
    }
   ],
   "source": [
    "correct = 0\n",
    "total = 0\n",
    "with torch.no_grad():\n",
    "    for data in test_loader:\n",
    "        # images, labels = data\n",
    "        images, labels = data[0].to(device), data[1].to(device)\n",
    "        outputs = net(images)\n",
    "        _, predicted = torch.max(outputs.data, 1)\n",
    "        total += labels.size(0)\n",
    "        correct += (predicted == labels).sum().item()\n",
    " \n",
    "print('Accuracy of the network on the 10000 test images: %d %%' % (\n",
    "    100 * correct / total))"
   ]
  },
  {
   "cell_type": "markdown",
   "metadata": {
    "id": "geMeaPCTK7lO"
   },
   "source": [
    "And for the second net:"
   ]
  },
  {
   "cell_type": "code",
   "execution_count": 21,
   "metadata": {
    "colab": {
     "base_uri": "https://localhost:8080/",
     "height": 34
    },
    "id": "tIlgsX4GK6-K",
    "outputId": "4881b732-cd81-43d3-951c-5bb0ef86eac3"
   },
   "outputs": [
    {
     "name": "stdout",
     "output_type": "stream",
     "text": [
      "Accuracy of the network on the 10000 test images: 50 %\n"
     ]
    }
   ],
   "source": [
    "correct = 0\n",
    "total = 0\n",
    "with torch.no_grad():\n",
    "    for data in test_loader:\n",
    "        # images, labels = data\n",
    "        images, labels = data[0].to(device), data[1].to(device)\n",
    "        outputs = net2(images)\n",
    "        _, predicted = torch.max(outputs.data, 1)\n",
    "        total += labels.size(0)\n",
    "        correct += (predicted == labels).sum().item()\n",
    " \n",
    "print('Accuracy of the network on the 10000 test images: %d %%' % (\n",
    "    100 * correct / total))"
   ]
  },
  {
   "cell_type": "markdown",
   "metadata": {
    "id": "vXIcSrEATQLu"
   },
   "source": [
    "That looks way better than chance, which is 10% accuracy (randomly picking a class out of 10 classes). Seems like the network learnt something.\n",
    "\n",
    "Hmmm, what are the classes that performed well, and the classes that did not perform well:"
   ]
  },
  {
   "cell_type": "markdown",
   "metadata": {
    "id": "hQId7ZttLRYF"
   },
   "source": [
    "CNN:"
   ]
  },
  {
   "cell_type": "code",
   "execution_count": 22,
   "metadata": {
    "colab": {
     "base_uri": "https://localhost:8080/",
     "height": 188
    },
    "id": "bU5rrWRaTQLv",
    "outputId": "29b4fe38-d001-456a-8ded-fc31989e7c80"
   },
   "outputs": [
    {
     "name": "stdout",
     "output_type": "stream",
     "text": [
      "Accuracy of plane : 63 %\n",
      "Accuracy of   car : 73 %\n",
      "Accuracy of  bird : 39 %\n",
      "Accuracy of   cat : 40 %\n",
      "Accuracy of  deer : 50 %\n",
      "Accuracy of   dog : 24 %\n",
      "Accuracy of  frog : 61 %\n",
      "Accuracy of horse : 69 %\n",
      "Accuracy of  ship : 75 %\n",
      "Accuracy of truck : 56 %\n"
     ]
    }
   ],
   "source": [
    "class_correct = list(0. for i in range(10))\n",
    "class_total = list(0. for i in range(10))\n",
    "with torch.no_grad():\n",
    "    for data in test_loader:\n",
    "        # images, labels = data\n",
    "        images, labels = data[0].to(device), data[1].to(device)\n",
    "        outputs = net(images)\n",
    "        _, predicted = torch.max(outputs, 1)\n",
    "        c = (predicted == labels).squeeze()\n",
    "        for i in range(4):\n",
    "            label = labels[i]\n",
    "            class_correct[label] += c[i].item()\n",
    "            class_total[label] += 1\n",
    " \n",
    " \n",
    "for i in range(10):\n",
    "    print('Accuracy of %5s : %2d %%' % (\n",
    "        classes[i], 100 * class_correct[i] / class_total[i]))"
   ]
  },
  {
   "cell_type": "markdown",
   "metadata": {
    "id": "Nr7caQ8ILUgE"
   },
   "source": [
    "Fully-Connected:"
   ]
  },
  {
   "cell_type": "code",
   "execution_count": 23,
   "metadata": {
    "colab": {
     "base_uri": "https://localhost:8080/",
     "height": 188
    },
    "id": "XXzaw3kDLWzs",
    "outputId": "278eb7dc-7f6b-45fd-8c32-305a1b6afb39"
   },
   "outputs": [
    {
     "name": "stdout",
     "output_type": "stream",
     "text": [
      "Accuracy of plane : 60 %\n",
      "Accuracy of   car : 67 %\n",
      "Accuracy of  bird : 30 %\n",
      "Accuracy of   cat : 37 %\n",
      "Accuracy of  deer : 46 %\n",
      "Accuracy of   dog : 30 %\n",
      "Accuracy of  frog : 55 %\n",
      "Accuracy of horse : 58 %\n",
      "Accuracy of  ship : 66 %\n",
      "Accuracy of truck : 47 %\n"
     ]
    }
   ],
   "source": [
    "class_correct = list(0. for i in range(10))\n",
    "class_total = list(0. for i in range(10))\n",
    "with torch.no_grad():\n",
    "    for data in test_loader:\n",
    "        # images, labels = data\n",
    "        images, labels = data[0].to(device), data[1].to(device)\n",
    "        outputs = net2(images)\n",
    "        _, predicted = torch.max(outputs, 1)\n",
    "        c = (predicted == labels).squeeze()\n",
    "        for i in range(4):\n",
    "            label = labels[i]\n",
    "            class_correct[label] += c[i].item()\n",
    "            class_total[label] += 1\n",
    " \n",
    " \n",
    "for i in range(10):\n",
    "    print('Accuracy of %5s : %2d %%' % (\n",
    "        classes[i], 100 * class_correct[i] / class_total[i]))"
   ]
  },
  {
   "cell_type": "markdown",
   "metadata": {
    "id": "K4mTdJEyLgus"
   },
   "source": [
    "Let's do the visualiztions I promised you:"
   ]
  },
  {
   "cell_type": "markdown",
   "metadata": {
    "id": "g0UrRK2SMZrU"
   },
   "source": [
    "There is line which the diagram, which goes back and starts from the begining. It's the point the network went to the second epoch."
   ]
  },
  {
   "cell_type": "markdown",
   "metadata": {
    "id": "0Ycm_PpALl18"
   },
   "source": [
    "CNN:"
   ]
  },
  {
   "cell_type": "code",
   "execution_count": 30,
   "metadata": {
    "colab": {
     "base_uri": "https://localhost:8080/",
     "height": 34
    },
    "id": "l_JhcwXvRD4j",
    "outputId": "72cab68d-4eef-496f-a893-7489c63d073e"
   },
   "outputs": [
    {
     "data": {
      "text/plain": [
       "49"
      ]
     },
     "execution_count": 30,
     "metadata": {
      "tags": []
     },
     "output_type": "execute_result"
    }
   ],
   "source": []
  },
  {
   "cell_type": "code",
   "execution_count": 31,
   "metadata": {
    "colab": {
     "base_uri": "https://localhost:8080/",
     "height": 573
    },
    "id": "Dz4MeDezcB87",
    "outputId": "eaba499b-2fb0-4e99-889e-ef6784cacb3c"
   },
   "outputs": [
    {
     "data": {
      "image/png": "[encoded data removed]",
      "text/plain": [
       "<Figure size 432x288 with 1 Axes>"
      ]
     },
     "metadata": {
      "needs_background": "light",
      "tags": []
     },
     "output_type": "display_data"
    },
    {
     "data": {
      "image/png": "[encoded data removed]",
      "text/plain": [
       "<Figure size 432x288 with 1 Axes>"
      ]
     },
     "metadata": {
      "needs_background": "light",
      "tags": []
     },
     "output_type": "display_data"
    }
   ],
   "source": [
    "mtplt.plot(iteration_list[0:int(len(iteration_list)/2)-1], accuracy_list[0:int(len(iteration_list)/2)-1])\n",
    "mtplt.xlabel(\"# Step\")\n",
    "mtplt.ylabel(\"Accuracy\")\n",
    "mtplt.title(\"Step vs Accuracy\")\n",
    "mtplt.show()\n",
    "\n",
    "mtplt.plot(iteration_list[0:int(len(iteration_list)/2)-1], loss_list[0:int(len(iteration_list)/2)-1])\n",
    "mtplt.xlabel(\"# Step\")\n",
    "mtplt.ylabel(\"Loss\")\n",
    "mtplt.title(\"Step vs Loss\")\n",
    "mtplt.show()"
   ]
  },
  {
   "cell_type": "markdown",
   "metadata": {
    "id": "5G5xjz30Lm3s"
   },
   "source": [
    "FC:"
   ]
  },
  {
   "cell_type": "code",
   "execution_count": 32,
   "metadata": {
    "colab": {
     "base_uri": "https://localhost:8080/",
     "height": 573
    },
    "id": "SbQXP3SsTQL1",
    "outputId": "18cbbaca-d0ac-412a-edc2-bc51842c2075"
   },
   "outputs": [
    {
     "data": {
      "image/png": "[encoded data removed]",
      "text/plain": [
       "<Figure size 432x288 with 1 Axes>"
      ]
     },
     "metadata": {
      "needs_background": "light",
      "tags": []
     },
     "output_type": "display_data"
    },
    {
     "data": {
      "image/png": "[encoded data removed]",
      "text/plain": [
       "<Figure size 432x288 with 1 Axes>"
      ]
     },
     "metadata": {
      "needs_background": "light",
      "tags": []
     },
     "output_type": "display_data"
    }
   ],
   "source": [
    "mtplt.plot(iteration_list2, accuracy_list2)\n",
    "mtplt.xlabel(\"# Step\")\n",
    "mtplt.ylabel(\"Accuracy\")\n",
    "mtplt.title(\"Step vs Accuracy\")\n",
    "mtplt.show()\n",
    "\n",
    "mtplt.plot(iteration_list2, loss_list2)\n",
    "mtplt.xlabel(\"# Step\")\n",
    "mtplt.ylabel(\"Loss\")\n",
    "mtplt.title(\"Step vs Loss\")\n",
    "mtplt.show()"
   ]
  }
 ],
 "metadata": {
  "accelerator": "GPU",
  "colab": {
   "collapsed_sections": [],
   "name": "CIFAR10_1.ipynb",
   "provenance": []
  },
  "kernelspec": {
   "display_name": "Python 3",
   "language": "python",
   "name": "python3"
  },
  "language_info": {
   "codemirror_mode": {
    "name": "ipython",
    "version": 3
   },
   "file_extension": ".py",
   "mimetype": "text/x-python",
   "name": "python",
   "nbconvert_exporter": "python",
   "pygments_lexer": "ipython3",
   "version": "3.7.4"
  }
 },
 "nbformat": 4,
 "nbformat_minor": 4
}
