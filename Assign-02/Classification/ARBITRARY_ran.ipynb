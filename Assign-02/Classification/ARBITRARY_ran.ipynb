{
 "cells": [
  {
   "cell_type": "markdown",
   "metadata": {
    "id": "0nYQqaK8TQHG"
   },
   "source": [
    "MH"
   ]
  },
  {
   "cell_type": "markdown",
   "metadata": {
    "id": "I4kWnkgyTQHL"
   },
   "source": [
    "Train neural network models (at least two different networks for each dataset, i.e., no. layers, no. neurons, activation, ...) in either Tensorflow or Pytorch to perform classification on the following datasets:\n",
    "\n",
    "One different dataset, up to your choice: MNIST"
   ]
  },
  {
   "cell_type": "code",
   "execution_count": 1,
   "metadata": {
    "colab": {
     "base_uri": "https://localhost:8080/",
     "height": 34
    },
    "id": "DOorW6XQTQHP",
    "outputId": "103a4e77-d8ca-4fd6-cc80-101c527431de"
   },
   "outputs": [
    {
     "name": "stdout",
     "output_type": "stream",
     "text": [
      "imported!\n"
     ]
    }
   ],
   "source": [
    "import torch\n",
    "import torch.nn as nn\n",
    "import torch.nn.functional as F\n",
    "import torchvision\n",
    "import torchvision.transforms as transforms\n",
    " \n",
    "import numpy as np\n",
    "import PIL\n",
    "import matplotlib.pyplot as mtplt\n",
    " \n",
    "print(\"imported!\")"
   ]
  },
  {
   "cell_type": "markdown",
   "metadata": {
    "id": "25otVEtgTQHh"
   },
   "source": [
    "Import data:"
   ]
  },
  {
   "cell_type": "markdown",
   "metadata": {
    "id": "7uHmMxepDVFa"
   },
   "source": [
    "Download and extract the data, then rename to cifar-10:"
   ]
  },
  {
   "cell_type": "code",
   "execution_count": 2,
   "metadata": {
    "colab": {
     "base_uri": "https://localhost:8080/",
     "height": 771
    },
    "id": "4z_mJpLIVyEP",
    "outputId": "5ab9f5a3-934b-4e15-9b94-609429a53e75"
   },
   "outputs": [
    {
     "name": "stdout",
     "output_type": "stream",
     "text": [
      "--2020-10-26 03:04:56--  http://yann.lecun.com/exdb/mnist/train-images-idx3-ubyte.gz\n",
      "Resolving yann.lecun.com (yann.lecun.com)... 104.28.6.204, 104.28.7.204, 172.67.171.76, ...\n",
      "Connecting to yann.lecun.com (yann.lecun.com)|104.28.6.204|:80... connected.\n",
      "HTTP request sent, awaiting response... 200 OK\n",
      "Length: 9912422 (9.5M) [application/x-gzip]\n",
      "Saving to: ‘train-images-idx3-ubyte.gz’\n",
      "\n",
      "train-images-idx3-u 100%[===================>]   9.45M  61.8MB/s    in 0.2s    \n",
      "\n",
      "2020-10-26 03:04:57 (61.8 MB/s) - ‘train-images-idx3-ubyte.gz’ saved [9912422/9912422]\n",
      "\n",
      "--2020-10-26 03:04:57--  http://yann.lecun.com/exdb/mnist/train-labels-idx1-ubyte.gz\n",
      "Resolving yann.lecun.com (yann.lecun.com)... 104.28.6.204, 104.28.7.204, 172.67.171.76, ...\n",
      "Connecting to yann.lecun.com (yann.lecun.com)|104.28.6.204|:80... connected.\n",
      "HTTP request sent, awaiting response... 200 OK\n",
      "Length: 28881 (28K) [application/x-gzip]\n",
      "Saving to: ‘train-labels-idx1-ubyte.gz’\n",
      "\n",
      "train-labels-idx1-u 100%[===================>]  28.20K  --.-KB/s    in 0.01s   \n",
      "\n",
      "2020-10-26 03:04:57 (2.45 MB/s) - ‘train-labels-idx1-ubyte.gz’ saved [28881/28881]\n",
      "\n",
      "--2020-10-26 03:04:57--  http://yann.lecun.com/exdb/mnist/t10k-images-idx3-ubyte.gz\n",
      "Resolving yann.lecun.com (yann.lecun.com)... 104.28.6.204, 104.28.7.204, 172.67.171.76, ...\n",
      "Connecting to yann.lecun.com (yann.lecun.com)|104.28.6.204|:80... connected.\n",
      "HTTP request sent, awaiting response... 200 OK\n",
      "Length: 1648877 (1.6M) [application/x-gzip]\n",
      "Saving to: ‘t10k-images-idx3-ubyte.gz’\n",
      "\n",
      "t10k-images-idx3-ub 100%[===================>]   1.57M  --.-KB/s    in 0.08s   \n",
      "\n",
      "2020-10-26 03:04:57 (19.6 MB/s) - ‘t10k-images-idx3-ubyte.gz’ saved [1648877/1648877]\n",
      "\n",
      "--2020-10-26 03:04:57--  http://yann.lecun.com/exdb/mnist/t10k-labels-idx1-ubyte.gz\n",
      "Resolving yann.lecun.com (yann.lecun.com)... 104.28.6.204, 104.28.7.204, 172.67.171.76, ...\n",
      "Connecting to yann.lecun.com (yann.lecun.com)|104.28.6.204|:80... connected.\n",
      "HTTP request sent, awaiting response... 200 OK\n",
      "Length: 4542 (4.4K) [application/x-gzip]\n",
      "Saving to: ‘t10k-labels-idx1-ubyte.gz’\n",
      "\n",
      "t10k-labels-idx1-ub 100%[===================>]   4.44K  --.-KB/s    in 0s      \n",
      "\n",
      "2020-10-26 03:04:57 (519 MB/s) - ‘t10k-labels-idx1-ubyte.gz’ saved [4542/4542]\n",
      "\n"
     ]
    }
   ],
   "source": [
    "!wget \"http://yann.lecun.com/exdb/mnist/train-images-idx3-ubyte.gz\"\n",
    "!wget \"http://yann.lecun.com/exdb/mnist/train-labels-idx1-ubyte.gz\"\n",
    "!wget \"http://yann.lecun.com/exdb/mnist/t10k-images-idx3-ubyte.gz\"\n",
    "!wget \"http://yann.lecun.com/exdb/mnist/t10k-labels-idx1-ubyte.gz\""
   ]
  },
  {
   "cell_type": "code",
   "execution_count": 3,
   "metadata": {
    "id": "soXN2G04uUiE"
   },
   "outputs": [],
   "source": [
    "!mkdir data\n",
    "!mkdir data/mnist\n",
    "!for a in *.gz; do gunzip -c $a > data/mnist/`echo $a | sed s/.gz//`; done"
   ]
  },
  {
   "cell_type": "markdown",
   "metadata": {
    "id": "VCfzfIoqDydD"
   },
   "source": [
    "Create a dataset with manual import:"
   ]
  },
  {
   "cell_type": "code",
   "execution_count": 4,
   "metadata": {
    "id": "AAuuoFonTQJu"
   },
   "outputs": [],
   "source": [
    "import warnings\n",
    "from PIL import Image\n",
    "import os\n",
    "import os.path\n",
    "import numpy as np\n",
    "import torch\n",
    "import codecs\n",
    "import string\n",
    "from typing import Any, Callable, Dict, IO, List, Optional, Tuple, Union\n",
    "from torchvision.datasets.vision import VisionDataset\n",
    "import gzip\n",
    "import lzma\n",
    "\n",
    "class MNIST(torchvision.datasets.vision.VisionDataset):\n",
    "    base_folder = 'mnist'\n",
    "    training_file = 'training.pt'\n",
    "    test_file = 'test.pt'\n",
    "    classes = ['0', '1', '2', '3', '4', '5',\n",
    "               '6', '7', '8', '9']\n",
    " \n",
    "    @property\n",
    "    def classes_names(self):\n",
    "        warnings.warn(\"train_labels has been renamed targets\")\n",
    "        return self.classes\n",
    "\n",
    "    @property\n",
    "    def train_labels(self):\n",
    "        warnings.warn(\"train_labels has been renamed targets\")\n",
    "        return self.targets\n",
    "\n",
    "    @property\n",
    "    def test_labels(self):\n",
    "        warnings.warn(\"test_labels has been renamed targets\")\n",
    "        return self.targets\n",
    "\n",
    "    @property\n",
    "    def train_data(self):\n",
    "        warnings.warn(\"train_data has been renamed data\")\n",
    "        return self.data\n",
    "\n",
    "    @property\n",
    "    def test_data(self):\n",
    "        warnings.warn(\"test_data has been renamed data\")\n",
    "        return self.data\n",
    "  \n",
    "    def __init__(\n",
    "            self,\n",
    "            root: str,\n",
    "            train: bool = True,\n",
    "            transform: Optional[Callable] = None,\n",
    "            target_transform: Optional[Callable] = None\n",
    "    ) -> None:\n",
    " \n",
    "        super(MNIST, self).__init__(root, transform=transform,\n",
    "                                      target_transform=target_transform)\n",
    "        \n",
    "        self.base_folder = os.path.join(root, self.base_folder)\n",
    "\n",
    "        self.train = train  # training set or test set\n",
    " \n",
    "        if self.train:\n",
    "            data_file = self.training_file\n",
    "        else:\n",
    "            data_file = self.test_file\n",
    "\n",
    "        print('Processing...')\n",
    "        training_set = (\n",
    "            read_image_file(os.path.join(self.base_folder, 'train-images-idx3-ubyte')),\n",
    "            read_label_file(os.path.join(self.base_folder, 'train-labels-idx1-ubyte'))\n",
    "        )\n",
    "        test_set = (\n",
    "            read_image_file(os.path.join(self.base_folder, 't10k-images-idx3-ubyte')),\n",
    "            read_label_file(os.path.join(self.base_folder, 't10k-labels-idx1-ubyte'))\n",
    "        )\n",
    "        with open(os.path.join(self.base_folder, self.training_file), 'wb') as f:\n",
    "            torch.save(training_set, f)\n",
    "        with open(os.path.join(self.base_folder, self.test_file), 'wb') as f:\n",
    "            torch.save(test_set, f)\n",
    "\n",
    "        print('Done!')\n",
    " \n",
    "        self.data, self.targets = torch.load(os.path.join(self.base_folder, data_file))\n",
    " \n",
    "    def __getitem__(self, index):\n",
    "        \"\"\"\n",
    "        Args:\n",
    "            index (int): Index\n",
    "\n",
    "        Returns:\n",
    "            tuple: (image, target) where target is index of the target class.\n",
    "        \"\"\"\n",
    "        img, target = self.data[index], int(self.targets[index])\n",
    "\n",
    "        # doing this so that it is consistent with all other datasets\n",
    "        # to return a PIL Image\n",
    "        img = Image.fromarray(img.numpy(), mode='L')\n",
    "\n",
    "        if self.transform is not None:\n",
    "            img = self.transform(img)\n",
    "\n",
    "        if self.target_transform is not None:\n",
    "            target = self.target_transform(target)\n",
    "\n",
    "        return img, target\n",
    " \n",
    "    def __len__(self) -> int:\n",
    "        return len(self.data)\n",
    " \n",
    "    def extra_repr(self) -> str:\n",
    "        return \"Split: {}\".format(\"Train\" if self.train is True else \"Test\")\n",
    "\n",
    "def get_int(b: bytes) -> int:\n",
    "    return int(codecs.encode(b, 'hex'), 16)\n",
    "\n",
    "def open_maybe_compressed_file(path: Union[str, IO]) -> Union[IO, gzip.GzipFile]:\n",
    "    \"\"\"Return a file object that possibly decompresses 'path' on the fly.\n",
    "      Decompression occurs when argument `path` is a string and ends with '.gz' or '.xz'.\n",
    "    \"\"\"\n",
    "    if not isinstance(path, torch._six.string_classes):\n",
    "        return path\n",
    "    if path.endswith('.gz'):\n",
    "        return gzip.open(path, 'rb')\n",
    "    if path.endswith('.xz'):\n",
    "        return lzma.open(path, 'rb')\n",
    "    return open(path, 'rb')\n",
    "\n",
    "SN3_PASCALVINCENT_TYPEMAP = {\n",
    "    8: (torch.uint8, np.uint8, np.uint8),\n",
    "    9: (torch.int8, np.int8, np.int8),\n",
    "    11: (torch.int16, np.dtype('>i2'), 'i2'),\n",
    "    12: (torch.int32, np.dtype('>i4'), 'i4'),\n",
    "    13: (torch.float32, np.dtype('>f4'), 'f4'),\n",
    "    14: (torch.float64, np.dtype('>f8'), 'f8')\n",
    "}\n",
    "\n",
    "def read_sn3_pascalvincent_tensor(path: Union[str, IO], strict: bool = True) -> torch.Tensor:\n",
    "    \"\"\"Read a SN3 file in \"Pascal Vincent\" format (Lush file 'libidx/idx-io.lsh').\n",
    "      Argument may be a filename, compressed filename, or file object.\n",
    "    \"\"\"\n",
    "    # read\n",
    "    with open_maybe_compressed_file(path) as f:\n",
    "        data = f.read()\n",
    "    # parse\n",
    "    magic = get_int(data[0:4])\n",
    "    nd = magic % 256\n",
    "    ty = magic // 256\n",
    "    assert nd >= 1 and nd <= 3\n",
    "    assert ty >= 8 and ty <= 14\n",
    "    m = SN3_PASCALVINCENT_TYPEMAP[ty]\n",
    "    s = [get_int(data[4 * (i + 1): 4 * (i + 2)]) for i in range(nd)]\n",
    "    parsed = np.frombuffer(data, dtype=m[1], offset=(4 * (nd + 1)))\n",
    "    assert parsed.shape[0] == np.prod(s) or not strict\n",
    "    return torch.from_numpy(parsed.astype(m[2], copy=False)).view(*s)\n",
    "\n",
    "def read_label_file(path: str) -> torch.Tensor:\n",
    "    with open(path, 'rb') as f:\n",
    "        x = read_sn3_pascalvincent_tensor(f, strict=False)\n",
    "    assert(x.dtype == torch.uint8)\n",
    "    assert(x.ndimension() == 1)\n",
    "    return x.long()\n",
    "\n",
    "def read_image_file(path: str) -> torch.Tensor:\n",
    "    with open(path, 'rb') as f:\n",
    "        x = read_sn3_pascalvincent_tensor(f, strict=False)\n",
    "    assert(x.dtype == torch.uint8)\n",
    "    assert(x.ndimension() == 3)\n",
    "    return x"
   ]
  },
  {
   "cell_type": "markdown",
   "metadata": {
    "id": "jnrGub1qEAMB"
   },
   "source": [
    "Load training and test set and loaders using the previous custom dataset, then applying a normalization transform with mean and std of 0.5 for 3 channels:"
   ]
  },
  {
   "cell_type": "code",
   "execution_count": 6,
   "metadata": {
    "colab": {
     "base_uri": "https://localhost:8080/",
     "height": 86
    },
    "id": "5q0S6HJ_TQJ5",
    "outputId": "8b0a9102-ef2c-4d7d-c41f-5311dfa7231a"
   },
   "outputs": [
    {
     "name": "stdout",
     "output_type": "stream",
     "text": [
      "Processing...\n",
      "Done!\n",
      "Processing...\n",
      "Done!\n"
     ]
    }
   ],
   "source": [
    "transf = transforms.Compose(\n",
    "    [transforms.ToTensor(),\n",
    "     transforms.Normalize((0.5), (0.5))])\n",
    " \n",
    "train_set = MNIST(root='./data', train=True, transform=transf)\n",
    "test_set = MNIST(root='./data', train=False, transform=transf)\n",
    " \n",
    "train_loader = torch.utils.data.DataLoader(train_set, batch_size=64,\n",
    "                                          shuffle=True, num_workers=2)\n",
    "test_loader = torch.utils.data.DataLoader(test_set, batch_size=64,\n",
    "                                         shuffle=False, num_workers=2)\n",
    "classes = train_set.classes"
   ]
  },
  {
   "cell_type": "markdown",
   "metadata": {
    "id": "WyonT-6n-9qH"
   },
   "source": [
    "Show some images:"
   ]
  },
  {
   "cell_type": "code",
   "execution_count": 7,
   "metadata": {
    "colab": {
     "base_uri": "https://localhost:8080/",
     "height": 138
    },
    "id": "Gg1mj94j-9qJ",
    "outputId": "d1cd8a81-b68c-4686-97e2-605abe2f9acb"
   },
   "outputs": [
    {
     "data": {
      "image/png": "[encoded data removed]",
      "text/plain": [
       "<Figure size 432x288 with 1 Axes>"
      ]
     },
     "metadata": {
      "needs_background": "light",
      "tags": []
     },
     "output_type": "display_data"
    },
    {
     "name": "stdout",
     "output_type": "stream",
     "text": [
      "classes:      3     6     7     3     9\n"
     ]
    }
   ],
   "source": [
    "# functions to show an image\n",
    "def imshow(img):\n",
    "    img = img / 2 + 0.5     # unnormalize\n",
    "    npimg = img.numpy()\n",
    "    mtplt.imshow(np.transpose(npimg, (1, 2, 0)))\n",
    "    mtplt.show()\n",
    "\n",
    "\n",
    "# get some random training images\n",
    "dataiter = iter(train_loader)\n",
    "images, labels = dataiter.next()\n",
    "\n",
    "# show images\n",
    "imshow(torchvision.utils.make_grid(images[0:5]))\n",
    "\n",
    "print('classes: ', ' '.join('%5s' % classes[labels[j]] for j in range(5)))"
   ]
  },
  {
   "cell_type": "markdown",
   "metadata": {
    "id": "DmyMmMxoTQKD"
   },
   "source": [
    "Define two networks, one using a simple multi-layer fully-connected network and one using convolutional layers (CNN):"
   ]
  },
  {
   "cell_type": "code",
   "execution_count": 8,
   "metadata": {
    "id": "1pdMj1piTQKF"
   },
   "outputs": [],
   "source": [
    "import torch.nn as nn\n",
    "import torch.nn.functional as F\n",
    "\n",
    "class Net(nn.Module):\n",
    "    def __init__(self):\n",
    "        super(Net, self).__init__()\n",
    "        self.conv1 = nn.Conv2d(1, 32, 3)\n",
    "        self.pool = nn.MaxPool2d(2, 2)\n",
    "        self.drop = nn.Dropout(0.2)\n",
    "        self.conv2 = nn.Conv2d(32, 64, 3)\n",
    "        self.fc1 = nn.Linear(64 * 5 * 5, 256)\n",
    "        self.fc2 = nn.Linear(256, 128)\n",
    "        self.out = nn.Linear(128, 10)\n",
    "\n",
    "    def forward(self, x):\n",
    "        x = self.pool(F.relu(self.conv1(x)))\n",
    "        x = self.drop(x)\n",
    "        x = self.pool(F.relu(self.conv2(x)))\n",
    "        x = x.view(x.size(0), -1)\n",
    "        x = F.relu(self.fc1(x))\n",
    "        x = F.relu(self.fc2(x))\n",
    "        x = self.drop(x)\n",
    "        x = self.out(x)\n",
    "        return x\n",
    "\n",
    "\n",
    "net = Net()"
   ]
  },
  {
   "cell_type": "code",
   "execution_count": 9,
   "metadata": {
    "id": "Ik2wwVQdTjlz"
   },
   "outputs": [],
   "source": [
    "import torch.nn.functional as F\n",
    "\n",
    "class Net2(nn.Module):\n",
    "    def __init__(self):\n",
    "        super(Net2, self).__init__()\n",
    "        self.linear1 = nn.Linear(1*28*28, 784)\n",
    "        self.linear2 = nn.Linear(784, 1024)\n",
    "        self.linear3 = nn.Linear(1024, 512)\n",
    "        self.linear4 = nn.Linear(512, 256)\n",
    "        self.linear5 = nn.Linear(256, 10)\n",
    "        \n",
    "    def forward(self, xb):\n",
    "        # Flatten images into vectors\n",
    "        out = xb.view(xb.size(0), -1)\n",
    "        out = self.linear1(out)\n",
    "        out = F.relu(out)\n",
    "        out = self.linear2(out)\n",
    "        out = F.relu(out)\n",
    "        out = self.linear3(out)\n",
    "        out = F.relu(out)\n",
    "        out = self.linear4(out)\n",
    "        out = F.relu(out)\n",
    "        out = self.linear5(out)\n",
    "        return out\n",
    "net2 = Net2()"
   ]
  },
  {
   "cell_type": "markdown",
   "metadata": {
    "id": "UmkmVq_PTQKR"
   },
   "source": [
    "Define a Loss function and optimizer"
   ]
  },
  {
   "cell_type": "code",
   "execution_count": 10,
   "metadata": {
    "id": "Yc780seuTQKT"
   },
   "outputs": [],
   "source": [
    "import torch.optim as optim\n",
    "\n",
    "criterion = nn.CrossEntropyLoss()\n",
    "optimizer = optim.SGD(net.parameters(), lr=0.001, momentum=0.9)"
   ]
  },
  {
   "cell_type": "code",
   "execution_count": 11,
   "metadata": {
    "id": "L1iqB51xdOt5"
   },
   "outputs": [],
   "source": [
    "import torch.optim as optim\n",
    "\n",
    "criterion2 = nn.CrossEntropyLoss()\n",
    "optimizer2 = optim.SGD(net2.parameters(), lr=0.0015, momentum=0.8)"
   ]
  },
  {
   "cell_type": "markdown",
   "metadata": {
    "id": "dW-WISEBTQKf"
   },
   "source": [
    "Train the network\n",
    "\n",
    "This is when things start to get interesting. We simply have to loop over our data iterator, and feed the inputs to the network and optimize"
   ]
  },
  {
   "cell_type": "code",
   "execution_count": 12,
   "metadata": {
    "colab": {
     "base_uri": "https://localhost:8080/",
     "height": 34
    },
    "id": "TAe3dmljTQKg",
    "outputId": "fe6a9178-5678-4dcf-f649-3a8cac52f5f3"
   },
   "outputs": [
    {
     "name": "stdout",
     "output_type": "stream",
     "text": [
      "cuda:0\n"
     ]
    }
   ],
   "source": [
    "device = torch.device(\"cuda:0\" if torch.cuda.is_available() else \"cpu\")\n",
    " \n",
    "# Assuming that we are on a CUDA machine, this should print a CUDA device:\n",
    " \n",
    "print(device)"
   ]
  },
  {
   "cell_type": "code",
   "execution_count": 13,
   "metadata": {
    "colab": {
     "base_uri": "https://localhost:8080/",
     "height": 171
    },
    "id": "iQdRX1sDTQKq",
    "outputId": "69f08c90-8ebc-4ada-d579-ad3fc9631693"
   },
   "outputs": [
    {
     "data": {
      "text/plain": [
       "Net(\n",
       "  (conv1): Conv2d(1, 32, kernel_size=(3, 3), stride=(1, 1))\n",
       "  (pool): MaxPool2d(kernel_size=2, stride=2, padding=0, dilation=1, ceil_mode=False)\n",
       "  (drop): Dropout(p=0.2, inplace=False)\n",
       "  (conv2): Conv2d(32, 64, kernel_size=(3, 3), stride=(1, 1))\n",
       "  (fc1): Linear(in_features=1600, out_features=256, bias=True)\n",
       "  (fc2): Linear(in_features=256, out_features=128, bias=True)\n",
       "  (out): Linear(in_features=128, out_features=10, bias=True)\n",
       ")"
      ]
     },
     "execution_count": 13,
     "metadata": {
      "tags": []
     },
     "output_type": "execute_result"
    }
   ],
   "source": [
    "net.to(device)"
   ]
  },
  {
   "cell_type": "code",
   "execution_count": 14,
   "metadata": {
    "colab": {
     "base_uri": "https://localhost:8080/",
     "height": 1000
    },
    "id": "ugiBizTnTQK6",
    "outputId": "de9b8c53-d62c-4301-f42a-b705bd0b4d3f"
   },
   "outputs": [
    {
     "name": "stdout",
     "output_type": "stream",
     "text": [
      "[1,     0] loss: 0.023\n",
      "Epoch: 1, Step: 0, Loss: 2.307471990585327, Accuracy: 9.010000228881836 %\n",
      "[1,   300] loss: 6.778\n",
      "Epoch: 1, Step: 300, Loss: 2.1641957759857178, Accuracy: 40.029998779296875 %\n",
      "[1,   600] loss: 4.575\n",
      "Epoch: 1, Step: 600, Loss: 0.6357467770576477, Accuracy: 77.44999694824219 %\n",
      "[1,   900] loss: 1.740\n",
      "Epoch: 1, Step: 900, Loss: 0.43557271361351013, Accuracy: 86.56999969482422 %\n",
      "[2,     0] loss: 0.006\n",
      "Epoch: 2, Step: 0, Loss: 0.6091869473457336, Accuracy: 87.04999542236328 %\n",
      "[2,   300] loss: 1.228\n",
      "Epoch: 2, Step: 300, Loss: 0.3780374526977539, Accuracy: 89.44999694824219 %\n",
      "[2,   600] loss: 0.983\n",
      "Epoch: 2, Step: 600, Loss: 0.36181533336639404, Accuracy: 91.29999542236328 %\n",
      "[2,   900] loss: 0.862\n",
      "Epoch: 2, Step: 900, Loss: 0.2223109006881714, Accuracy: 92.72999572753906 %\n",
      "[3,     0] loss: 0.001\n",
      "Epoch: 3, Step: 0, Loss: 0.1360480636358261, Accuracy: 92.69999694824219 %\n",
      "[3,   300] loss: 0.695\n",
      "Epoch: 3, Step: 300, Loss: 0.43455246090888977, Accuracy: 93.8499984741211 %\n",
      "[3,   600] loss: 0.596\n",
      "Epoch: 3, Step: 600, Loss: 0.30932754278182983, Accuracy: 94.86000061035156 %\n",
      "[3,   900] loss: 0.554\n",
      "Epoch: 3, Step: 900, Loss: 0.20220321416854858, Accuracy: 95.25 %\n",
      "[4,     0] loss: 0.002\n",
      "Epoch: 4, Step: 0, Loss: 0.16119366884231567, Accuracy: 95.47000122070312 %\n",
      "[4,   300] loss: 0.471\n",
      "Epoch: 4, Step: 300, Loss: 0.06930987536907196, Accuracy: 95.93000030517578 %\n",
      "[4,   600] loss: 0.404\n",
      "Epoch: 4, Step: 600, Loss: 0.19207581877708435, Accuracy: 95.90999603271484 %\n",
      "[4,   900] loss: 0.399\n",
      "Epoch: 4, Step: 900, Loss: 0.0717926174402237, Accuracy: 96.36000061035156 %\n",
      "[5,     0] loss: 0.001\n",
      "Epoch: 5, Step: 0, Loss: 0.09940896183252335, Accuracy: 96.22999572753906 %\n",
      "[5,   300] loss: 0.366\n",
      "Epoch: 5, Step: 300, Loss: 0.04744352400302887, Accuracy: 96.66999816894531 %\n",
      "[5,   600] loss: 0.359\n",
      "Epoch: 5, Step: 600, Loss: 0.0957467183470726, Accuracy: 96.8699951171875 %\n",
      "[5,   900] loss: 0.305\n",
      "Epoch: 5, Step: 900, Loss: 0.08983516693115234, Accuracy: 97.04000091552734 %\n",
      "[6,     0] loss: 0.001\n",
      "Epoch: 6, Step: 0, Loss: 0.06613738089799881, Accuracy: 96.95999908447266 %\n",
      "[6,   300] loss: 0.294\n",
      "Epoch: 6, Step: 300, Loss: 0.10142607986927032, Accuracy: 97.29999542236328 %\n",
      "[6,   600] loss: 0.299\n",
      "Epoch: 6, Step: 600, Loss: 0.07120589911937714, Accuracy: 97.2699966430664 %\n",
      "[6,   900] loss: 0.279\n",
      "Epoch: 6, Step: 900, Loss: 0.1472204178571701, Accuracy: 97.27999877929688 %\n",
      "[7,     0] loss: 0.000\n",
      "Epoch: 7, Step: 0, Loss: 0.035320911556482315, Accuracy: 97.52999877929688 %\n",
      "[7,   300] loss: 0.255\n",
      "Epoch: 7, Step: 300, Loss: 0.08795128017663956, Accuracy: 97.5 %\n",
      "[7,   600] loss: 0.256\n",
      "Epoch: 7, Step: 600, Loss: 0.030852995812892914, Accuracy: 97.43000030517578 %\n",
      "[7,   900] loss: 0.257\n",
      "Epoch: 7, Step: 900, Loss: 0.08038916438817978, Accuracy: 97.47000122070312 %\n",
      "[8,     0] loss: 0.001\n",
      "Epoch: 8, Step: 0, Loss: 0.05892249196767807, Accuracy: 97.66999816894531 %\n",
      "[8,   300] loss: 0.244\n",
      "Epoch: 8, Step: 300, Loss: 0.062006138265132904, Accuracy: 97.00999450683594 %\n",
      "[8,   600] loss: 0.236\n",
      "Epoch: 8, Step: 600, Loss: 0.01798548921942711, Accuracy: 97.72000122070312 %\n",
      "[8,   900] loss: 0.224\n",
      "Epoch: 8, Step: 900, Loss: 0.026194438338279724, Accuracy: 97.75 %\n",
      "[9,     0] loss: 0.000\n",
      "Epoch: 9, Step: 0, Loss: 0.03444644808769226, Accuracy: 97.73999786376953 %\n",
      "[9,   300] loss: 0.227\n",
      "Epoch: 9, Step: 300, Loss: 0.05984565243124962, Accuracy: 97.94999694824219 %\n",
      "[9,   600] loss: 0.206\n",
      "Epoch: 9, Step: 600, Loss: 0.060758817940950394, Accuracy: 97.80999755859375 %\n",
      "[9,   900] loss: 0.211\n",
      "Epoch: 9, Step: 900, Loss: 0.026945075020194054, Accuracy: 97.93000030517578 %\n",
      "[10,     0] loss: 0.000\n",
      "Epoch: 10, Step: 0, Loss: 0.04949481040239334, Accuracy: 97.70999908447266 %\n",
      "[10,   300] loss: 0.202\n",
      "Epoch: 10, Step: 300, Loss: 0.03966629505157471, Accuracy: 98.0199966430664 %\n",
      "[10,   600] loss: 0.197\n",
      "Epoch: 10, Step: 600, Loss: 0.06392950564622879, Accuracy: 98.13999938964844 %\n",
      "[10,   900] loss: 0.186\n",
      "Epoch: 10, Step: 900, Loss: 0.061956580728292465, Accuracy: 98.08999633789062 %\n",
      "Finished Training\n"
     ]
    }
   ],
   "source": [
    "from torch.autograd import Variable\n",
    "\n",
    "epochs=10\n",
    "\n",
    "# for later visualiztions:\n",
    "loss_list = []\n",
    "iteration_list = []\n",
    "accuracy_list = []\n",
    "\n",
    "for epoch in range(epochs):  # loop over the dataset multiple times\n",
    "    running_loss = 0.0\n",
    "    for i, data in enumerate(train_loader, 0):\n",
    "        # get the inputs; data is a list of [inputs, labels]\n",
    "        \n",
    "        inputs, labels = data[0].to(device), data[1].to(device)\n",
    "\n",
    "        # zero the parameter gradients\n",
    "        optimizer.zero_grad()\n",
    "\n",
    "        # forward + backward + optimize\n",
    "        outputs = net(inputs)\n",
    "        loss = criterion(outputs, labels)\n",
    "        loss.backward()\n",
    "        optimizer.step()\n",
    "\n",
    "        \n",
    "        # Testing the model\n",
    "        if not (i % 50):\n",
    "            total = 0\n",
    "            correct = 0\n",
    "        \n",
    "            for images, label in test_loader:\n",
    "                images, label = images.to(device), label.to(device)\n",
    "            \n",
    "                # test = Variable(images.view(16, 3, 32, 32))\n",
    "                test = images\n",
    "            \n",
    "                output = net(test)\n",
    "            \n",
    "                predictions = torch.max(output, 1)[1].to(device)\n",
    "                correct += (predictions == label).sum()\n",
    "            \n",
    "                total += len(label)\n",
    "            \n",
    "            accuracy = (correct * 100.0) / total\n",
    "            loss_list.append(loss.data)\n",
    "            iteration_list.append(i)\n",
    "            accuracy_list.append(accuracy)\n",
    "\n",
    "        # print statistics\n",
    "        running_loss += loss.item()\n",
    "        if not (i % 300):    # print every 100 mini-batches\n",
    "            \n",
    "            print('[%d, %5d] loss: %.3f' %\n",
    "                  (epoch + 1, i, running_loss / 100))\n",
    "            running_loss = 0.0\n",
    "            \n",
    "            print(\"Epoch: {}, Step: {}, Loss: {}, Accuracy: {} %\"\n",
    "              .format(epoch + 1, i, loss.data, accuracy)\n",
    "            )\n",
    "\n",
    "print('Finished Training')"
   ]
  },
  {
   "cell_type": "code",
   "execution_count": 15,
   "metadata": {
    "colab": {
     "base_uri": "https://localhost:8080/",
     "height": 137
    },
    "id": "296iKiJuBwjY",
    "outputId": "70473513-edc0-44ac-ec7b-8f3eea7cc4fd"
   },
   "outputs": [
    {
     "data": {
      "text/plain": [
       "Net2(\n",
       "  (linear1): Linear(in_features=784, out_features=784, bias=True)\n",
       "  (linear2): Linear(in_features=784, out_features=1024, bias=True)\n",
       "  (linear3): Linear(in_features=1024, out_features=512, bias=True)\n",
       "  (linear4): Linear(in_features=512, out_features=256, bias=True)\n",
       "  (linear5): Linear(in_features=256, out_features=10, bias=True)\n",
       ")"
      ]
     },
     "execution_count": 15,
     "metadata": {
      "tags": []
     },
     "output_type": "execute_result"
    }
   ],
   "source": [
    "net2.to(device)"
   ]
  },
  {
   "cell_type": "code",
   "execution_count": 16,
   "metadata": {
    "colab": {
     "base_uri": "https://localhost:8080/",
     "height": 1000
    },
    "id": "_B934uvPcddu",
    "outputId": "4b6355d8-6cb2-4832-a8a7-6b29291ffc6c"
   },
   "outputs": [
    {
     "name": "stdout",
     "output_type": "stream",
     "text": [
      "[1,     1] loss: 0.023\n",
      "Epoch: 1, Step: 0, Loss: 2.3007113933563232, Accuracy: 12.149999618530273%\n",
      "[1,   301] loss: 6.858\n",
      "Epoch: 1, Step: 300, Loss: 2.2762625217437744, Accuracy: 24.19999885559082%\n",
      "[1,   601] loss: 6.589\n",
      "Epoch: 1, Step: 600, Loss: 2.098430633544922, Accuracy: 40.2599983215332%\n",
      "[1,   901] loss: 5.040\n",
      "Epoch: 1, Step: 900, Loss: 1.192670226097107, Accuracy: 62.82999801635742%\n",
      "[2,     1] loss: 0.011\n",
      "Epoch: 2, Step: 0, Loss: 1.1100084781646729, Accuracy: 65.20999908447266%\n",
      "[2,   301] loss: 2.786\n",
      "Epoch: 2, Step: 300, Loss: 0.5499734878540039, Accuracy: 77.68999481201172%\n",
      "[2,   601] loss: 1.963\n",
      "Epoch: 2, Step: 600, Loss: 0.5528002977371216, Accuracy: 83.05999755859375%\n",
      "[2,   901] loss: 1.619\n",
      "Epoch: 2, Step: 900, Loss: 0.5476832389831543, Accuracy: 85.29999542236328%\n",
      "[3,     1] loss: 0.005\n",
      "Epoch: 3, Step: 0, Loss: 0.5209524631500244, Accuracy: 85.66999816894531%\n",
      "[3,   301] loss: 1.378\n",
      "Epoch: 3, Step: 300, Loss: 0.3185151219367981, Accuracy: 87.3499984741211%\n",
      "[3,   601] loss: 1.254\n",
      "Epoch: 3, Step: 600, Loss: 0.6112736463546753, Accuracy: 88.18000030517578%\n",
      "[3,   901] loss: 1.162\n",
      "Epoch: 3, Step: 900, Loss: 0.42803749442100525, Accuracy: 89.02999877929688%\n",
      "[4,     1] loss: 0.002\n",
      "Epoch: 4, Step: 0, Loss: 0.2244035005569458, Accuracy: 89.40999603271484%\n",
      "[4,   301] loss: 1.105\n",
      "Epoch: 4, Step: 300, Loss: 0.322395384311676, Accuracy: 90.18999481201172%\n",
      "[4,   601] loss: 1.013\n",
      "Epoch: 4, Step: 600, Loss: 0.21053919196128845, Accuracy: 90.79999542236328%\n",
      "[4,   901] loss: 0.959\n",
      "Epoch: 4, Step: 900, Loss: 0.2636544704437256, Accuracy: 91.04000091552734%\n",
      "[5,     1] loss: 0.003\n",
      "Epoch: 5, Step: 0, Loss: 0.2820416986942291, Accuracy: 91.18999481201172%\n",
      "[5,   301] loss: 0.914\n",
      "Epoch: 5, Step: 300, Loss: 0.2407315969467163, Accuracy: 91.57999420166016%\n",
      "[5,   601] loss: 0.893\n",
      "Epoch: 5, Step: 600, Loss: 0.5742928981781006, Accuracy: 91.47999572753906%\n",
      "[5,   901] loss: 0.865\n",
      "Epoch: 5, Step: 900, Loss: 0.2863615155220032, Accuracy: 91.98999786376953%\n",
      "[6,     1] loss: 0.006\n",
      "Epoch: 6, Step: 0, Loss: 0.6297451257705688, Accuracy: 91.73999786376953%\n",
      "[6,   301] loss: 0.808\n",
      "Epoch: 6, Step: 300, Loss: 0.4156312346458435, Accuracy: 92.32999420166016%\n",
      "[6,   601] loss: 0.762\n",
      "Epoch: 6, Step: 600, Loss: 0.21199320256710052, Accuracy: 92.23999786376953%\n",
      "[6,   901] loss: 0.791\n",
      "Epoch: 6, Step: 900, Loss: 0.19428691267967224, Accuracy: 92.97000122070312%\n",
      "[7,     1] loss: 0.002\n",
      "Epoch: 7, Step: 0, Loss: 0.17528457939624786, Accuracy: 92.65999603271484%\n",
      "[7,   301] loss: 0.733\n",
      "Epoch: 7, Step: 300, Loss: 0.18432575464248657, Accuracy: 93.19999694824219%\n",
      "[7,   601] loss: 0.685\n",
      "Epoch: 7, Step: 600, Loss: 0.2583426237106323, Accuracy: 93.06999969482422%\n",
      "[7,   901] loss: 0.673\n",
      "Epoch: 7, Step: 900, Loss: 0.20756860077381134, Accuracy: 93.77999877929688%\n",
      "[8,     1] loss: 0.003\n",
      "Epoch: 8, Step: 0, Loss: 0.2819937467575073, Accuracy: 93.44999694824219%\n",
      "[8,   301] loss: 0.653\n",
      "Epoch: 8, Step: 300, Loss: 0.11811750382184982, Accuracy: 94.0199966430664%\n",
      "[8,   601] loss: 0.620\n",
      "Epoch: 8, Step: 600, Loss: 0.3221316635608673, Accuracy: 94.22000122070312%\n",
      "[8,   901] loss: 0.575\n",
      "Epoch: 8, Step: 900, Loss: 0.12318910658359528, Accuracy: 94.04999542236328%\n",
      "[9,     1] loss: 0.001\n",
      "Epoch: 9, Step: 0, Loss: 0.1199766993522644, Accuracy: 93.89999389648438%\n",
      "[9,   301] loss: 0.567\n",
      "Epoch: 9, Step: 300, Loss: 0.2377181202173233, Accuracy: 94.72000122070312%\n",
      "[9,   601] loss: 0.556\n",
      "Epoch: 9, Step: 600, Loss: 0.16736815869808197, Accuracy: 94.47999572753906%\n",
      "[9,   901] loss: 0.526\n",
      "Epoch: 9, Step: 900, Loss: 0.20779819786548615, Accuracy: 94.73999786376953%\n",
      "[10,     1] loss: 0.001\n",
      "Epoch: 10, Step: 0, Loss: 0.0728069320321083, Accuracy: 94.86000061035156%\n",
      "[10,   301] loss: 0.511\n",
      "Epoch: 10, Step: 300, Loss: 0.18262755870819092, Accuracy: 95.13999938964844%\n",
      "[10,   601] loss: 0.495\n",
      "Epoch: 10, Step: 600, Loss: 0.14507435262203217, Accuracy: 95.1199951171875%\n",
      "[10,   901] loss: 0.460\n",
      "Epoch: 10, Step: 900, Loss: 0.12128391116857529, Accuracy: 95.13999938964844%\n",
      "Finished Training\n"
     ]
    }
   ],
   "source": [
    "from torch.autograd import Variable\n",
    "\n",
    "# for later visualiztions:\n",
    "loss_list2 = []\n",
    "iteration_list2 = []\n",
    "accuracy_list2 = []\n",
    "\n",
    "\n",
    "for epoch in range(epochs):  # loop over the dataset multiple times\n",
    "    running_loss = 0.0\n",
    "    for i, data in enumerate(train_loader, 0):\n",
    "        # get the inputs; data is a list of [inputs, labels]\n",
    "        \n",
    "        # inputs, labels = data[0], data[1]\n",
    "        inputs, labels = data[0].to(device), data[1].to(device)\n",
    " \n",
    "        # zero the parameter gradients\n",
    "        optimizer2.zero_grad()\n",
    " \n",
    "        # forward + backward + optimize\n",
    "        outputs = net2(inputs)\n",
    "        loss = criterion2(outputs, labels)\n",
    "        loss.backward()\n",
    "        optimizer2.step()\n",
    " \n",
    "        \n",
    "        # Testing the model\n",
    "        if not (i % 50):\n",
    "            total = 0\n",
    "            correct = 0\n",
    "        \n",
    "            for images, label in test_loader:\n",
    "                images, label = images.to(device), label.to(device)\n",
    "            \n",
    "                # test = Variable(images.view(4, 3, 32, 32))\n",
    "                test = images\n",
    "            \n",
    "                output = net2(test)\n",
    "            \n",
    "                predictions = torch.max(output, 1)[1].to(device)\n",
    "                correct += (predictions == label).sum()\n",
    "            \n",
    "                total += len(label)\n",
    "            \n",
    "            accuracy = (correct * 100.0) / total\n",
    "            loss_list2.append(loss.data)\n",
    "            iteration_list2.append(i)\n",
    "            accuracy_list2.append(accuracy)\n",
    "\n",
    "        # print statistics\n",
    "        running_loss += loss.item()\n",
    "        if not (i % 300):    # print every 100 mini-batches\n",
    "            \n",
    "            print('[%d, %5d] loss: %.3f' %\n",
    "                  (epoch + 1, i + 1, running_loss / 100))\n",
    "            running_loss = 0.0\n",
    "            \n",
    "            print(\"Epoch: {}, Step: {}, Loss: {}, Accuracy: {}%\"\n",
    "              .format(epoch + 1, i, loss.data, accuracy)\n",
    "            )\n",
    "\n",
    "print('Finished Training')"
   ]
  },
  {
   "cell_type": "markdown",
   "metadata": {
    "id": "zgCHcn7NIzTm"
   },
   "source": [
    "Let's save our models:"
   ]
  },
  {
   "cell_type": "code",
   "execution_count": 17,
   "metadata": {
    "id": "vBJJegetTQLC"
   },
   "outputs": [],
   "source": [
    "path1 = './mnist.pth'\n",
    "path2 = './mnist2.pth'\n",
    "torch.save(net.state_dict(), path1)\n",
    "torch.save(net2.state_dict(), path2)"
   ]
  },
  {
   "cell_type": "markdown",
   "metadata": {
    "id": "hndOXNyhTQLJ"
   },
   "source": [
    " Test the network on the test data\n",
    "We have trained the network for 2 passes over the training dataset. But we need to check if the network has learnt anything at all.\n",
    "\n",
    "We will check this by predicting the class label that the neural network outputs, and checking it against the real values. If the prediction is correct, we add the sample to the list of correct predictions.\n",
    "\n",
    "Okay, first step. Let us display an image from the test set to get familiar."
   ]
  },
  {
   "cell_type": "markdown",
   "metadata": {
    "id": "W19QH9S-JmtX"
   },
   "source": [
    "Test Network_1 (CNN):"
   ]
  },
  {
   "cell_type": "code",
   "execution_count": 18,
   "metadata": {
    "colab": {
     "base_uri": "https://localhost:8080/",
     "height": 138
    },
    "id": "ARDNOiAPTQLS",
    "outputId": "46f130a2-52e5-49e6-ceb7-2dc19ed37033"
   },
   "outputs": [
    {
     "data": {
      "image/png": "[encoded data removed]",
      "text/plain": [
       "<Figure size 432x288 with 1 Axes>"
      ]
     },
     "metadata": {
      "needs_background": "light",
      "tags": []
     },
     "output_type": "display_data"
    },
    {
     "name": "stdout",
     "output_type": "stream",
     "text": [
      "Real values:      7     2     1     0     4\n"
     ]
    }
   ],
   "source": [
    "dataiter = iter(test_loader)\n",
    "images, labels = dataiter.next()\n",
    "\n",
    "# print images\n",
    "imshow(torchvision.utils.make_grid(images[0:5]))\n",
    "print('Real values: ', ' '.join('%5s' % classes[labels[j]] for j in range(5)))"
   ]
  },
  {
   "cell_type": "code",
   "execution_count": 19,
   "metadata": {
    "id": "9y6E24bxTQLZ"
   },
   "outputs": [],
   "source": [
    "outputs = net(images.to(device))"
   ]
  },
  {
   "cell_type": "markdown",
   "metadata": {
    "id": "H4wBxES_TQLf"
   },
   "source": [
    "The outputs are energies for the 10 classes. The higher the energy for a class, the more the network thinks that the image is of the particular class. So, let’s get the index of the highest energy:"
   ]
  },
  {
   "cell_type": "code",
   "execution_count": 20,
   "metadata": {
    "colab": {
     "base_uri": "https://localhost:8080/",
     "height": 34
    },
    "id": "e0XrdpOuTQLh",
    "outputId": "0294ca8b-88a5-4586-e80f-74dbbc6be508"
   },
   "outputs": [
    {
     "name": "stdout",
     "output_type": "stream",
     "text": [
      "Predicted:      7     2     1     0     4\n"
     ]
    }
   ],
   "source": [
    "_, predicted = torch.max(outputs, 1)\n",
    "\n",
    "print('Predicted: ', ' '.join('%5s' % classes[predicted[j]]\n",
    "                              for j in range(5)))"
   ]
  },
  {
   "cell_type": "markdown",
   "metadata": {
    "id": "-S954HhRKdGW"
   },
   "source": [
    "The second net (simple fully connected):"
   ]
  },
  {
   "cell_type": "code",
   "execution_count": 21,
   "metadata": {
    "colab": {
     "base_uri": "https://localhost:8080/",
     "height": 34
    },
    "id": "t0GW0Ss0KbIv",
    "outputId": "83e2d181-7a41-4e9c-e118-cda47081b7bd"
   },
   "outputs": [
    {
     "name": "stdout",
     "output_type": "stream",
     "text": [
      "Predicted:      7     2     1     0     4\n"
     ]
    }
   ],
   "source": [
    "outputs2 = net2(images.to(device))\n",
    "_, predicted2 = torch.max(outputs2, 1)\n",
    "\n",
    "print('Predicted: ', ' '.join('%5s' % classes[predicted2[j]]\n",
    "                              for j in range(5)))"
   ]
  },
  {
   "cell_type": "markdown",
   "metadata": {
    "id": "x61ZiEyaTQLn"
   },
   "source": [
    "Let's do some evaluations:"
   ]
  },
  {
   "cell_type": "code",
   "execution_count": 22,
   "metadata": {
    "colab": {
     "base_uri": "https://localhost:8080/",
     "height": 34
    },
    "id": "x0rFZ_VFTQLo",
    "outputId": "7e01a508-9c9a-40db-c7a1-5b9ea130bbcc"
   },
   "outputs": [
    {
     "name": "stdout",
     "output_type": "stream",
     "text": [
      "Accuracy of the network on the 10000 test images: 98 %\n"
     ]
    }
   ],
   "source": [
    "correct = 0\n",
    "total = 0\n",
    "with torch.no_grad():\n",
    "    for data in test_loader:\n",
    "        # images, labels = data\n",
    "        images, labels = data[0].to(device), data[1].to(device)\n",
    "        outputs = net(images)\n",
    "        _, predicted = torch.max(outputs.data, 1)\n",
    "        total += labels.size(0)\n",
    "        correct += (predicted == labels).sum().item()\n",
    "\n",
    "print('Accuracy of the network on the 10000 test images: %d %%' % (100.0 * correct / total))"
   ]
  },
  {
   "cell_type": "markdown",
   "metadata": {
    "id": "geMeaPCTK7lO"
   },
   "source": [
    "And for the second net:"
   ]
  },
  {
   "cell_type": "code",
   "execution_count": 23,
   "metadata": {
    "colab": {
     "base_uri": "https://localhost:8080/",
     "height": 34
    },
    "id": "tIlgsX4GK6-K",
    "outputId": "dae8a31e-70a5-4f01-d117-c74be1b7eaa9"
   },
   "outputs": [
    {
     "name": "stdout",
     "output_type": "stream",
     "text": [
      "Accuracy of the network on the 10000 test images: 95 %\n"
     ]
    }
   ],
   "source": [
    "correct = 0\n",
    "total = 0\n",
    "with torch.no_grad():\n",
    "    for data in test_loader:\n",
    "        # images, labels = data\n",
    "        images, labels = data[0].to(device), data[1].to(device)\n",
    "        outputs = net2(images)\n",
    "        _, predicted = torch.max(outputs.data, 1)\n",
    "        total += labels.size(0)\n",
    "        correct += (predicted == labels).sum().item()\n",
    "\n",
    "print('Accuracy of the network on the 10000 test images: %d %%' % (100.0 * correct / total))"
   ]
  },
  {
   "cell_type": "markdown",
   "metadata": {
    "id": "vXIcSrEATQLu"
   },
   "source": [
    "That looks way better than chance, which is 10% accuracy (randomly picking a class out of 10 classes). Seems like the network learnt something.\n",
    "\n",
    "Hmmm, what are the classes that performed well, and the classes that did not perform well:"
   ]
  },
  {
   "cell_type": "markdown",
   "metadata": {
    "id": "hQId7ZttLRYF"
   },
   "source": [
    "CNN:"
   ]
  },
  {
   "cell_type": "code",
   "execution_count": 24,
   "metadata": {
    "colab": {
     "base_uri": "https://localhost:8080/",
     "height": 188
    },
    "id": "bU5rrWRaTQLv",
    "outputId": "0c4e8c4e-7831-4778-a37b-ca074380267d"
   },
   "outputs": [
    {
     "name": "stdout",
     "output_type": "stream",
     "text": [
      "Accuracy of     0 : 97 %\n",
      "Accuracy of     1 : 98 %\n",
      "Accuracy of     2 : 98 %\n",
      "Accuracy of     3 : 98 %\n",
      "Accuracy of     4 : 98 %\n",
      "Accuracy of     5 : 98 %\n",
      "Accuracy of     6 : 97 %\n",
      "Accuracy of     7 : 97 %\n",
      "Accuracy of     8 : 98 %\n",
      "Accuracy of     9 : 96 %\n"
     ]
    }
   ],
   "source": [
    "class_correct = list(0. for i in range(10))\n",
    "class_total = list(0. for i in range(10))\n",
    "with torch.no_grad():\n",
    "    for data in test_loader:\n",
    "        # images, labels = data\n",
    "        images, labels = data[0].to(device), data[1].to(device)\n",
    "        outputs = net(images)\n",
    "        _, predicted = torch.max(outputs, 1)\n",
    "        c = (predicted == labels).squeeze()\n",
    "        for i in range(16):\n",
    "            label = labels[i]\n",
    "            class_correct[label] += c[i].item()\n",
    "            class_total[label] += 1\n",
    "\n",
    "\n",
    "for i in range(10):\n",
    "    print('Accuracy of %5s : %2d %%' % (\n",
    "        classes[i], 100.0 * class_correct[i] / class_total[i]))"
   ]
  },
  {
   "cell_type": "markdown",
   "metadata": {
    "id": "Nr7caQ8ILUgE"
   },
   "source": [
    "Fully-Connected:"
   ]
  },
  {
   "cell_type": "code",
   "execution_count": 25,
   "metadata": {
    "colab": {
     "base_uri": "https://localhost:8080/",
     "height": 188
    },
    "id": "XXzaw3kDLWzs",
    "outputId": "87be0c5c-e013-4520-eca8-7b5c06f79d67"
   },
   "outputs": [
    {
     "name": "stdout",
     "output_type": "stream",
     "text": [
      "Accuracy of     0 : 97 %\n",
      "Accuracy of     1 : 98 %\n",
      "Accuracy of     2 : 95 %\n",
      "Accuracy of     3 : 96 %\n",
      "Accuracy of     4 : 95 %\n",
      "Accuracy of     5 : 91 %\n",
      "Accuracy of     6 : 95 %\n",
      "Accuracy of     7 : 96 %\n",
      "Accuracy of     8 : 94 %\n",
      "Accuracy of     9 : 93 %\n"
     ]
    }
   ],
   "source": [
    "class_correct = list(0. for i in range(10))\n",
    "class_total = list(0. for i in range(10))\n",
    "with torch.no_grad():\n",
    "    for data in test_loader:\n",
    "        # images, labels = data\n",
    "        images, labels = data[0].to(device), data[1].to(device)\n",
    "        outputs = net2(images)\n",
    "        _, predicted = torch.max(outputs, 1)\n",
    "        c = (predicted == labels).squeeze()\n",
    "        for i in range(16):\n",
    "            label = labels[i]\n",
    "            class_correct[label] += c[i].item()\n",
    "            class_total[label] += 1\n",
    "\n",
    "\n",
    "for i in range(10):\n",
    "    print('Accuracy of %5s : %2d %%' % (\n",
    "        classes[i], 100.0 * class_correct[i] / class_total[i]))"
   ]
  },
  {
   "cell_type": "markdown",
   "metadata": {
    "id": "NY_o0cxS2bWY"
   },
   "source": [
    "The accuracy of 5 is a bit lower. It's quiet natural, even I sometimes mistake handwritten 5 with 6."
   ]
  },
  {
   "cell_type": "markdown",
   "metadata": {
    "id": "K4mTdJEyLgus"
   },
   "source": [
    "Let's do the visualiztions I promised you:"
   ]
  },
  {
   "cell_type": "markdown",
   "metadata": {
    "id": "0Ycm_PpALl18"
   },
   "source": [
    "CNN:"
   ]
  },
  {
   "cell_type": "code",
   "execution_count": 26,
   "metadata": {
    "colab": {
     "base_uri": "https://localhost:8080/",
     "height": 573
    },
    "id": "Dz4MeDezcB87",
    "outputId": "d08be008-fc55-4429-a0f5-6fb47b8ba227"
   },
   "outputs": [
    {
     "data": {
      "image/png": "[encoded data removed]",
      "text/plain": [
       "<Figure size 432x288 with 1 Axes>"
      ]
     },
     "metadata": {
      "needs_background": "light",
      "tags": []
     },
     "output_type": "display_data"
    },
    {
     "data": {
      "image/png": "[encoded data removed]",
      "text/plain": [
       "<Figure size 432x288 with 1 Axes>"
      ]
     },
     "metadata": {
      "needs_background": "light",
      "tags": []
     },
     "output_type": "display_data"
    }
   ],
   "source": [
    "mtplt.plot(range(len(accuracy_list)), accuracy_list)\n",
    "mtplt.xlabel(\"# Step\")\n",
    "mtplt.ylabel(\"Accuracy\")\n",
    "mtplt.title(\"Step vs Accuracy\")\n",
    "mtplt.show()\n",
    "\n",
    "mtplt.plot(range(len(loss_list)), loss_list)\n",
    "mtplt.xlabel(\"# Step\")\n",
    "mtplt.ylabel(\"Loss\")\n",
    "mtplt.title(\"Step vs Loss\")\n",
    "mtplt.show()"
   ]
  },
  {
   "cell_type": "markdown",
   "metadata": {
    "id": "5G5xjz30Lm3s"
   },
   "source": [
    "FC:"
   ]
  },
  {
   "cell_type": "code",
   "execution_count": 27,
   "metadata": {
    "colab": {
     "base_uri": "https://localhost:8080/",
     "height": 573
    },
    "id": "SbQXP3SsTQL1",
    "outputId": "9b9053a3-42db-4a55-fc7a-b7bf1a9a20fd"
   },
   "outputs": [
    {
     "data": {
      "image/png": "[encoded data removed]",
      "text/plain": [
       "<Figure size 432x288 with 1 Axes>"
      ]
     },
     "metadata": {
      "needs_background": "light",
      "tags": []
     },
     "output_type": "display_data"
    },
    {
     "data": {
      "image/png": "[encoded data removed]",
      "text/plain": [
       "<Figure size 432x288 with 1 Axes>"
      ]
     },
     "metadata": {
      "needs_background": "light",
      "tags": []
     },
     "output_type": "display_data"
    }
   ],
   "source": [
    "mtplt.plot(range(len(accuracy_list2)), accuracy_list2)\n",
    "mtplt.xlabel(\"# Step\")\n",
    "mtplt.ylabel(\"Accuracy\")\n",
    "mtplt.title(\"Step vs Accuracy\")\n",
    "mtplt.show()\n",
    "\n",
    "mtplt.plot(range(len(loss_list2)), loss_list2)\n",
    "mtplt.xlabel(\"# Step\")\n",
    "mtplt.ylabel(\"Loss\")\n",
    "mtplt.title(\"Step vs Loss\")\n",
    "mtplt.show()"
   ]
  }
 ],
 "metadata": {
  "accelerator": "GPU",
  "colab": {
   "collapsed_sections": [],
   "name": "ARBITRARY_1.ipynb",
   "provenance": []
  },
  "kernelspec": {
   "display_name": "Python 3",
   "language": "python",
   "name": "python3"
  },
  "language_info": {
   "codemirror_mode": {
    "name": "ipython",
    "version": 3
   },
   "file_extension": ".py",
   "mimetype": "text/x-python",
   "name": "python",
   "nbconvert_exporter": "python",
   "pygments_lexer": "ipython3",
   "version": "3.7.4"
  }
 },
 "nbformat": 4,
 "nbformat_minor": 1
}
