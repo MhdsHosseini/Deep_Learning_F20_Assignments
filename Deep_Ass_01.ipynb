{
 "cells": [
  {
   "cell_type": "markdown",
   "metadata": {},
   "source": [
    "## Deep Learning Course\n",
    "* Autumn 2020\n",
    "* Shahid Beheshti University\n",
    "\n",
    "My Github repository for this course can be found at <a href=\"https://github.com/MhdsHosseini/Deep_Learning_F20_Assignments\" target=\"_blank\">\n",
    "' Mahdis Hosseini '"
   ]
  },
  {
   "cell_type": "code",
   "execution_count": null,
   "metadata": {},
   "outputs": [],
   "source": []
  }
 ],
 "metadata": {
  "kernelspec": {
   "display_name": "Python 3",
   "language": "python",
   "name": "python3"
  },
  "language_info": {
   "codemirror_mode": {
    "name": "ipython",
    "version": 3
   },
   "file_extension": ".py",
   "mimetype": "text/x-python",
   "name": "python",
   "nbconvert_exporter": "python",
   "pygments_lexer": "ipython3",
   "version": "3.7.9"
  }
 },
 "nbformat": 4,
 "nbformat_minor": 4
}
